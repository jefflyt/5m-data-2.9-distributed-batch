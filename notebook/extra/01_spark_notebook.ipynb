{
 "cells": [
  {
   "cell_type": "markdown",
   "id": "61dfacb1",
   "metadata": {},
   "source": [
    "# Installation:\n",
    "\n",
    "\n",
    "conda create -n pysparklesson python=3.9  \n",
    "conda activate pysparklesson  \n",
    "conda install -c conda-forge pyspark  \n",
    "pip install jupyter  \n",
    "jupyter notebook  "
   ]
  },
  {
   "cell_type": "code",
   "execution_count": 1,
   "id": "78fc0296",
   "metadata": {},
   "outputs": [],
   "source": [
    "from pyspark.sql import SparkSession,Row, functions as sql_f\n",
    "from pyspark import SparkContext, SQLContext,SparkConf\n",
    "\n",
    "# \n",
    "from pyspark.sql.functions import pandas_udf, PandasUDFType\n",
    "\n",
    "# schema \n",
    "from pyspark.sql.types import *\n",
    "\n",
    "import pandas as pd\n",
    "import numpy as np"
   ]
  },
  {
   "cell_type": "code",
   "execution_count": 2,
   "id": "59525403",
   "metadata": {},
   "outputs": [],
   "source": [
    "# define spark context (boilerplate)"
   ]
  },
  {
   "cell_type": "code",
   "execution_count": 3,
   "id": "e8f914e5",
   "metadata": {},
   "outputs": [
    {
     "name": "stderr",
     "output_type": "stream",
     "text": [
      "Setting default log level to \"WARN\".\n",
      "To adjust logging level use sc.setLogLevel(newLevel). For SparkR, use setLogLevel(newLevel).\n",
      "23/05/02 21:35:43 WARN NativeCodeLoader: Unable to load native-hadoop library for your platform... using builtin-java classes where applicable\n"
     ]
    }
   ],
   "source": [
    "conf = SparkConf().setMaster(\"local[*]\").set(\"spark.sql.execution.arrow.pyspark.enabled\", \"true\")\n",
    "sc = SparkContext(conf=conf)\n",
    "spark = SparkSession(sc)"
   ]
  },
  {
   "cell_type": "markdown",
   "id": "e45a71a6",
   "metadata": {},
   "source": [
    "# Load csv"
   ]
  },
  {
   "cell_type": "code",
   "execution_count": 4,
   "id": "9bbef4d7",
   "metadata": {},
   "outputs": [],
   "source": [
    "train = spark.read.csv(path=\"data/train.csv\",\n",
    "                      header=True,\n",
    "                      inferSchema=True)"
   ]
  },
  {
   "cell_type": "code",
   "execution_count": 5,
   "id": "ae35e813",
   "metadata": {},
   "outputs": [
    {
     "name": "stdout",
     "output_type": "stream",
     "text": [
      "+-------+----------+------+-----+----------+-------------+--------------------------+--------------+------------------+------------------+------------------+--------+\n",
      "|User_ID|Product_ID|Gender|  Age|Occupation|City_Category|Stay_In_Current_City_Years|Marital_Status|Product_Category_1|Product_Category_2|Product_Category_3|Purchase|\n",
      "+-------+----------+------+-----+----------+-------------+--------------------------+--------------+------------------+------------------+------------------+--------+\n",
      "|1000001| P00069042|     F| 0-17|        10|            A|                         2|             0|                 3|              null|              null|    8370|\n",
      "|1000001| P00248942|     F| 0-17|        10|            A|                         2|             0|                 1|                 6|                14|   15200|\n",
      "|1000001| P00087842|     F| 0-17|        10|            A|                         2|             0|                12|              null|              null|    1422|\n",
      "|1000001| P00085442|     F| 0-17|        10|            A|                         2|             0|                12|                14|              null|    1057|\n",
      "|1000002| P00285442|     M|  55+|        16|            C|                        4+|             0|                 8|              null|              null|    7969|\n",
      "|1000003| P00193542|     M|26-35|        15|            A|                         3|             0|                 1|                 2|              null|   15227|\n",
      "|1000004| P00184942|     M|46-50|         7|            B|                         2|             1|                 1|                 8|                17|   19215|\n",
      "|1000004| P00346142|     M|46-50|         7|            B|                         2|             1|                 1|                15|              null|   15854|\n",
      "|1000004|  P0097242|     M|46-50|         7|            B|                         2|             1|                 1|                16|              null|   15686|\n",
      "|1000005| P00274942|     M|26-35|        20|            A|                         1|             1|                 8|              null|              null|    7871|\n",
      "+-------+----------+------+-----+----------+-------------+--------------------------+--------------+------------------+------------------+------------------+--------+\n",
      "only showing top 10 rows\n",
      "\n"
     ]
    }
   ],
   "source": [
    "train.show(n=10)"
   ]
  },
  {
   "cell_type": "code",
   "execution_count": 8,
   "id": "ff1f1675",
   "metadata": {},
   "outputs": [
    {
     "name": "stdout",
     "output_type": "stream",
     "text": [
      "root\n",
      " |-- User_ID: integer (nullable = true)\n",
      " |-- Product_ID: string (nullable = true)\n",
      " |-- Gender: string (nullable = true)\n",
      " |-- Age: string (nullable = true)\n",
      " |-- Occupation: integer (nullable = true)\n",
      " |-- City_Category: string (nullable = true)\n",
      " |-- Stay_In_Current_City_Years: string (nullable = true)\n",
      " |-- Marital_Status: integer (nullable = true)\n",
      " |-- Product_Category_1: integer (nullable = true)\n",
      " |-- Product_Category_2: integer (nullable = true)\n",
      " |-- Product_Category_3: integer (nullable = true)\n",
      " |-- Purchase: integer (nullable = true)\n",
      "\n"
     ]
    }
   ],
   "source": [
    "train.printSchema()"
   ]
  },
  {
   "cell_type": "markdown",
   "id": "8824b500",
   "metadata": {},
   "source": [
    "# Shape"
   ]
  },
  {
   "cell_type": "code",
   "execution_count": 9,
   "id": "c2b3cd04",
   "metadata": {},
   "outputs": [
    {
     "data": {
      "text/plain": [
       "550068"
      ]
     },
     "execution_count": 9,
     "metadata": {},
     "output_type": "execute_result"
    }
   ],
   "source": [
    "train.count()"
   ]
  },
  {
   "cell_type": "code",
   "execution_count": 10,
   "id": "fc50d62c",
   "metadata": {},
   "outputs": [
    {
     "data": {
      "text/plain": [
       "12"
      ]
     },
     "execution_count": 10,
     "metadata": {},
     "output_type": "execute_result"
    }
   ],
   "source": [
    "len(train.columns)"
   ]
  },
  {
   "cell_type": "markdown",
   "id": "261d023d",
   "metadata": {},
   "source": [
    "# Filtering"
   ]
  },
  {
   "cell_type": "code",
   "execution_count": 12,
   "id": "835807f4",
   "metadata": {},
   "outputs": [],
   "source": [
    "train_filtered = train.filter(train.Purchase > 100)"
   ]
  },
  {
   "cell_type": "code",
   "execution_count": 23,
   "id": "18234c12",
   "metadata": {},
   "outputs": [],
   "source": [
    "train_filtered_2 = train.where(train.Purchase > 100)"
   ]
  },
  {
   "cell_type": "code",
   "execution_count": 24,
   "id": "3a4ec4bb",
   "metadata": {},
   "outputs": [],
   "source": [
    "assert train_filtered_2.count() == train_filtered.count()"
   ]
  },
  {
   "cell_type": "markdown",
   "id": "5b1a68cf",
   "metadata": {},
   "source": [
    "# Select columns, sum, rename"
   ]
  },
  {
   "cell_type": "code",
   "execution_count": 19,
   "id": "257ed36c",
   "metadata": {},
   "outputs": [],
   "source": [
    "train_filtered = train_filtered.select(\"User_ID\",\n",
    "                                       \"Purchase\"\n",
    "                                      )"
   ]
  },
  {
   "cell_type": "code",
   "execution_count": 25,
   "id": "6e82d9f1",
   "metadata": {},
   "outputs": [],
   "source": [
    "train_filtered = train.where(train.Purchase > 100).select(\"Purchase\")"
   ]
  },
  {
   "cell_type": "code",
   "execution_count": 32,
   "id": "0ae2d399",
   "metadata": {},
   "outputs": [],
   "source": [
    "train_filtered = train.where(train.Purchase > 100).\\\n",
    "                 select(sql_f.sum(\"Purchase\").\\\n",
    "                        alias(\"total_purchase_value\"))"
   ]
  },
  {
   "cell_type": "code",
   "execution_count": 33,
   "id": "6158c9e2",
   "metadata": {},
   "outputs": [
    {
     "name": "stdout",
     "output_type": "stream",
     "text": [
      "+--------------------+\n",
      "|total_purchase_value|\n",
      "+--------------------+\n",
      "|          5095753364|\n",
      "+--------------------+\n",
      "\n"
     ]
    }
   ],
   "source": [
    "train_filtered.show()"
   ]
  },
  {
   "cell_type": "code",
   "execution_count": 42,
   "id": "87bee0c3",
   "metadata": {},
   "outputs": [],
   "source": [
    "total_distinct_users = train.where(train.Purchase > 100).\\\n",
    "                       select(sql_f.countDistinct(\"User_ID\").alias(\"total_unique_users\"))"
   ]
  },
  {
   "cell_type": "code",
   "execution_count": 43,
   "id": "8f40ac0d",
   "metadata": {},
   "outputs": [
    {
     "data": {
      "text/plain": [
       "5891"
      ]
     },
     "execution_count": 43,
     "metadata": {},
     "output_type": "execute_result"
    }
   ],
   "source": [
    "total_distinct_users.collect()[0][\"total_unique_users\"]"
   ]
  },
  {
   "cell_type": "code",
   "execution_count": 38,
   "id": "4fd357b7",
   "metadata": {},
   "outputs": [
    {
     "data": {
      "text/plain": [
       "5891"
      ]
     },
     "execution_count": 38,
     "metadata": {},
     "output_type": "execute_result"
    }
   ],
   "source": [
    "train.where(train.Purchase > 100).\\\n",
    "                       select(\"User_ID\").distinct().count()"
   ]
  },
  {
   "cell_type": "markdown",
   "id": "e42b84c9",
   "metadata": {},
   "source": [
    "# Group by"
   ]
  },
  {
   "cell_type": "code",
   "execution_count": 46,
   "id": "4f564372",
   "metadata": {},
   "outputs": [],
   "source": [
    "total_product_category_1_purchase = train.\\\n",
    "                                    groupBy(\"Product_Category_1\").\\\n",
    "                                    agg(sql_f.sum(\"Purchase\").alias(\"total_purchase\"),\n",
    "                                       sql_f.countDistinct(\"Purchase\").alias(\"total_unique_customers\"))"
   ]
  },
  {
   "cell_type": "code",
   "execution_count": 47,
   "id": "43e43aa6",
   "metadata": {},
   "outputs": [
    {
     "name": "stderr",
     "output_type": "stream",
     "text": [
      "\r",
      "[Stage 64:========>                                                 (1 + 6) / 7]\r"
     ]
    },
    {
     "name": "stdout",
     "output_type": "stream",
     "text": [
      "+------------------+--------------+----------------------+\n",
      "|Product_Category_1|total_purchase|total_unique_customers|\n",
      "+------------------+--------------+----------------------+\n",
      "|                12|       5331844|                   334|\n",
      "|                 1|    1910013754|                  3795|\n",
      "|                13|       4008601|                   189|\n",
      "|                 6|     324150302|                  3417|\n",
      "|                16|     145120612|                  3288|\n",
      "|                 3|     204084713|                  2528|\n",
      "|                20|        944727|                   120|\n",
      "|                 5|     941835229|                  1715|\n",
      "|                19|         59378|                    15|\n",
      "|                15|      92969042|                  3073|\n",
      "|                 9|       6370324|                   394|\n",
      "|                17|       5878699|                   487|\n",
      "|                 4|      27380488|                   685|\n",
      "|                 8|     854318799|                  1940|\n",
      "|                 7|      60896731|                  2091|\n",
      "|                10|     100837301|                  2390|\n",
      "|                11|     113791115|                  1475|\n",
      "|                14|      20014696|                  1198|\n",
      "|                 2|     268516186|                  3113|\n",
      "|                18|       9290201|                   610|\n",
      "+------------------+--------------+----------------------+\n",
      "\n"
     ]
    },
    {
     "name": "stderr",
     "output_type": "stream",
     "text": [
      "\r",
      "                                                                                \r"
     ]
    }
   ],
   "source": [
    "total_product_category_1_purchase.show()"
   ]
  },
  {
   "cell_type": "markdown",
   "id": "4be5fcff",
   "metadata": {},
   "source": [
    "# Dropping duplicates"
   ]
  },
  {
   "cell_type": "code",
   "execution_count": 51,
   "id": "ac81b095",
   "metadata": {},
   "outputs": [
    {
     "name": "stdout",
     "output_type": "stream",
     "text": [
      "+-----+\n",
      "|  Age|\n",
      "+-----+\n",
      "|18-25|\n",
      "|26-35|\n",
      "| 0-17|\n",
      "|46-50|\n",
      "|51-55|\n",
      "|36-45|\n",
      "|  55+|\n",
      "+-----+\n",
      "\n"
     ]
    }
   ],
   "source": [
    "train.select(\"Age\").dropDuplicates().\\\n",
    "show()"
   ]
  },
  {
   "cell_type": "markdown",
   "id": "14b73e62",
   "metadata": {},
   "source": [
    "# Joins"
   ]
  },
  {
   "cell_type": "code",
   "execution_count": 53,
   "id": "b3043807",
   "metadata": {},
   "outputs": [],
   "source": [
    "dummy1 = pd.DataFrame()\n",
    "dummy1[\"key\"] = np.arange(1000)\n",
    "dummy1[\"values\"] = np.random.randn(1000)"
   ]
  },
  {
   "cell_type": "code",
   "execution_count": 54,
   "id": "1edeb5a6",
   "metadata": {},
   "outputs": [
    {
     "data": {
      "text/html": [
       "<div>\n",
       "<style scoped>\n",
       "    .dataframe tbody tr th:only-of-type {\n",
       "        vertical-align: middle;\n",
       "    }\n",
       "\n",
       "    .dataframe tbody tr th {\n",
       "        vertical-align: top;\n",
       "    }\n",
       "\n",
       "    .dataframe thead th {\n",
       "        text-align: right;\n",
       "    }\n",
       "</style>\n",
       "<table border=\"1\" class=\"dataframe\">\n",
       "  <thead>\n",
       "    <tr style=\"text-align: right;\">\n",
       "      <th></th>\n",
       "      <th>key</th>\n",
       "      <th>values</th>\n",
       "    </tr>\n",
       "  </thead>\n",
       "  <tbody>\n",
       "    <tr>\n",
       "      <th>0</th>\n",
       "      <td>0</td>\n",
       "      <td>-1.668995</td>\n",
       "    </tr>\n",
       "    <tr>\n",
       "      <th>1</th>\n",
       "      <td>1</td>\n",
       "      <td>0.666190</td>\n",
       "    </tr>\n",
       "    <tr>\n",
       "      <th>2</th>\n",
       "      <td>2</td>\n",
       "      <td>-2.285035</td>\n",
       "    </tr>\n",
       "    <tr>\n",
       "      <th>3</th>\n",
       "      <td>3</td>\n",
       "      <td>-1.552433</td>\n",
       "    </tr>\n",
       "    <tr>\n",
       "      <th>4</th>\n",
       "      <td>4</td>\n",
       "      <td>-1.456636</td>\n",
       "    </tr>\n",
       "    <tr>\n",
       "      <th>...</th>\n",
       "      <td>...</td>\n",
       "      <td>...</td>\n",
       "    </tr>\n",
       "    <tr>\n",
       "      <th>995</th>\n",
       "      <td>995</td>\n",
       "      <td>0.136001</td>\n",
       "    </tr>\n",
       "    <tr>\n",
       "      <th>996</th>\n",
       "      <td>996</td>\n",
       "      <td>-0.018284</td>\n",
       "    </tr>\n",
       "    <tr>\n",
       "      <th>997</th>\n",
       "      <td>997</td>\n",
       "      <td>-0.458824</td>\n",
       "    </tr>\n",
       "    <tr>\n",
       "      <th>998</th>\n",
       "      <td>998</td>\n",
       "      <td>-0.572730</td>\n",
       "    </tr>\n",
       "    <tr>\n",
       "      <th>999</th>\n",
       "      <td>999</td>\n",
       "      <td>-2.610557</td>\n",
       "    </tr>\n",
       "  </tbody>\n",
       "</table>\n",
       "<p>1000 rows × 2 columns</p>\n",
       "</div>"
      ],
      "text/plain": [
       "     key    values\n",
       "0      0 -1.668995\n",
       "1      1  0.666190\n",
       "2      2 -2.285035\n",
       "3      3 -1.552433\n",
       "4      4 -1.456636\n",
       "..   ...       ...\n",
       "995  995  0.136001\n",
       "996  996 -0.018284\n",
       "997  997 -0.458824\n",
       "998  998 -0.572730\n",
       "999  999 -2.610557\n",
       "\n",
       "[1000 rows x 2 columns]"
      ]
     },
     "execution_count": 54,
     "metadata": {},
     "output_type": "execute_result"
    }
   ],
   "source": [
    "dummy1"
   ]
  },
  {
   "cell_type": "code",
   "execution_count": 55,
   "id": "792bb0ee",
   "metadata": {},
   "outputs": [],
   "source": [
    "dummy2 = pd.DataFrame()\n",
    "dummy2['key'] = np.random.choice(np.arange(1000), size = 500, replace = False)"
   ]
  },
  {
   "cell_type": "code",
   "execution_count": 56,
   "id": "b018e519",
   "metadata": {},
   "outputs": [
    {
     "data": {
      "text/html": [
       "<div>\n",
       "<style scoped>\n",
       "    .dataframe tbody tr th:only-of-type {\n",
       "        vertical-align: middle;\n",
       "    }\n",
       "\n",
       "    .dataframe tbody tr th {\n",
       "        vertical-align: top;\n",
       "    }\n",
       "\n",
       "    .dataframe thead th {\n",
       "        text-align: right;\n",
       "    }\n",
       "</style>\n",
       "<table border=\"1\" class=\"dataframe\">\n",
       "  <thead>\n",
       "    <tr style=\"text-align: right;\">\n",
       "      <th></th>\n",
       "      <th>key</th>\n",
       "    </tr>\n",
       "  </thead>\n",
       "  <tbody>\n",
       "    <tr>\n",
       "      <th>0</th>\n",
       "      <td>221</td>\n",
       "    </tr>\n",
       "    <tr>\n",
       "      <th>1</th>\n",
       "      <td>861</td>\n",
       "    </tr>\n",
       "    <tr>\n",
       "      <th>2</th>\n",
       "      <td>988</td>\n",
       "    </tr>\n",
       "    <tr>\n",
       "      <th>3</th>\n",
       "      <td>64</td>\n",
       "    </tr>\n",
       "    <tr>\n",
       "      <th>4</th>\n",
       "      <td>705</td>\n",
       "    </tr>\n",
       "    <tr>\n",
       "      <th>...</th>\n",
       "      <td>...</td>\n",
       "    </tr>\n",
       "    <tr>\n",
       "      <th>495</th>\n",
       "      <td>248</td>\n",
       "    </tr>\n",
       "    <tr>\n",
       "      <th>496</th>\n",
       "      <td>565</td>\n",
       "    </tr>\n",
       "    <tr>\n",
       "      <th>497</th>\n",
       "      <td>141</td>\n",
       "    </tr>\n",
       "    <tr>\n",
       "      <th>498</th>\n",
       "      <td>278</td>\n",
       "    </tr>\n",
       "    <tr>\n",
       "      <th>499</th>\n",
       "      <td>732</td>\n",
       "    </tr>\n",
       "  </tbody>\n",
       "</table>\n",
       "<p>500 rows × 1 columns</p>\n",
       "</div>"
      ],
      "text/plain": [
       "     key\n",
       "0    221\n",
       "1    861\n",
       "2    988\n",
       "3     64\n",
       "4    705\n",
       "..   ...\n",
       "495  248\n",
       "496  565\n",
       "497  141\n",
       "498  278\n",
       "499  732\n",
       "\n",
       "[500 rows x 1 columns]"
      ]
     },
     "execution_count": 56,
     "metadata": {},
     "output_type": "execute_result"
    }
   ],
   "source": [
    "dummy2"
   ]
  },
  {
   "cell_type": "code",
   "execution_count": 57,
   "id": "e7cd1a36",
   "metadata": {},
   "outputs": [],
   "source": [
    "dummy1_spark = spark.createDataFrame(dummy1)\n",
    "dummy2_spark = spark.createDataFrame(dummy2)"
   ]
  },
  {
   "cell_type": "code",
   "execution_count": 58,
   "id": "a59d693d",
   "metadata": {},
   "outputs": [
    {
     "name": "stdout",
     "output_type": "stream",
     "text": [
      "+---+--------------------+\n",
      "|key|              values|\n",
      "+---+--------------------+\n",
      "|  0| -1.6689949703834375|\n",
      "|  1|   0.666190391886411|\n",
      "|  2|  -2.285035460887746|\n",
      "|  3| -1.5524329265813483|\n",
      "|  4| -1.4566358240091672|\n",
      "|  5|-0.01169638204669...|\n",
      "|  6|  1.7401948062771198|\n",
      "|  7|  0.6543581974243693|\n",
      "|  8|-0.22059990615093994|\n",
      "|  9|-0.11917726608075765|\n",
      "| 10|-0.26912641924405917|\n",
      "| 11| -0.4758379553526466|\n",
      "| 12|-0.39606116887380227|\n",
      "| 13|-0.45864051272897044|\n",
      "| 14| -0.9014999352102138|\n",
      "| 15|  0.2982036641139408|\n",
      "| 16|  0.3029049929299428|\n",
      "| 17| -0.9036303913638039|\n",
      "| 18|  0.7922917722716324|\n",
      "| 19|  0.6934692625288705|\n",
      "+---+--------------------+\n",
      "only showing top 20 rows\n",
      "\n"
     ]
    }
   ],
   "source": [
    "dummy1_spark.show()"
   ]
  },
  {
   "cell_type": "code",
   "execution_count": 59,
   "id": "dde1dfee",
   "metadata": {},
   "outputs": [],
   "source": [
    "join_result = dummy2_spark.join(dummy1_spark,\n",
    "                               on = [\"key\"],\n",
    "                               how= \"inner\")"
   ]
  },
  {
   "cell_type": "code",
   "execution_count": 60,
   "id": "add2ae85",
   "metadata": {},
   "outputs": [
    {
     "name": "stdout",
     "output_type": "stream",
     "text": [
      "+---+--------------------+\n",
      "|key|              values|\n",
      "+---+--------------------+\n",
      "| 65|  0.3816356895971067|\n",
      "| 19|  0.6934692625288705|\n",
      "| 54| -1.5377008109011419|\n",
      "|112| -2.3671334646572912|\n",
      "|  7|  0.6543581974243693|\n",
      "| 94|-0.12883945944592798|\n",
      "|110| -0.0818082529668762|\n",
      "| 32| -0.7579084227033176|\n",
      "|119|  1.2465331377415017|\n",
      "| 98|-0.13915770036165706|\n",
      "|116|   1.576481604745302|\n",
      "| 25|  0.5149509068126464|\n",
      "| 95|  1.5232720898696541|\n",
      "| 68| -1.2524366855150106|\n",
      "| 72| -2.1719911710033775|\n",
      "| 87|  -0.807569081302329|\n",
      "|107|  -0.555257633784366|\n",
      "|  9|-0.11917726608075765|\n",
      "| 27|-0.27775435904174406|\n",
      "| 51|  1.7092428901099426|\n",
      "+---+--------------------+\n",
      "only showing top 20 rows\n",
      "\n"
     ]
    }
   ],
   "source": [
    "join_result.show()"
   ]
  },
  {
   "cell_type": "markdown",
   "id": "62463721",
   "metadata": {},
   "source": [
    "# Drop na"
   ]
  },
  {
   "cell_type": "code",
   "execution_count": 61,
   "id": "56356744",
   "metadata": {},
   "outputs": [
    {
     "data": {
      "text/plain": [
       "166821"
      ]
     },
     "execution_count": 61,
     "metadata": {},
     "output_type": "execute_result"
    }
   ],
   "source": [
    "train.dropna().count()"
   ]
  },
  {
   "cell_type": "markdown",
   "id": "565594e7",
   "metadata": {},
   "source": [
    "# Fill na"
   ]
  },
  {
   "cell_type": "code",
   "execution_count": 63,
   "id": "2bea2110",
   "metadata": {},
   "outputs": [],
   "source": [
    "train_filled_na = train.select(\"Purchase\").fillna(-1)"
   ]
  },
  {
   "cell_type": "code",
   "execution_count": 65,
   "id": "85ce3a2a",
   "metadata": {},
   "outputs": [
    {
     "name": "stdout",
     "output_type": "stream",
     "text": [
      "+--------+\n",
      "|Purchase|\n",
      "+--------+\n",
      "+--------+\n",
      "\n"
     ]
    }
   ],
   "source": [
    "train_filled_na.filter(train_filled_na.Purchase == -1).show()"
   ]
  },
  {
   "cell_type": "markdown",
   "id": "763cc11a",
   "metadata": {},
   "source": [
    "# Sample"
   ]
  },
  {
   "cell_type": "code",
   "execution_count": 66,
   "id": "b4ba6422",
   "metadata": {},
   "outputs": [
    {
     "data": {
      "text/plain": [
       "55322"
      ]
     },
     "execution_count": 66,
     "metadata": {},
     "output_type": "execute_result"
    }
   ],
   "source": [
    "train.sample(withReplacement=None,fraction=0.1).count()"
   ]
  },
  {
   "cell_type": "markdown",
   "id": "848caedf",
   "metadata": {},
   "source": [
    "# Adding a column"
   ]
  },
  {
   "cell_type": "code",
   "execution_count": 69,
   "id": "ea515f95",
   "metadata": {},
   "outputs": [],
   "source": [
    "train = train.withColumn(\"new_column\", train.Purchase / 2.0)"
   ]
  },
  {
   "cell_type": "code",
   "execution_count": 70,
   "id": "e950fc33",
   "metadata": {},
   "outputs": [
    {
     "name": "stdout",
     "output_type": "stream",
     "text": [
      "+-------+----------+------+-----+----------+-------------+--------------------------+--------------+------------------+------------------+------------------+--------+----------+\n",
      "|User_ID|Product_ID|Gender|  Age|Occupation|City_Category|Stay_In_Current_City_Years|Marital_Status|Product_Category_1|Product_Category_2|Product_Category_3|Purchase|new_column|\n",
      "+-------+----------+------+-----+----------+-------------+--------------------------+--------------+------------------+------------------+------------------+--------+----------+\n",
      "|1000001| P00069042|     F| 0-17|        10|            A|                         2|             0|                 3|              null|              null|    8370|    4185.0|\n",
      "|1000001| P00248942|     F| 0-17|        10|            A|                         2|             0|                 1|                 6|                14|   15200|    7600.0|\n",
      "|1000001| P00087842|     F| 0-17|        10|            A|                         2|             0|                12|              null|              null|    1422|     711.0|\n",
      "|1000001| P00085442|     F| 0-17|        10|            A|                         2|             0|                12|                14|              null|    1057|     528.5|\n",
      "|1000002| P00285442|     M|  55+|        16|            C|                        4+|             0|                 8|              null|              null|    7969|    3984.5|\n",
      "|1000003| P00193542|     M|26-35|        15|            A|                         3|             0|                 1|                 2|              null|   15227|    7613.5|\n",
      "|1000004| P00184942|     M|46-50|         7|            B|                         2|             1|                 1|                 8|                17|   19215|    9607.5|\n",
      "|1000004| P00346142|     M|46-50|         7|            B|                         2|             1|                 1|                15|              null|   15854|    7927.0|\n",
      "|1000004|  P0097242|     M|46-50|         7|            B|                         2|             1|                 1|                16|              null|   15686|    7843.0|\n",
      "|1000005| P00274942|     M|26-35|        20|            A|                         1|             1|                 8|              null|              null|    7871|    3935.5|\n",
      "|1000005| P00251242|     M|26-35|        20|            A|                         1|             1|                 5|                11|              null|    5254|    2627.0|\n",
      "|1000005| P00014542|     M|26-35|        20|            A|                         1|             1|                 8|              null|              null|    3957|    1978.5|\n",
      "|1000005| P00031342|     M|26-35|        20|            A|                         1|             1|                 8|              null|              null|    6073|    3036.5|\n",
      "|1000005| P00145042|     M|26-35|        20|            A|                         1|             1|                 1|                 2|                 5|   15665|    7832.5|\n",
      "|1000006| P00231342|     F|51-55|         9|            A|                         1|             0|                 5|                 8|                14|    5378|    2689.0|\n",
      "|1000006| P00190242|     F|51-55|         9|            A|                         1|             0|                 4|                 5|              null|    2079|    1039.5|\n",
      "|1000006|  P0096642|     F|51-55|         9|            A|                         1|             0|                 2|                 3|                 4|   13055|    6527.5|\n",
      "|1000006| P00058442|     F|51-55|         9|            A|                         1|             0|                 5|                14|              null|    8851|    4425.5|\n",
      "|1000007| P00036842|     M|36-45|         1|            B|                         1|             1|                 1|                14|                16|   11788|    5894.0|\n",
      "|1000008| P00249542|     M|26-35|        12|            C|                        4+|             1|                 1|                 5|                15|   19614|    9807.0|\n",
      "+-------+----------+------+-----+----------+-------------+--------------------------+--------------+------------------+------------------+------------------+--------+----------+\n",
      "only showing top 20 rows\n",
      "\n"
     ]
    }
   ],
   "source": [
    "train.show()"
   ]
  },
  {
   "cell_type": "markdown",
   "id": "ed9a163a",
   "metadata": {},
   "source": [
    "# UDF\n",
    "\n",
    "https://www.databricks.com/blog/2020/05/20/new-pandas-udfs-and-python-type-hints-in-the-upcoming-release-of-apache-spark-3-0.html?utm_source=hootsuite&utm_medium=&utm_term=&utm_content=&utm_campaign="
   ]
  },
  {
   "cell_type": "code",
   "execution_count": 5,
   "id": "175ef4e5",
   "metadata": {},
   "outputs": [
    {
     "name": "stderr",
     "output_type": "stream",
     "text": [
      "\r",
      "[Stage 2:>                                                          (0 + 7) / 7]\r"
     ]
    },
    {
     "name": "stdout",
     "output_type": "stream",
     "text": [
      "+-------+------------------+\n",
      "|User_ID|     avg(Purchase)|\n",
      "+-------+------------------+\n",
      "|1000149| 11302.68263473054|\n",
      "|1000190| 9612.111111111111|\n",
      "|1000636| 12100.44642857143|\n",
      "|1001043|11461.695652173914|\n",
      "|1001129|10781.338461538462|\n",
      "|1001139|10564.731481481482|\n",
      "|1001601|13003.398058252427|\n",
      "|1002605| 10818.85436893204|\n",
      "|1003031|            8917.2|\n",
      "|1003373|10867.411764705883|\n",
      "+-------+------------------+\n",
      "only showing top 10 rows\n",
      "\n"
     ]
    },
    {
     "name": "stderr",
     "output_type": "stream",
     "text": [
      "\r",
      "[Stage 2:========>                                                  (1 + 6) / 7]\r",
      "\r",
      "                                                                                \r"
     ]
    }
   ],
   "source": [
    "# mean group by agg\n",
    "train.groupBy('User_ID').agg(sql_f.mean(train.Purchase)).show(n=10)"
   ]
  },
  {
   "cell_type": "code",
   "execution_count": 6,
   "id": "e5b28ede",
   "metadata": {},
   "outputs": [],
   "source": [
    "\"\"\"\n",
    "@pandas_udf(df.schema, PandasUDFType.GROUPED_MAP)\n",
    "def subtract_mean(pdf):\n",
    "    v = pdf.v\n",
    "    return pdf.assign(v=v - v.mean())\n",
    "\n",
    "\"\"\"\n",
    "\n",
    "schema = StructType([StructField(\"User_ID\", IntegerType(), True),\n",
    "                    StructField(\"output\", DoubleType(), True)])\n",
    "\n",
    "@pandas_udf(schema, PandasUDFType.GROUPED_MAP)\n",
    "def just_some_custom_mean(df):\n",
    "    \"\"\"\n",
    "    Parameters\n",
    "    ----------\n",
    "    df: pd.DataFrame\n",
    "    \"\"\"\n",
    "    key = df[\"User_ID\"].unique()[0]\n",
    "    output = df[\"Purchase\"].mean()\n",
    "    return pd.DataFrame({\"User_ID\":[key],\n",
    "                        \"output\":[output]})"
   ]
  },
  {
   "cell_type": "code",
   "execution_count": 7,
   "id": "b6062a12",
   "metadata": {},
   "outputs": [
    {
     "name": "stderr",
     "output_type": "stream",
     "text": [
      "/opt/homebrew/Caskroom/miniconda/base/envs/pysparklesson2/lib/python3.9/site-packages/pyspark/sql/pandas/group_ops.py:103: UserWarning: It is preferred to use 'applyInPandas' over this API. This API will be deprecated in the future releases. See SPARK-28264 for more details.\n",
      "  warnings.warn(\n"
     ]
    }
   ],
   "source": [
    "# train_pandas.groupby([\"User_ID\"]).apply(just_some_custom_mean) - not distributed\n",
    "result = train.groupBy(\"User_ID\").apply(just_some_custom_mean)"
   ]
  },
  {
   "cell_type": "code",
   "execution_count": 8,
   "id": "52084ba8",
   "metadata": {},
   "outputs": [
    {
     "name": "stderr",
     "output_type": "stream",
     "text": [
      "[Stage 5:>                                                          (0 + 1) / 1]\r"
     ]
    },
    {
     "name": "stdout",
     "output_type": "stream",
     "text": [
      "+-------+------------------+\n",
      "|User_ID|            output|\n",
      "+-------+------------------+\n",
      "|1000005| 7745.292452830188|\n",
      "|1000042|          11864.28|\n",
      "|1000049|12206.066666666668|\n",
      "|1000055| 9594.285714285714|\n",
      "|1000060| 7778.583333333333|\n",
      "|1000062| 8913.539007092199|\n",
      "|1000081|12250.529411764706|\n",
      "|1000083|  9999.22641509434|\n",
      "|1000084| 12596.59090909091|\n",
      "|1000088| 9980.242424242424|\n",
      "|1000089| 8019.714285714285|\n",
      "|1000092| 7057.910313901345|\n",
      "|1000101|17246.439393939392|\n",
      "|1000102| 7362.264367816092|\n",
      "|1000121|14303.268292682927|\n",
      "|1000123|  9196.28409090909|\n",
      "|1000127|          11712.61|\n",
      "|1000133| 8622.193548387097|\n",
      "|1000138|16031.027027027027|\n",
      "|1000140| 9972.242424242424|\n",
      "+-------+------------------+\n",
      "only showing top 20 rows\n",
      "\n"
     ]
    },
    {
     "name": "stderr",
     "output_type": "stream",
     "text": [
      "23/05/02 21:43:23 WARN JavaUtils: Attempt to delete using native Unix OS command failed for path = /private/var/folders/z9/_l65135549l_v6k4d3tz369r0000gn/T/blockmgr-09d67d10-a364-48df-bc31-95393303ff9f. Falling back to Java IO way\n",
      "java.io.IOException: Failed to delete: /private/var/folders/z9/_l65135549l_v6k4d3tz369r0000gn/T/blockmgr-09d67d10-a364-48df-bc31-95393303ff9f\n",
      "\tat org.apache.spark.network.util.JavaUtils.deleteRecursivelyUsingUnixNative(JavaUtils.java:177)\n",
      "\tat org.apache.spark.network.util.JavaUtils.deleteRecursively(JavaUtils.java:113)\n",
      "\tat org.apache.spark.network.util.JavaUtils.deleteRecursively(JavaUtils.java:94)\n",
      "\tat org.apache.spark.util.Utils$.deleteRecursively(Utils.scala:1231)\n",
      "\tat org.apache.spark.storage.DiskBlockManager.$anonfun$doStop$1(DiskBlockManager.scala:368)\n",
      "\tat org.apache.spark.storage.DiskBlockManager.$anonfun$doStop$1$adapted(DiskBlockManager.scala:364)\n",
      "\tat scala.collection.IndexedSeqOptimized.foreach(IndexedSeqOptimized.scala:36)\n",
      "\tat scala.collection.IndexedSeqOptimized.foreach$(IndexedSeqOptimized.scala:33)\n",
      "\tat scala.collection.mutable.ArrayOps$ofRef.foreach(ArrayOps.scala:198)\n",
      "\tat org.apache.spark.storage.DiskBlockManager.doStop(DiskBlockManager.scala:364)\n",
      "\tat org.apache.spark.storage.DiskBlockManager.stop(DiskBlockManager.scala:359)\n",
      "\tat org.apache.spark.storage.BlockManager.stop(BlockManager.scala:2052)\n",
      "\tat org.apache.spark.SparkEnv.stop(SparkEnv.scala:95)\n",
      "\tat org.apache.spark.SparkContext.$anonfun$stop$25(SparkContext.scala:2175)\n",
      "\tat org.apache.spark.util.Utils$.tryLogNonFatalError(Utils.scala:1509)\n",
      "\tat org.apache.spark.SparkContext.stop(SparkContext.scala:2175)\n",
      "\tat org.apache.spark.SparkContext.stop(SparkContext.scala:2081)\n",
      "\tat org.apache.spark.SparkContext.$anonfun$new$31(SparkContext.scala:664)\n",
      "\tat org.apache.spark.util.SparkShutdownHook.run(ShutdownHookManager.scala:214)\n",
      "\tat org.apache.spark.util.SparkShutdownHookManager.$anonfun$runAll$2(ShutdownHookManager.scala:188)\n",
      "\tat scala.runtime.java8.JFunction0$mcV$sp.apply(JFunction0$mcV$sp.java:23)\n",
      "\tat org.apache.spark.util.Utils$.logUncaughtExceptions(Utils.scala:2088)\n",
      "\tat org.apache.spark.util.SparkShutdownHookManager.$anonfun$runAll$1(ShutdownHookManager.scala:188)\n",
      "\tat scala.runtime.java8.JFunction0$mcV$sp.apply(JFunction0$mcV$sp.java:23)\n",
      "\tat scala.util.Try$.apply(Try.scala:213)\n",
      "\tat org.apache.spark.util.SparkShutdownHookManager.runAll(ShutdownHookManager.scala:188)\n",
      "\tat org.apache.spark.util.SparkShutdownHookManager$$anon$2.run(ShutdownHookManager.scala:178)\n",
      "\tat java.base/java.util.concurrent.Executors$RunnableAdapter.call(Executors.java:515)\n",
      "\tat java.base/java.util.concurrent.FutureTask.run(FutureTask.java:264)\n",
      "\tat java.base/java.util.concurrent.ThreadPoolExecutor.runWorker(ThreadPoolExecutor.java:1128)\n",
      "\tat java.base/java.util.concurrent.ThreadPoolExecutor$Worker.run(ThreadPoolExecutor.java:628)\n",
      "\tat java.base/java.lang.Thread.run(Thread.java:829)\n",
      "23/05/02 21:43:23 WARN JavaUtils: Attempt to delete using native Unix OS command failed for path = /private/var/folders/z9/_l65135549l_v6k4d3tz369r0000gn/T/blockmgr-09d67d10-a364-48df-bc31-95393303ff9f/38. Falling back to Java IO way\n",
      "java.io.IOException: Failed to delete: /private/var/folders/z9/_l65135549l_v6k4d3tz369r0000gn/T/blockmgr-09d67d10-a364-48df-bc31-95393303ff9f/38\n",
      "\tat org.apache.spark.network.util.JavaUtils.deleteRecursivelyUsingUnixNative(JavaUtils.java:177)\n",
      "\tat org.apache.spark.network.util.JavaUtils.deleteRecursively(JavaUtils.java:113)\n",
      "\tat org.apache.spark.network.util.JavaUtils.deleteRecursivelyUsingJavaIO(JavaUtils.java:133)\n",
      "\tat org.apache.spark.network.util.JavaUtils.deleteRecursively(JavaUtils.java:121)\n",
      "\tat org.apache.spark.network.util.JavaUtils.deleteRecursively(JavaUtils.java:94)\n",
      "\tat org.apache.spark.util.Utils$.deleteRecursively(Utils.scala:1231)\n",
      "\tat org.apache.spark.storage.DiskBlockManager.$anonfun$doStop$1(DiskBlockManager.scala:368)\n",
      "\tat org.apache.spark.storage.DiskBlockManager.$anonfun$doStop$1$adapted(DiskBlockManager.scala:364)\n",
      "\tat scala.collection.IndexedSeqOptimized.foreach(IndexedSeqOptimized.scala:36)\n",
      "\tat scala.collection.IndexedSeqOptimized.foreach$(IndexedSeqOptimized.scala:33)\n",
      "\tat scala.collection.mutable.ArrayOps$ofRef.foreach(ArrayOps.scala:198)\n",
      "\tat org.apache.spark.storage.DiskBlockManager.doStop(DiskBlockManager.scala:364)\n",
      "\tat org.apache.spark.storage.DiskBlockManager.stop(DiskBlockManager.scala:359)\n",
      "\tat org.apache.spark.storage.BlockManager.stop(BlockManager.scala:2052)\n",
      "\tat org.apache.spark.SparkEnv.stop(SparkEnv.scala:95)\n",
      "\tat org.apache.spark.SparkContext.$anonfun$stop$25(SparkContext.scala:2175)\n",
      "\tat org.apache.spark.util.Utils$.tryLogNonFatalError(Utils.scala:1509)\n",
      "\tat org.apache.spark.SparkContext.stop(SparkContext.scala:2175)\n",
      "\tat org.apache.spark.SparkContext.stop(SparkContext.scala:2081)\n",
      "\tat org.apache.spark.SparkContext.$anonfun$new$31(SparkContext.scala:664)\n",
      "\tat org.apache.spark.util.SparkShutdownHook.run(ShutdownHookManager.scala:214)\n",
      "\tat org.apache.spark.util.SparkShutdownHookManager.$anonfun$runAll$2(ShutdownHookManager.scala:188)\n",
      "\tat scala.runtime.java8.JFunction0$mcV$sp.apply(JFunction0$mcV$sp.java:23)\n",
      "\tat org.apache.spark.util.Utils$.logUncaughtExceptions(Utils.scala:2088)\n",
      "\tat org.apache.spark.util.SparkShutdownHookManager.$anonfun$runAll$1(ShutdownHookManager.scala:188)\n",
      "\tat scala.runtime.java8.JFunction0$mcV$sp.apply(JFunction0$mcV$sp.java:23)\n",
      "\tat scala.util.Try$.apply(Try.scala:213)\n",
      "\tat org.apache.spark.util.SparkShutdownHookManager.runAll(ShutdownHookManager.scala:188)\n",
      "\tat org.apache.spark.util.SparkShutdownHookManager$$anon$2.run(ShutdownHookManager.scala:178)\n",
      "\tat java.base/java.util.concurrent.Executors$RunnableAdapter.call(Executors.java:515)\n",
      "\tat java.base/java.util.concurrent.FutureTask.run(FutureTask.java:264)\n",
      "\tat java.base/java.util.concurrent.ThreadPoolExecutor.runWorker(ThreadPoolExecutor.java:1128)\n",
      "\tat java.base/java.util.concurrent.ThreadPoolExecutor$Worker.run(ThreadPoolExecutor.java:628)\n",
      "\tat java.base/java.lang.Thread.run(Thread.java:829)\n",
      "----------------------------------------\n",
      "Exception occurred during processing of request from ('127.0.0.1', 54191)\n",
      "Traceback (most recent call last):\n",
      "  File \"/opt/homebrew/Caskroom/miniconda/base/envs/pysparklesson2/lib/python3.9/socketserver.py\", line 316, in _handle_request_noblock\n",
      "    self.process_request(request, client_address)\n",
      "  File \"/opt/homebrew/Caskroom/miniconda/base/envs/pysparklesson2/lib/python3.9/socketserver.py\", line 347, in process_request\n",
      "    self.finish_request(request, client_address)\n",
      "  File \"/opt/homebrew/Caskroom/miniconda/base/envs/pysparklesson2/lib/python3.9/socketserver.py\", line 360, in finish_request\n",
      "    self.RequestHandlerClass(request, client_address, self)\n",
      "  File \"/opt/homebrew/Caskroom/miniconda/base/envs/pysparklesson2/lib/python3.9/socketserver.py\", line 747, in __init__\n",
      "    self.handle()\n",
      "  File \"/opt/homebrew/Caskroom/miniconda/base/envs/pysparklesson2/lib/python3.9/site-packages/pyspark/accumulators.py\", line 281, in handle\n",
      "    poll(accum_updates)\n",
      "  File \"/opt/homebrew/Caskroom/miniconda/base/envs/pysparklesson2/lib/python3.9/site-packages/pyspark/accumulators.py\", line 253, in poll\n",
      "    if func():\n",
      "  File \"/opt/homebrew/Caskroom/miniconda/base/envs/pysparklesson2/lib/python3.9/site-packages/pyspark/accumulators.py\", line 257, in accum_updates\n",
      "    num_updates = read_int(self.rfile)\n",
      "  File \"/opt/homebrew/Caskroom/miniconda/base/envs/pysparklesson2/lib/python3.9/site-packages/pyspark/serializers.py\", line 596, in read_int\n",
      "    raise EOFError\n",
      "EOFError\n",
      "----------------------------------------\n"
     ]
    }
   ],
   "source": [
    "result.show()"
   ]
  },
  {
   "cell_type": "markdown",
   "id": "0b5575a1",
   "metadata": {},
   "source": [
    "# checkpoint/cache"
   ]
  },
  {
   "cell_type": "code",
   "execution_count": null,
   "id": "533147c7",
   "metadata": {},
   "outputs": [],
   "source": [
    "train.checkpoint() # save and execute all actions "
   ]
  }
 ],
 "metadata": {
  "kernelspec": {
   "display_name": "Python 3 (ipykernel)",
   "language": "python",
   "name": "python3"
  },
  "language_info": {
   "codemirror_mode": {
    "name": "ipython",
    "version": 3
   },
   "file_extension": ".py",
   "mimetype": "text/x-python",
   "name": "python",
   "nbconvert_exporter": "python",
   "pygments_lexer": "ipython3",
   "version": "3.9.16"
  }
 },
 "nbformat": 4,
 "nbformat_minor": 5
}
