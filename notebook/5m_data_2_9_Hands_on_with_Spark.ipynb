{
  "nbformat": 4,
  "nbformat_minor": 0,
  "metadata": {
    "colab": {
      "provenance": []
    },
    "kernelspec": {
      "name": "python3",
      "display_name": "Python 3"
    },
    "language_info": {
      "name": "python"
    }
  },
  "cells": [
    {
      "cell_type": "markdown",
      "source": [
        "# Hands-on with Spark"
      ],
      "metadata": {
        "id": "Yf22YCkqc0Fh"
      }
    },
    {
      "cell_type": "markdown",
      "source": [
        "![spark](https://cdn-images-1.medium.com/max/300/1*c8CtvqKJDVUnMoPGujF5fA.png)"
      ],
      "metadata": {
        "id": "B96jjJtWf6Z1"
      }
    },
    {
      "cell_type": "markdown",
      "source": [
        "PySpark is the Python API of Spark; which means it can do almost all the things python can- Machine learning (ML), exploratory data analysis (EDA), ETLs for data platform. And all of them in a distributed manner.\n",
        "\n",
        "![pyspark](https://editor.analyticsvidhya.com/uploads/20981sp3.JPG)\n",
        "\n",
        "In simple terms, each time you submit a PySpark job, the code gets internally converted into a MapReduce program and gets executed in the Java Virtual Machine. Spark also uses Lazy Evaluation, it delays its evaluation as much as it can. Each time you submit a job, spark creates an action plan for how to execute the code, and then does nothing. Finally, when you ask for the result (i.e, calls an action), it executes the plan, which is basically all the transofrmations you have mentioned in your code.\n"
      ],
      "metadata": {
        "id": "GRrcTfEGc8Z2"
      }
    },
    {
      "cell_type": "markdown",
      "source": [
        "For our lesson, we will be running Spark on **local** mode.\n",
        "\n",
        "In this mode, Spark runs on a single machine, utilizing available cores (similar to Polars).\n",
        "It's useful for development, learning, testing, and debugging since everything runs on the local machine without needing a cluster.\n",
        "\n",
        "In actual production environments, Spark is usually run on a cluster of machines (YARN, Mesos or Kubernetes mode)."
      ],
      "metadata": {
        "id": "h5598w-HtOci"
      }
    },
    {
      "cell_type": "markdown",
      "source": [
        "## Installing and Initializing Spark\n",
        "\n",
        "First, we'll need to install Spark and its dependencies:\n",
        "\n",
        "1.   Java 8\n",
        "2.   Apache Spark with Hadoop\n",
        "3.   Findspark (used to locate the Spark in the system)\n"
      ],
      "metadata": {
        "id": "j_yU4yEjvLH7"
      }
    },
    {
      "cell_type": "code",
      "execution_count": 1,
      "metadata": {
        "id": "QcqaRWOj92-_"
      },
      "outputs": [],
      "source": [
        "!apt-get install openjdk-8-jdk-headless -qq > /dev/null\n",
        "!wget -q https://dlcdn.apache.org/spark/spark-3.5.5/spark-3.5.5-bin-hadoop3.tgz\n",
        "!tar xf spark-3.5.5-bin-hadoop3.tgz\n",
        "!pip install -q findspark"
      ]
    },
    {
      "cell_type": "markdown",
      "source": [
        "List the files in the current directory:"
      ],
      "metadata": {
        "id": "3KGG8iyLvZHQ"
      }
    },
    {
      "cell_type": "code",
      "source": [
        "! ls"
      ],
      "metadata": {
        "colab": {
          "base_uri": "https://localhost:8080/"
        },
        "id": "bxIVqI4XYI0_",
        "outputId": "7f87637a-6d79-4bf7-de27-385c5487b862"
      },
      "execution_count": 2,
      "outputs": [
        {
          "output_type": "stream",
          "name": "stdout",
          "text": [
            "sample_data  spark-3.5.5-bin-hadoop3  spark-3.5.5-bin-hadoop3.tgz\n"
          ]
        }
      ]
    },
    {
      "cell_type": "markdown",
      "source": [
        "Print the current directory:"
      ],
      "metadata": {
        "id": "rupTwiHzvcLS"
      }
    },
    {
      "cell_type": "code",
      "source": [
        "!pwd"
      ],
      "metadata": {
        "colab": {
          "base_uri": "https://localhost:8080/"
        },
        "id": "d94vMnN4ad2C",
        "outputId": "0965cf2f-9632-43fb-b9ef-9a2be37f8d16"
      },
      "execution_count": 3,
      "outputs": [
        {
          "output_type": "stream",
          "name": "stdout",
          "text": [
            "/content\n"
          ]
        }
      ]
    },
    {
      "cell_type": "code",
      "source": [
        "!readlink -f $(which java)"
      ],
      "metadata": {
        "colab": {
          "base_uri": "https://localhost:8080/"
        },
        "id": "9LpDM8ozZ3De",
        "outputId": "84625852-2d8e-4c67-c9c7-cd05caad3b52"
      },
      "execution_count": 8,
      "outputs": [
        {
          "output_type": "stream",
          "name": "stdout",
          "text": [
            "/usr/lib/jvm/java-11-openjdk-amd64/bin/java\n"
          ]
        }
      ]
    },
    {
      "cell_type": "code",
      "source": [
        "! ls /usr/lib/jvm/"
      ],
      "metadata": {
        "colab": {
          "base_uri": "https://localhost:8080/"
        },
        "id": "QJwonnloaUPb",
        "outputId": "3efb49ba-afe5-4776-8261-5b63e5b7b523"
      },
      "execution_count": 10,
      "outputs": [
        {
          "output_type": "stream",
          "name": "stdout",
          "text": [
            "java-1.11.0-openjdk-amd64  java-11-openjdk-amd64  java-1.8.0-openjdk-amd64  java-8-openjdk-amd64\n"
          ]
        }
      ]
    },
    {
      "cell_type": "markdown",
      "source": [
        "Set the OS Environment Variables so that Findspark can locate Spark in the system:"
      ],
      "metadata": {
        "id": "n2mYe6MgvtNp"
      }
    },
    {
      "cell_type": "code",
      "source": [
        "import os\n",
        "os.environ[\"JAVA_HOME\"] = \"/usr/lib/jvm/java-8-openjdk-amd64\"\n",
        "os.environ[\"SPARK_HOME\"] = \"/content/spark-3.5.5-bin-hadoop3\""
      ],
      "metadata": {
        "id": "CYRAXXp8aKMA"
      },
      "execution_count": null,
      "outputs": []
    },
    {
      "cell_type": "code",
      "source": [
        "import findspark\n",
        "findspark.init()"
      ],
      "metadata": {
        "id": "9IVFrHAAabLl"
      },
      "execution_count": null,
      "outputs": []
    },
    {
      "cell_type": "code",
      "source": [
        "from pyspark.sql import SparkSession\n",
        "spark = SparkSession.builder.getOrCreate()"
      ],
      "metadata": {
        "id": "Nc9T58Y2as5j"
      },
      "execution_count": null,
      "outputs": []
    },
    {
      "cell_type": "markdown",
      "source": [
        "Invoking `spark` will print the SparkContext"
      ],
      "metadata": {
        "id": "OFuPn8O_wWRx"
      }
    },
    {
      "cell_type": "code",
      "source": [
        "spark"
      ],
      "metadata": {
        "colab": {
          "base_uri": "https://localhost:8080/",
          "height": 221
        },
        "id": "TwirdxMKv-ie",
        "outputId": "d50f93ef-37ac-45e2-e4d9-4799eab99ca7"
      },
      "execution_count": null,
      "outputs": [
        {
          "output_type": "execute_result",
          "data": {
            "text/plain": [
              "<pyspark.sql.session.SparkSession at 0x7ec239dce8d0>"
            ],
            "text/html": [
              "\n",
              "            <div>\n",
              "                <p><b>SparkSession - in-memory</b></p>\n",
              "                \n",
              "        <div>\n",
              "            <p><b>SparkContext</b></p>\n",
              "\n",
              "            <p><a href=\"http://4f0763e2d254:4040\">Spark UI</a></p>\n",
              "\n",
              "            <dl>\n",
              "              <dt>Version</dt>\n",
              "                <dd><code>v3.5.5</code></dd>\n",
              "              <dt>Master</dt>\n",
              "                <dd><code>local[*]</code></dd>\n",
              "              <dt>AppName</dt>\n",
              "                <dd><code>pyspark-shell</code></dd>\n",
              "            </dl>\n",
              "        </div>\n",
              "        \n",
              "            </div>\n",
              "        "
            ]
          },
          "metadata": {},
          "execution_count": 22
        }
      ]
    },
    {
      "cell_type": "markdown",
      "source": [
        "## Spark SQL and DataFrames\n",
        "\n",
        "Spark SQL and DataFrames are higher-level modules of Apache Spark, they work together to make data processing with Spark more intuitive and optimized, especially for those who come from an SQL or data analytics background.\n",
        "\n",
        "- **SQL Interface to Spark**: Spark SQL lets users execute SQL queries alongside Spark programs.\n",
        "\n",
        "- **DataFrames are abstraction over RDDs**: A DataFrame is a distributed collection of data organized into named columns. Conceptually, it's equivalent to a table in a relational database or a data frame in R or Python, but with optimizations for distributed processing and scalability. While RDD (Resilient Distributed Dataset) is a fundamental data structure in Spark, DataFrames provide a higher-level abstraction that is often easier to use and more optimized for many tasks."
      ],
      "metadata": {
        "id": "vlvH2gCppT3f"
      }
    },
    {
      "cell_type": "markdown",
      "source": [
        "### DataFrame Creation"
      ],
      "metadata": {
        "id": "mL9FT69RtlhD"
      }
    },
    {
      "cell_type": "code",
      "source": [
        "from datetime import datetime, date\n",
        "import pandas as pd\n",
        "from pyspark.sql import Row"
      ],
      "metadata": {
        "id": "Csj4V7SebG3-"
      },
      "execution_count": null,
      "outputs": []
    },
    {
      "cell_type": "code",
      "source": [
        "df = spark.createDataFrame([\n",
        "    Row(a=1, b=2., c='string1', d=date(2000, 1, 1), e=datetime(2000, 1, 1, 12, 0)),\n",
        "    Row(a=2, b=3., c='string2', d=date(2000, 2, 1), e=datetime(2000, 1, 2, 12, 0)),\n",
        "    Row(a=4, b=5., c='string3', d=date(2000, 3, 1), e=datetime(2000, 1, 3, 12, 0))\n",
        "])\n",
        "df"
      ],
      "metadata": {
        "colab": {
          "base_uri": "https://localhost:8080/"
        },
        "id": "bUTCVOCMbZHs",
        "outputId": "1f29a61b-34b8-4052-b716-4b36c1f0b5fa"
      },
      "execution_count": null,
      "outputs": [
        {
          "output_type": "execute_result",
          "data": {
            "text/plain": [
              "DataFrame[a: bigint, b: double, c: string, d: date, e: timestamp]"
            ]
          },
          "metadata": {},
          "execution_count": 12
        }
      ]
    },
    {
      "cell_type": "markdown",
      "source": [
        "PySpark infers the DataFrame schema (dtypes) by taking a sample from the data (just like Pandas)"
      ],
      "metadata": {
        "id": "o3pCzfH8t85j"
      }
    },
    {
      "cell_type": "code",
      "source": [
        "df.show(5)"
      ],
      "metadata": {
        "colab": {
          "base_uri": "https://localhost:8080/"
        },
        "id": "jM049Yg3bfei",
        "outputId": "fe07286f-4c9f-4c91-9262-14c30845e8f9"
      },
      "execution_count": null,
      "outputs": [
        {
          "output_type": "stream",
          "name": "stdout",
          "text": [
            "+---+---+-------+----------+-------------------+\n",
            "|  a|  b|      c|         d|                  e|\n",
            "+---+---+-------+----------+-------------------+\n",
            "|  1|2.0|string1|2000-01-01|2000-01-01 12:00:00|\n",
            "|  2|3.0|string2|2000-02-01|2000-01-02 12:00:00|\n",
            "|  4|5.0|string3|2000-03-01|2000-01-03 12:00:00|\n",
            "+---+---+-------+----------+-------------------+\n",
            "\n"
          ]
        }
      ]
    },
    {
      "cell_type": "markdown",
      "source": [
        "You can also pass an explicit schema:"
      ],
      "metadata": {
        "id": "hDh6bDwPuHuf"
      }
    },
    {
      "cell_type": "code",
      "source": [
        "df = spark.createDataFrame([\n",
        "    (1, 2., 'string1', date(2000, 1, 1), datetime(2000, 1, 1, 12, 0)),\n",
        "    (2, 3., 'string2', date(2000, 2, 1), datetime(2000, 1, 2, 12, 0)),\n",
        "    (3, 4., 'string3', date(2000, 3, 1), datetime(2000, 1, 3, 12, 0))\n",
        "], schema='a long, b double, c string, d date, e timestamp')\n",
        "df"
      ],
      "metadata": {
        "colab": {
          "base_uri": "https://localhost:8080/"
        },
        "id": "DPIuxbgVuJ7L",
        "outputId": "fb8c0c1f-3b27-4832-a70d-3115c53ed399"
      },
      "execution_count": null,
      "outputs": [
        {
          "output_type": "execute_result",
          "data": {
            "text/plain": [
              "DataFrame[a: bigint, b: double, c: string, d: date, e: timestamp]"
            ]
          },
          "metadata": {},
          "execution_count": 14
        }
      ]
    },
    {
      "cell_type": "markdown",
      "source": [
        "PySpark DataFrame is lazily evaluated and invoking `df` does not trigger the computation and show anything. You need to explicitly call the `show` method:"
      ],
      "metadata": {
        "id": "gELgm_S3NGbs"
      }
    },
    {
      "cell_type": "code",
      "source": [
        "df.show()\n",
        "df.printSchema()"
      ],
      "metadata": {
        "colab": {
          "base_uri": "https://localhost:8080/"
        },
        "id": "WztTVjujuRsj",
        "outputId": "415456ca-55ff-4037-ee38-8b8a825736bd"
      },
      "execution_count": null,
      "outputs": [
        {
          "output_type": "stream",
          "name": "stdout",
          "text": [
            "+---+---+-------+----------+-------------------+\n",
            "|  a|  b|      c|         d|                  e|\n",
            "+---+---+-------+----------+-------------------+\n",
            "|  1|2.0|string1|2000-01-01|2000-01-01 12:00:00|\n",
            "|  2|3.0|string2|2000-02-01|2000-01-02 12:00:00|\n",
            "|  3|4.0|string3|2000-03-01|2000-01-03 12:00:00|\n",
            "+---+---+-------+----------+-------------------+\n",
            "\n",
            "root\n",
            " |-- a: long (nullable = true)\n",
            " |-- b: double (nullable = true)\n",
            " |-- c: string (nullable = true)\n",
            " |-- d: date (nullable = true)\n",
            " |-- e: timestamp (nullable = true)\n",
            "\n"
          ]
        }
      ]
    },
    {
      "cell_type": "markdown",
      "source": [
        "### Getting Data In/Out\n",
        "\n",
        "There are many data sources available in PySpark such as CSV, Parquet, ORC, JDBC, text, Avro, etc.\n",
        "\n",
        "First, let's download the files in various format from GCS, data which we explored in Unit 2.3 and 2.8."
      ],
      "metadata": {
        "id": "7l6zXe8wujkC"
      }
    },
    {
      "cell_type": "code",
      "source": [
        "!mkdir -p data"
      ],
      "metadata": {
        "id": "r2TEii0S7_JN"
      },
      "execution_count": null,
      "outputs": []
    },
    {
      "cell_type": "code",
      "source": [
        "!wget -P data https://storage.googleapis.com/su-artifacts/movies_metadata.csv\n",
        "!wget -P data https://storage.googleapis.com/su-artifacts/ratings.csv\n",
        "!wget -P data https://storage.googleapis.com/su-artifacts/taxi_trip_data.csv\n",
        "!wget -P data https://storage.googleapis.com/su-artifacts/userdata1.orc\n",
        "!wget -P data https://storage.googleapis.com/su-artifacts/userdata1.parquet"
      ],
      "metadata": {
        "colab": {
          "base_uri": "https://localhost:8080/"
        },
        "id": "LrUfmub78XZR",
        "outputId": "8ee3c393-c76f-4a0c-da79-c81b792f1ec3"
      },
      "execution_count": null,
      "outputs": [
        {
          "output_type": "stream",
          "name": "stdout",
          "text": [
            "--2023-10-04 13:50:22--  https://storage.googleapis.com/su-artifacts/movies_metadata.csv\n",
            "Resolving storage.googleapis.com (storage.googleapis.com)... 74.125.203.207, 64.233.187.207, 64.233.188.207, ...\n",
            "Connecting to storage.googleapis.com (storage.googleapis.com)|74.125.203.207|:443... connected.\n",
            "HTTP request sent, awaiting response... 200 OK\n",
            "Length: 34445126 (33M) [text/csv]\n",
            "Saving to: ‘data/movies_metadata.csv’\n",
            "\n",
            "movies_metadata.csv 100%[===================>]  32.85M  34.7MB/s    in 0.9s    \n",
            "\n",
            "2023-10-04 13:50:23 (34.7 MB/s) - ‘data/movies_metadata.csv’ saved [34445126/34445126]\n",
            "\n",
            "--2023-10-04 13:50:23--  https://storage.googleapis.com/su-artifacts/ratings.csv\n",
            "Resolving storage.googleapis.com (storage.googleapis.com)... 74.125.203.207, 64.233.187.207, 64.233.188.207, ...\n",
            "Connecting to storage.googleapis.com (storage.googleapis.com)|74.125.203.207|:443... connected.\n",
            "HTTP request sent, awaiting response... 200 OK\n",
            "Length: 709550327 (677M) [text/csv]\n",
            "Saving to: ‘data/ratings.csv’\n",
            "\n",
            "ratings.csv         100%[===================>] 676.68M  31.2MB/s    in 21s     \n",
            "\n",
            "2023-10-04 13:50:44 (32.8 MB/s) - ‘data/ratings.csv’ saved [709550327/709550327]\n",
            "\n",
            "--2023-10-04 13:50:45--  https://storage.googleapis.com/su-artifacts/taxi_trip_data.csv\n",
            "Resolving storage.googleapis.com (storage.googleapis.com)... 74.125.203.207, 64.233.187.207, 64.233.188.207, ...\n",
            "Connecting to storage.googleapis.com (storage.googleapis.com)|74.125.203.207|:443... connected.\n",
            "HTTP request sent, awaiting response... 200 OK\n",
            "Length: 1466182802 (1.4G) [text/csv]\n",
            "Saving to: ‘data/taxi_trip_data.csv’\n",
            "\n",
            "taxi_trip_data.csv  100%[===================>]   1.37G  59.0MB/s    in 27s     \n",
            "\n",
            "2023-10-04 13:51:12 (51.8 MB/s) - ‘data/taxi_trip_data.csv’ saved [1466182802/1466182802]\n",
            "\n",
            "--2023-10-04 13:51:12--  https://storage.googleapis.com/su-artifacts/1k.variants.avro\n",
            "Resolving storage.googleapis.com (storage.googleapis.com)... 74.125.203.207, 74.125.204.207, 64.233.187.207, ...\n",
            "Connecting to storage.googleapis.com (storage.googleapis.com)|74.125.203.207|:443... connected.\n",
            "HTTP request sent, awaiting response... 200 OK\n",
            "Length: 1952604 (1.9M) [application/octet-stream]\n",
            "Saving to: ‘data/1k.variants.avro’\n",
            "\n",
            "1k.variants.avro    100%[===================>]   1.86M  7.52MB/s    in 0.2s    \n",
            "\n",
            "2023-10-04 13:51:13 (7.52 MB/s) - ‘data/1k.variants.avro’ saved [1952604/1952604]\n",
            "\n",
            "--2023-10-04 13:51:13--  https://storage.googleapis.com/su-artifacts/userdata1.orc\n",
            "Resolving storage.googleapis.com (storage.googleapis.com)... 74.125.203.207, 74.125.204.207, 64.233.187.207, ...\n",
            "Connecting to storage.googleapis.com (storage.googleapis.com)|74.125.203.207|:443... connected.\n",
            "HTTP request sent, awaiting response... 200 OK\n",
            "Length: 46545 (45K) [application/octet-stream]\n",
            "Saving to: ‘data/userdata1.orc’\n",
            "\n",
            "userdata1.orc       100%[===================>]  45.45K  --.-KB/s    in 0.01s   \n",
            "\n",
            "2023-10-04 13:51:13 (3.69 MB/s) - ‘data/userdata1.orc’ saved [46545/46545]\n",
            "\n",
            "--2023-10-04 13:51:13--  https://storage.googleapis.com/su-artifacts/userdata1.parquet\n",
            "Resolving storage.googleapis.com (storage.googleapis.com)... 74.125.203.207, 74.125.204.207, 64.233.187.207, ...\n",
            "Connecting to storage.googleapis.com (storage.googleapis.com)|74.125.203.207|:443... connected.\n",
            "HTTP request sent, awaiting response... 200 OK\n",
            "Length: 113629 (111K) [application/octet-stream]\n",
            "Saving to: ‘data/userdata1.parquet’\n",
            "\n",
            "userdata1.parquet   100%[===================>] 110.97K  --.-KB/s    in 0.1s    \n",
            "\n",
            "2023-10-04 13:51:14 (1.12 MB/s) - ‘data/userdata1.parquet’ saved [113629/113629]\n",
            "\n"
          ]
        }
      ]
    },
    {
      "cell_type": "code",
      "source": [
        "df = spark.read.parquet('data/userdata1.parquet')\n",
        "df.show()"
      ],
      "metadata": {
        "colab": {
          "base_uri": "https://localhost:8080/"
        },
        "id": "5odksbT69b2J",
        "outputId": "ec974841-13a0-41fb-8e9c-bee01a62c9bb"
      },
      "execution_count": null,
      "outputs": [
        {
          "output_type": "stream",
          "name": "stdout",
          "text": [
            "+-------------------+---+----------+---------+--------------------+------+---------------+-------------------+--------------------+----------+---------+--------------------+--------------------+\n",
            "|  registration_dttm| id|first_name|last_name|               email|gender|     ip_address|                 cc|             country| birthdate|   salary|               title|            comments|\n",
            "+-------------------+---+----------+---------+--------------------+------+---------------+-------------------+--------------------+----------+---------+--------------------+--------------------+\n",
            "|2016-02-03 07:55:29|  1|    Amanda|   Jordan|    ajordan0@com.com|Female|    1.197.201.2|   6759521864920116|           Indonesia|  3/8/1971| 49756.53|    Internal Auditor|               1E+02|\n",
            "|2016-02-03 17:04:03|  2|    Albert|  Freeman|     afreeman1@is.gd|  Male| 218.111.175.34|                   |              Canada| 1/16/1968|150280.17|       Accountant IV|                    |\n",
            "|2016-02-03 01:09:31|  3|    Evelyn|   Morgan|emorgan2@altervis...|Female|   7.161.136.94|   6767119071901597|              Russia|  2/1/1960|144972.51| Structural Engineer|                    |\n",
            "|2016-02-03 00:36:21|  4|    Denise|    Riley|    driley3@gmpg.org|Female|  140.35.109.83|   3576031598965625|               China|  4/8/1997| 90263.05|Senior Cost Accou...|                    |\n",
            "|2016-02-03 05:05:31|  5|    Carlos|    Burns|cburns4@miitbeian...|      | 169.113.235.40|   5602256255204850|        South Africa|          |     NULL|                    |                    |\n",
            "|2016-02-03 07:22:34|  6|   Kathryn|    White|  kwhite5@google.com|Female| 195.131.81.179|   3583136326049310|           Indonesia| 2/25/1983| 69227.11|   Account Executive|                    |\n",
            "|2016-02-03 08:33:08|  7|    Samuel|   Holmes|sholmes6@foxnews.com|  Male| 232.234.81.197|   3582641366974690|            Portugal|12/18/1987| 14247.62|Senior Financial ...|                    |\n",
            "|2016-02-03 06:47:06|  8|     Harry|   Howell| hhowell7@eepurl.com|  Male|   91.235.51.73|                   |Bosnia and Herzeg...|  3/1/1962|186469.43|    Web Developer IV|                    |\n",
            "|2016-02-03 03:52:53|  9|      Jose|   Foster|   jfoster8@yelp.com|  Male|   132.31.53.61|                   |         South Korea| 3/27/1992|231067.84|Software Test Eng...|               1E+02|\n",
            "|2016-02-03 18:29:47| 10|     Emily|  Stewart|estewart9@opensou...|Female| 143.28.251.245|   3574254110301671|             Nigeria| 1/28/1997| 27234.28|     Health Coach IV|                    |\n",
            "|2016-02-03 00:10:42| 11|     Susan|  Perkins| sperkinsa@patch.com|Female|    180.85.0.62|   3573823609854134|              Russia|          |210001.95|                    |                    |\n",
            "|2016-02-03 18:04:34| 12|     Alice|    Berry|aberryb@wikipedia...|Female| 246.225.12.189|   4917830851454417|               China| 8/12/1968| 22944.53|    Quality Engineer|                    |\n",
            "|2016-02-03 18:48:17| 13|    Justin|    Berry|jberryc@usatoday.com|  Male|   157.7.146.43|6331109912871813274|              Zambia| 8/15/1975| 44165.46|Structural Analys...|                    |\n",
            "|2016-02-03 21:46:52| 14|     Kathy| Reynolds|kreynoldsd@redcro...|Female|  81.254.172.13|   5537178462965976|Bosnia and Herzeg...| 6/27/1970|286592.99|           Librarian|                    |\n",
            "|2016-02-03 08:53:23| 15|   Dorothy|   Hudson|dhudsone@blogger.com|Female|       8.59.7.0|   3542586858224170|               Japan|12/20/1989|157099.71|  Nurse Practicioner|<script>alert('hi...|\n",
            "|2016-02-03 00:44:01| 16|     Bruce|   Willis|bwillisf@bluehost...|  Male|239.182.219.189|   3573030625927601|              Brazil|          |239100.65|                    |                    |\n",
            "|2016-02-03 00:57:45| 17|     Emily|  Andrews|eandrewsg@cornell...|Female| 29.231.180.172|     30271790537626|              Russia| 4/13/1990|116800.65|        Food Chemist|                    |\n",
            "|2016-02-03 16:44:24| 18|   Stephen|  Wallace|swallaceh@netvibe...|  Male|  152.49.213.62|   5433943468526428|             Ukraine| 1/15/1978|248877.99|Account Represent...|                    |\n",
            "|2016-02-03 11:45:54| 19|  Clarence|   Lawson|clawsoni@vkontakt...|  Male| 107.175.15.152|   3544052814080964|              Russia|          |177122.99|                    |                    |\n",
            "|2016-02-03 10:30:36| 20|   Rebecca|     Bell| rbellj@bandcamp.com|Female|172.215.104.127|                   |               China|          |137251.19|                    |                    |\n",
            "+-------------------+---+----------+---------+--------------------+------+---------------+-------------------+--------------------+----------+---------+--------------------+--------------------+\n",
            "only showing top 20 rows\n",
            "\n"
          ]
        }
      ]
    },
    {
      "cell_type": "code",
      "source": [
        "df = spark.read.orc('data/userdata1.orc')\n",
        "df.show()"
      ],
      "metadata": {
        "colab": {
          "base_uri": "https://localhost:8080/"
        },
        "id": "I37la4QA-TMm",
        "outputId": "f521cbae-5529-4cef-fcc6-5753e32eba95"
      },
      "execution_count": null,
      "outputs": [
        {
          "output_type": "stream",
          "name": "stdout",
          "text": [
            "+-------------------+-----+--------+---------+--------------------+------+---------------+----------------+--------------------+----------+---------+--------------------+------+\n",
            "|              _col0|_col1|   _col2|    _col3|               _col4| _col5|          _col6|           _col7|               _col8|     _col9|   _col10|              _col11|_col12|\n",
            "+-------------------+-----+--------+---------+--------------------+------+---------------+----------------+--------------------+----------+---------+--------------------+------+\n",
            "|2016-02-03 13:36:39|    1|  Donald|    Lewis|dlewis0@clickbank...|  Male|  102.22.124.20|                |           Indonesia|  7/9/1972|140249.37|Senior Financial ...|      |\n",
            "|2016-02-03 00:22:28|    2|  Walter|  Collins|wcollins1@bloglov...|  Male|   247.28.26.93|3587726269478025|               China|          |     NULL|                    |      |\n",
            "|2016-02-03 18:29:04|    3|Michelle|Henderson|mhenderson2@geoci...|Female| 193.68.146.150|                |              France| 1/15/1964|236219.26|             Teacher|      |\n",
            "|2016-02-03 13:42:19|    4|    Lori|   Hudson| lhudson3@dion.ne.jp|      |  34.252.168.48|3568840151595649|              Russia| 4/22/1988|     NULL|Nuclear Power Eng...|      |\n",
            "|2016-02-03 00:15:29|    5|  Howard|   Miller|   hmiller4@fema.gov|  Male|103.193.150.230|3583473261055014|              France|11/26/1998| 50210.02|       Senior Editor|      |\n",
            "|2016-02-03 10:49:07|    6| Frances|    Adams|fadams5@123-reg.c...|Female| 106.196.106.93|                |              Russia| 3/27/1997| 82175.77| Account Coordinator|      |\n",
            "|2016-02-03 19:44:12| NULL|  Steven|   Hanson|  shanson6@cisco.com|  Male|234.130.172.185|3550842607768119|           Indonesia|          |129582.61|                    |      |\n",
            "|2016-02-03 08:11:34|    8|   Louis|  Simmons|   lsimmons7@icio.us|  Male|    18.69.80.15|                |               China|  6/1/1992| 90744.86|    Product Engineer|      |\n",
            "|2016-02-03 23:56:51|    9|   Keith|   Parker|kparker8@amazonaw...|  Male|  108.205.40.64|                |          Guadeloupe|12/30/1992|  60618.9|        Developer II|      |\n",
            "|2016-02-03 07:47:29|   10|   Wanda|   Walker|wwalker9@latimes.com|Female|  246.214.98.78|3539421569669478|            Portugal|          |137664.53|                    |      |\n",
            "|2016-02-03 16:39:23|   11| Kathryn|   Weaver|kweavera@bizjourn...|Female| 157.237.161.75| 201425019338900|              Sweden|          |117572.65|                    |      |\n",
            "|2016-02-03 06:50:56|   12|  Philip|     Ward| pwardb@sakura.ne.jp|  Male|  77.140.225.69| 201508031789224|              Greece|  9/3/1984|238925.79|Human Resources M...|      |\n",
            "|2016-02-03 23:36:58|   13|  Evelyn|   Harvey|   eharveyc@time.com|      |  254.174.154.7|3539535868968594|               China| 5/15/1979|     NULL|Software Engineer...|      |\n",
            "|2016-02-03 07:33:24|   14|  Andrea|     Lane|       alaned@gov.uk|Female|192.253.116.192|5100174455306952|           Indonesia| 1/19/1989|166778.42|            Operator|      |\n",
            "|2016-02-03 13:45:04|   15|   Bobby|  Vasquez|  bvasqueze@furl.net|  Male|  126.60.18.195|3581051861650673|         Philippines| 1/25/1975|138184.83|       Senior Editor|      |\n",
            "|2016-02-03 21:58:10|   16| Kenneth|   Gibson|kgibsonf@soundclo...|  Male| 91.153.142.170|5389947292571488|                Peru| 11/3/1975| 98614.53|  Environmental Tech|      |\n",
            "|2016-02-03 16:22:34|   17|   Emily|     Hill|    ehillg@house.gov|Female|109.107.174.205|                |Palestinian Terri...| 5/18/1956|218781.48| Executive Secretary|      |\n",
            "|2016-02-03 23:20:49|   18|   Kelly|   Fowler|   kfowlerh@dell.com|Female|  147.58.88.116|3551741291105936|              Greece| 6/11/1975|117249.56|Systems Administr...|      |\n",
            "|2016-02-03 18:28:46|   19|   Diana|   Howell| dhowelli@sphinn.com|Female|   21.240.75.42|4026635872860296|                Iran|  7/7/1993|174844.52|             Teacher|      |\n",
            "|2016-02-03 02:23:26|   20|  Johnny|  Collins| jcollinsj@google.ca|  Male| 38.173.129.250| 372301677387203|         Afghanistan| 7/28/1987|155908.69|       Social Worker|      |\n",
            "+-------------------+-----+--------+---------+--------------------+------+---------------+----------------+--------------------+----------+---------+--------------------+------+\n",
            "only showing top 20 rows\n",
            "\n"
          ]
        }
      ]
    },
    {
      "cell_type": "code",
      "source": [
        "movies = spark.read.csv('data/movies_metadata.csv', header=True)\n",
        "ratings = spark.read.csv('data/ratings.csv', header=True)\n",
        "taxi = spark.read.csv('data/taxi_trip_data.csv', header=True)"
      ],
      "metadata": {
        "id": "miuJSiRD_eA2"
      },
      "execution_count": null,
      "outputs": []
    },
    {
      "cell_type": "code",
      "source": [
        "movies.printSchema()"
      ],
      "metadata": {
        "colab": {
          "base_uri": "https://localhost:8080/"
        },
        "id": "Hbw45ZcZ_4Bn",
        "outputId": "956a8031-2536-4973-97d4-76a7d6169f20"
      },
      "execution_count": null,
      "outputs": [
        {
          "output_type": "stream",
          "name": "stdout",
          "text": [
            "root\n",
            " |-- adult: string (nullable = true)\n",
            " |-- belongs_to_collection: string (nullable = true)\n",
            " |-- budget: string (nullable = true)\n",
            " |-- genres: string (nullable = true)\n",
            " |-- homepage: string (nullable = true)\n",
            " |-- id: string (nullable = true)\n",
            " |-- imdb_id: string (nullable = true)\n",
            " |-- original_language: string (nullable = true)\n",
            " |-- original_title: string (nullable = true)\n",
            " |-- overview: string (nullable = true)\n",
            " |-- popularity: string (nullable = true)\n",
            " |-- poster_path: string (nullable = true)\n",
            " |-- production_companies: string (nullable = true)\n",
            " |-- production_countries: string (nullable = true)\n",
            " |-- release_date: string (nullable = true)\n",
            " |-- revenue: string (nullable = true)\n",
            " |-- runtime: string (nullable = true)\n",
            " |-- spoken_languages: string (nullable = true)\n",
            " |-- status: string (nullable = true)\n",
            " |-- tagline: string (nullable = true)\n",
            " |-- title: string (nullable = true)\n",
            " |-- video: string (nullable = true)\n",
            " |-- vote_average: string (nullable = true)\n",
            " |-- vote_count: string (nullable = true)\n",
            "\n"
          ]
        }
      ]
    },
    {
      "cell_type": "code",
      "source": [
        "ratings.printSchema()"
      ],
      "metadata": {
        "colab": {
          "base_uri": "https://localhost:8080/"
        },
        "id": "sz0jjCFO_wcU",
        "outputId": "2b7eae16-4ea9-4a4b-da1c-e495d75677ad"
      },
      "execution_count": null,
      "outputs": [
        {
          "output_type": "stream",
          "name": "stdout",
          "text": [
            "root\n",
            " |-- userId: string (nullable = true)\n",
            " |-- movieId: string (nullable = true)\n",
            " |-- rating: string (nullable = true)\n",
            " |-- timestamp: string (nullable = true)\n",
            "\n"
          ]
        }
      ]
    },
    {
      "cell_type": "code",
      "source": [
        "taxi.printSchema()"
      ],
      "metadata": {
        "colab": {
          "base_uri": "https://localhost:8080/"
        },
        "id": "fC-BED54G3lF",
        "outputId": "ddcca036-2a43-4779-e381-2974d74fd69a"
      },
      "execution_count": null,
      "outputs": [
        {
          "output_type": "stream",
          "name": "stdout",
          "text": [
            "root\n",
            " |-- vendor_id: string (nullable = true)\n",
            " |-- pickup_datetime: string (nullable = true)\n",
            " |-- dropoff_datetime: string (nullable = true)\n",
            " |-- passenger_count: string (nullable = true)\n",
            " |-- trip_distance: string (nullable = true)\n",
            " |-- rate_code: string (nullable = true)\n",
            " |-- store_and_fwd_flag: string (nullable = true)\n",
            " |-- payment_type: string (nullable = true)\n",
            " |-- fare_amount: string (nullable = true)\n",
            " |-- extra: string (nullable = true)\n",
            " |-- mta_tax: string (nullable = true)\n",
            " |-- tip_amount: string (nullable = true)\n",
            " |-- tolls_amount: string (nullable = true)\n",
            " |-- imp_surcharge: string (nullable = true)\n",
            " |-- total_amount: string (nullable = true)\n",
            " |-- pickup_location_id: string (nullable = true)\n",
            " |-- dropoff_location_id: string (nullable = true)\n",
            "\n"
          ]
        }
      ]
    },
    {
      "cell_type": "code",
      "source": [
        "movies = spark.read.csv('data/movies_metadata.csv', header=True, inferSchema=True, quote=\"\\\"\", escape=\"\\\"\")"
      ],
      "metadata": {
        "id": "IWec2yxrG7yp"
      },
      "execution_count": null,
      "outputs": []
    },
    {
      "cell_type": "code",
      "source": [
        "movies.printSchema()"
      ],
      "metadata": {
        "colab": {
          "base_uri": "https://localhost:8080/"
        },
        "id": "XgVmnJFdG_Et",
        "outputId": "660e1812-0f77-4b31-9eaa-d27a7a14ac21"
      },
      "execution_count": null,
      "outputs": [
        {
          "output_type": "stream",
          "name": "stdout",
          "text": [
            "root\n",
            " |-- adult: string (nullable = true)\n",
            " |-- belongs_to_collection: string (nullable = true)\n",
            " |-- budget: string (nullable = true)\n",
            " |-- genres: string (nullable = true)\n",
            " |-- homepage: string (nullable = true)\n",
            " |-- id: string (nullable = true)\n",
            " |-- imdb_id: string (nullable = true)\n",
            " |-- original_language: string (nullable = true)\n",
            " |-- original_title: string (nullable = true)\n",
            " |-- overview: string (nullable = true)\n",
            " |-- popularity: string (nullable = true)\n",
            " |-- poster_path: string (nullable = true)\n",
            " |-- production_companies: string (nullable = true)\n",
            " |-- production_countries: string (nullable = true)\n",
            " |-- release_date: string (nullable = true)\n",
            " |-- revenue: string (nullable = true)\n",
            " |-- runtime: string (nullable = true)\n",
            " |-- spoken_languages: string (nullable = true)\n",
            " |-- status: string (nullable = true)\n",
            " |-- tagline: string (nullable = true)\n",
            " |-- title: string (nullable = true)\n",
            " |-- video: string (nullable = true)\n",
            " |-- vote_average: string (nullable = true)\n",
            " |-- vote_count: string (nullable = true)\n",
            "\n"
          ]
        }
      ]
    },
    {
      "cell_type": "code",
      "source": [
        "ratings = spark.read.csv('data/ratings.csv', header=True, inferSchema=True)"
      ],
      "metadata": {
        "id": "rxXMe5tdAhhI"
      },
      "execution_count": null,
      "outputs": []
    },
    {
      "cell_type": "code",
      "source": [
        "ratings.printSchema()"
      ],
      "metadata": {
        "colab": {
          "base_uri": "https://localhost:8080/"
        },
        "id": "gmfe5kwUArq-",
        "outputId": "f1e48e3a-1362-4eb0-d0b3-4591eba35c48"
      },
      "execution_count": null,
      "outputs": [
        {
          "output_type": "stream",
          "name": "stdout",
          "text": [
            "root\n",
            " |-- userId: integer (nullable = true)\n",
            " |-- movieId: integer (nullable = true)\n",
            " |-- rating: double (nullable = true)\n",
            " |-- timestamp: integer (nullable = true)\n",
            "\n"
          ]
        }
      ]
    },
    {
      "cell_type": "markdown",
      "source": [
        "Passing a schema will speed up the read."
      ],
      "metadata": {
        "id": "9a3R2ZE1HUFZ"
      }
    },
    {
      "cell_type": "code",
      "source": [
        "dtypes = ['vendor_id integer',\n",
        " 'pickup_datetime timestamp',\n",
        " 'dropoff_datetime timestamp',\n",
        " 'passenger_count integer',\n",
        " 'trip_distance double',\n",
        " 'rate_code integer',\n",
        " 'store_and_fwd_flag string',\n",
        " 'payment_type integer',\n",
        " 'fare_amount double',\n",
        " 'extra double',\n",
        " 'mta_tax double',\n",
        " 'tip_amount double',\n",
        " 'tolls_amount double',\n",
        " 'imp_surcharge double',\n",
        " 'total_amount double',\n",
        " 'pickup_location_id integer',\n",
        " 'dropoff_location_id integer']"
      ],
      "metadata": {
        "id": "1OuIC8ObHy0s"
      },
      "execution_count": null,
      "outputs": []
    },
    {
      "cell_type": "code",
      "source": [
        "taxi = spark.read.csv('data/taxi_trip_data.csv', header=True,\n",
        "                      schema=', '.join(dtypes))"
      ],
      "metadata": {
        "id": "5JbmrKbiHKdc"
      },
      "execution_count": null,
      "outputs": []
    },
    {
      "cell_type": "code",
      "source": [
        "taxi.printSchema()"
      ],
      "metadata": {
        "colab": {
          "base_uri": "https://localhost:8080/"
        },
        "id": "DEuzBCPRAFMY",
        "outputId": "b73c1cd1-6c31-48a7-e7db-617208cf1d61"
      },
      "execution_count": null,
      "outputs": [
        {
          "output_type": "stream",
          "name": "stdout",
          "text": [
            "root\n",
            " |-- vendor_id: integer (nullable = true)\n",
            " |-- pickup_datetime: timestamp (nullable = true)\n",
            " |-- dropoff_datetime: timestamp (nullable = true)\n",
            " |-- passenger_count: integer (nullable = true)\n",
            " |-- trip_distance: double (nullable = true)\n",
            " |-- rate_code: integer (nullable = true)\n",
            " |-- store_and_fwd_flag: string (nullable = true)\n",
            " |-- payment_type: integer (nullable = true)\n",
            " |-- fare_amount: double (nullable = true)\n",
            " |-- extra: double (nullable = true)\n",
            " |-- mta_tax: double (nullable = true)\n",
            " |-- tip_amount: double (nullable = true)\n",
            " |-- tolls_amount: double (nullable = true)\n",
            " |-- imp_surcharge: double (nullable = true)\n",
            " |-- total_amount: double (nullable = true)\n",
            " |-- pickup_location_id: integer (nullable = true)\n",
            " |-- dropoff_location_id: integer (nullable = true)\n",
            "\n"
          ]
        }
      ]
    },
    {
      "cell_type": "markdown",
      "source": [
        "There are a couple of ways to view your dataframe in PySpark:\n",
        "\n",
        "1.   `df.take(5)` will return a list of five Row objects.\n",
        "2.   `df.collect()` will get all of the data from the entire DataFrame. Be really careful when using it, because if you have a large data set, you can easily crash the driver node.\n",
        "3.   `df.show()` is the most commonly used method to view a dataframe. There are a few parameters we can pass to this method, like the number of rows and truncaiton. For example, `df.show(5, False)` or ` df.show(5, truncate=False)` will show the entire data wihtout any truncation.\n",
        "4.   `df.limit(5)` will **return a new DataFrame** by taking the first n rows. As spark is distributed in nature, there is no guarantee that `df.limit()` will give you the same results each time."
      ],
      "metadata": {
        "id": "DhNpGCZHI5Yy"
      }
    },
    {
      "cell_type": "code",
      "source": [
        "movies.show(10)"
      ],
      "metadata": {
        "colab": {
          "base_uri": "https://localhost:8080/"
        },
        "id": "6vYO64dNIoYD",
        "outputId": "a8b6b997-ede7-488b-f4be-ef36f16c7910"
      },
      "execution_count": null,
      "outputs": [
        {
          "output_type": "stream",
          "name": "stdout",
          "text": [
            "+-----+---------------------+--------+--------------------+--------------------+-----+---------+-----------------+--------------------+--------------------+----------+--------------------+--------------------+--------------------+------------+---------+-------+--------------------+--------+--------------------+--------------------+-----+------------+----------+\n",
            "|adult|belongs_to_collection|  budget|              genres|            homepage|   id|  imdb_id|original_language|      original_title|            overview|popularity|         poster_path|production_companies|production_countries|release_date|  revenue|runtime|    spoken_languages|  status|             tagline|               title|video|vote_average|vote_count|\n",
            "+-----+---------------------+--------+--------------------+--------------------+-----+---------+-----------------+--------------------+--------------------+----------+--------------------+--------------------+--------------------+------------+---------+-------+--------------------+--------+--------------------+--------------------+-----+------------+----------+\n",
            "|False| {'id': 10194, 'na...|30000000|[{'id': 16, 'name...|http://toystory.d...|  862|tt0114709|               en|           Toy Story|Led by Woody, And...| 21.946943|/rhIRbceoE9lR4veE...|[{'name': 'Pixar ...|[{'iso_3166_1': '...|  1995-10-30|373554033|   81.0|[{'iso_639_1': 'e...|Released|                NULL|           Toy Story|False|         7.7|      5415|\n",
            "|False|                 NULL|65000000|[{'id': 12, 'name...|                NULL| 8844|tt0113497|               en|             Jumanji|When siblings Jud...| 17.015539|/vzmL6fP7aPKNKPRT...|[{'name': 'TriSta...|[{'iso_3166_1': '...|  1995-12-15|262797249|  104.0|[{'iso_639_1': 'e...|Released|Roll the dice and...|             Jumanji|False|         6.9|      2413|\n",
            "|False| {'id': 119050, 'n...|       0|[{'id': 10749, 'n...|                NULL|15602|tt0113228|               en|    Grumpier Old Men|A family wedding ...|   11.7129|/6ksm1sjKMFLbO7UY...|[{'name': 'Warner...|[{'iso_3166_1': '...|  1995-12-22|        0|  101.0|[{'iso_639_1': 'e...|Released|Still Yelling. St...|    Grumpier Old Men|False|         6.5|        92|\n",
            "|False|                 NULL|16000000|[{'id': 35, 'name...|                NULL|31357|tt0114885|               en|   Waiting to Exhale|Cheated on, mistr...|  3.859495|/16XOMpEaLWkrcPqS...|[{'name': 'Twenti...|[{'iso_3166_1': '...|  1995-12-22| 81452156|  127.0|[{'iso_639_1': 'e...|Released|Friends are the p...|   Waiting to Exhale|False|         6.1|        34|\n",
            "|False| {'id': 96871, 'na...|       0|[{'id': 35, 'name...|                NULL|11862|tt0113041|               en|Father of the Bri...|Just when George ...|  8.387519|/e64sOI48hQXyru7n...|[{'name': 'Sandol...|[{'iso_3166_1': '...|  1995-02-10| 76578911|  106.0|[{'iso_639_1': 'e...|Released|Just When His Wor...|Father of the Bri...|False|         5.7|       173|\n",
            "|False|                 NULL|60000000|[{'id': 28, 'name...|                NULL|  949|tt0113277|               en|                Heat|Obsessive master ...| 17.924927|/zMyfPUelumio3tiD...|[{'name': 'Regenc...|[{'iso_3166_1': '...|  1995-12-15|187436818|  170.0|[{'iso_639_1': 'e...|Released|A Los Angeles Cri...|                Heat|False|         7.7|      1886|\n",
            "|False|                 NULL|58000000|[{'id': 35, 'name...|                NULL|11860|tt0114319|               en|             Sabrina|An ugly duckling ...|  6.677277|/jQh15y5YB7bWz1Nt...|[{'name': 'Paramo...|[{'iso_3166_1': '...|  1995-12-15|        0|  127.0|[{'iso_639_1': 'f...|Released|You are cordially...|             Sabrina|False|         6.2|       141|\n",
            "|False|                 NULL|       0|[{'id': 28, 'name...|                NULL|45325|tt0112302|               en|        Tom and Huck|A mischievous you...|  2.561161|/sGO5Qa55p7wTu7FJ...|[{'name': 'Walt D...|[{'iso_3166_1': '...|  1995-12-22|        0|   97.0|[{'iso_639_1': 'e...|Released|The Original Bad ...|        Tom and Huck|False|         5.4|        45|\n",
            "|False|                 NULL|35000000|[{'id': 28, 'name...|                NULL| 9091|tt0114576|               en|        Sudden Death|International act...|   5.23158|/eoWvKD60lT95Ss1M...|[{'name': 'Univer...|[{'iso_3166_1': '...|  1995-12-22| 64350171|  106.0|[{'iso_639_1': 'e...|Released|Terror goes into ...|        Sudden Death|False|         5.5|       174|\n",
            "|False| {'id': 645, 'name...|58000000|[{'id': 12, 'name...|http://www.mgm.co...|  710|tt0113189|               en|           GoldenEye|James Bond must u...| 14.686036|/5c0ovjT41KnYIHYu...|[{'name': 'United...|[{'iso_3166_1': '...|  1995-11-16|352194034|  130.0|[{'iso_639_1': 'e...|Released|No limits. No fea...|           GoldenEye|False|         6.6|      1194|\n",
            "+-----+---------------------+--------+--------------------+--------------------+-----+---------+-----------------+--------------------+--------------------+----------+--------------------+--------------------+--------------------+------------+---------+-------+--------------------+--------+--------------------+--------------------+-----+------------+----------+\n",
            "only showing top 10 rows\n",
            "\n"
          ]
        }
      ]
    },
    {
      "cell_type": "code",
      "source": [
        "movies.show(5, truncate=False)"
      ],
      "metadata": {
        "colab": {
          "base_uri": "https://localhost:8080/"
        },
        "id": "Ku5Ohaa6JAa7",
        "outputId": "0afd4b55-8aaa-4ca0-f2f4-25339602054d"
      },
      "execution_count": null,
      "outputs": [
        {
          "output_type": "stream",
          "name": "stdout",
          "text": [
            "+-----+---------------------------------------------------------------------------------------------------------------------------------------------------------------+--------+-------------------------------------------------------------------------------------------------+------------------------------------+-----+---------+-----------------+---------------------------+-----------------------------------------------------------------------------------------------------------------------------------------------------------------------------------------------------------------------------------------------------------------------------------------------------------------------------------------------------------------------------------------------------------+----------+--------------------------------+-----------------------------------------------------------------------------------------------------------------------------------+----------------------------------------------------------+------------+---------+-------+---------------------------------------------------------------------------------+--------+------------------------------------------------------------------------------+---------------------------+-----+------------+----------+\n",
            "|adult|belongs_to_collection                                                                                                                                          |budget  |genres                                                                                           |homepage                            |id   |imdb_id  |original_language|original_title             |overview                                                                                                                                                                                                                                                                                                                                                                                                   |popularity|poster_path                     |production_companies                                                                                                               |production_countries                                      |release_date|revenue  |runtime|spoken_languages                                                                 |status  |tagline                                                                       |title                      |video|vote_average|vote_count|\n",
            "+-----+---------------------------------------------------------------------------------------------------------------------------------------------------------------+--------+-------------------------------------------------------------------------------------------------+------------------------------------+-----+---------+-----------------+---------------------------+-----------------------------------------------------------------------------------------------------------------------------------------------------------------------------------------------------------------------------------------------------------------------------------------------------------------------------------------------------------------------------------------------------------+----------+--------------------------------+-----------------------------------------------------------------------------------------------------------------------------------+----------------------------------------------------------+------------+---------+-------+---------------------------------------------------------------------------------+--------+------------------------------------------------------------------------------+---------------------------+-----+------------+----------+\n",
            "|False|{'id': 10194, 'name': 'Toy Story Collection', 'poster_path': '/7G9915LfUQ2lVfwMEEhDsn3kT4B.jpg', 'backdrop_path': '/9FBwqcd9IRruEDUrTdcaafOMKUq.jpg'}          |30000000|[{'id': 16, 'name': 'Animation'}, {'id': 35, 'name': 'Comedy'}, {'id': 10751, 'name': 'Family'}] |http://toystory.disney.com/toy-story|862  |tt0114709|en               |Toy Story                  |Led by Woody, Andy's toys live happily in his room until Andy's birthday brings Buzz Lightyear onto the scene. Afraid of losing his place in Andy's heart, Woody plots against Buzz. But when circumstances separate Buzz and Woody from their owner, the duo eventually learns to put aside their differences.                                                                                            |21.946943 |/rhIRbceoE9lR4veEXuwCC2wARtG.jpg|[{'name': 'Pixar Animation Studios', 'id': 3}]                                                                                     |[{'iso_3166_1': 'US', 'name': 'United States of America'}]|1995-10-30  |373554033|81.0   |[{'iso_639_1': 'en', 'name': 'English'}]                                         |Released|NULL                                                                          |Toy Story                  |False|7.7         |5415      |\n",
            "|False|NULL                                                                                                                                                           |65000000|[{'id': 12, 'name': 'Adventure'}, {'id': 14, 'name': 'Fantasy'}, {'id': 10751, 'name': 'Family'}]|NULL                                |8844 |tt0113497|en               |Jumanji                    |When siblings Judy and Peter discover an enchanted board game that opens the door to a magical world, they unwittingly invite Alan -- an adult who's been trapped inside the game for 26 years -- into their living room. Alan's only hope for freedom is to finish the game, which proves risky as all three find themselves running from giant rhinoceroses, evil monkeys and other terrifying creatures.|17.015539 |/vzmL6fP7aPKNKPRTFnZmiUfciyV.jpg|[{'name': 'TriStar Pictures', 'id': 559}, {'name': 'Teitler Film', 'id': 2550}, {'name': 'Interscope Communications', 'id': 10201}]|[{'iso_3166_1': 'US', 'name': 'United States of America'}]|1995-12-15  |262797249|104.0  |[{'iso_639_1': 'en', 'name': 'English'}, {'iso_639_1': 'fr', 'name': 'Français'}]|Released|Roll the dice and unleash the excitement!                                     |Jumanji                    |False|6.9         |2413      |\n",
            "|False|{'id': 119050, 'name': 'Grumpy Old Men Collection', 'poster_path': '/nLvUdqgPgm3F85NMCii9gVFUcet.jpg', 'backdrop_path': '/hypTnLot2z8wpFS7qwsQHW1uV8u.jpg'}    |0       |[{'id': 10749, 'name': 'Romance'}, {'id': 35, 'name': 'Comedy'}]                                 |NULL                                |15602|tt0113228|en               |Grumpier Old Men           |A family wedding reignites the ancient feud between next-door neighbors and fishing buddies John and Max. Meanwhile, a sultry Italian divorcée opens a restaurant at the local bait shop, alarming the locals who worry she'll scare the fish away. But she's less interested in seafood than she is in cooking up a hot time with Max.                                                                    |11.7129   |/6ksm1sjKMFLbO7UY2i6G1ju9SML.jpg|[{'name': 'Warner Bros.', 'id': 6194}, {'name': 'Lancaster Gate', 'id': 19464}]                                                    |[{'iso_3166_1': 'US', 'name': 'United States of America'}]|1995-12-22  |0        |101.0  |[{'iso_639_1': 'en', 'name': 'English'}]                                         |Released|Still Yelling. Still Fighting. Still Ready for Love.                          |Grumpier Old Men           |False|6.5         |92        |\n",
            "|False|NULL                                                                                                                                                           |16000000|[{'id': 35, 'name': 'Comedy'}, {'id': 18, 'name': 'Drama'}, {'id': 10749, 'name': 'Romance'}]    |NULL                                |31357|tt0114885|en               |Waiting to Exhale          |Cheated on, mistreated and stepped on, the women are holding their breath, waiting for the elusive \"good man\" to break a string of less-than-stellar lovers. Friends and confidants Vannah, Bernie, Glo and Robin talk it all out, determined to find a better way to breathe.                                                                                                                             |3.859495  |/16XOMpEaLWkrcPqSQqhTmeJuqQl.jpg|[{'name': 'Twentieth Century Fox Film Corporation', 'id': 306}]                                                                    |[{'iso_3166_1': 'US', 'name': 'United States of America'}]|1995-12-22  |81452156 |127.0  |[{'iso_639_1': 'en', 'name': 'English'}]                                         |Released|Friends are the people who let you be yourself... and never let you forget it.|Waiting to Exhale          |False|6.1         |34        |\n",
            "|False|{'id': 96871, 'name': 'Father of the Bride Collection', 'poster_path': '/nts4iOmNnq7GNicycMJ9pSAn204.jpg', 'backdrop_path': '/7qwE57OVZmMJChBpLEbJEmzUydk.jpg'}|0       |[{'id': 35, 'name': 'Comedy'}]                                                                   |NULL                                |11862|tt0113041|en               |Father of the Bride Part II|Just when George Banks has recovered from his daughter's wedding, he receives the news that she's pregnant ... and that George's wife, Nina, is expecting too. He was planning on selling their home, but that's a plan that -- like George -- will have to change with the arrival of both a grandchild and a kid of his own.                                                                             |8.387519  |/e64sOI48hQXyru7naBFyssKFxVd.jpg|[{'name': 'Sandollar Productions', 'id': 5842}, {'name': 'Touchstone Pictures', 'id': 9195}]                                       |[{'iso_3166_1': 'US', 'name': 'United States of America'}]|1995-02-10  |76578911 |106.0  |[{'iso_639_1': 'en', 'name': 'English'}]                                         |Released|Just When His World Is Back To Normal... He's In For The Surprise Of His Life!|Father of the Bride Part II|False|5.7         |173       |\n",
            "+-----+---------------------------------------------------------------------------------------------------------------------------------------------------------------+--------+-------------------------------------------------------------------------------------------------+------------------------------------+-----+---------+-----------------+---------------------------+-----------------------------------------------------------------------------------------------------------------------------------------------------------------------------------------------------------------------------------------------------------------------------------------------------------------------------------------------------------------------------------------------------------+----------+--------------------------------+-----------------------------------------------------------------------------------------------------------------------------------+----------------------------------------------------------+------------+---------+-------+---------------------------------------------------------------------------------+--------+------------------------------------------------------------------------------+---------------------------+-----+------------+----------+\n",
            "only showing top 5 rows\n",
            "\n"
          ]
        }
      ]
    },
    {
      "cell_type": "code",
      "source": [
        "# can also be shown vertically\n",
        "movies.show(1, vertical=True, truncate=False)"
      ],
      "metadata": {
        "colab": {
          "base_uri": "https://localhost:8080/"
        },
        "id": "sj1hzCXZKCHV",
        "outputId": "0f75d43f-b018-487b-d3d4-c87fe5bf3b51"
      },
      "execution_count": null,
      "outputs": [
        {
          "output_type": "stream",
          "name": "stdout",
          "text": [
            "-RECORD 0--------------------------------------------------------------------------------------------------------------------------------------------------------------------------------------------------------------------------------------------------------------------------------------------------------------------------------\n",
            " adult                 | False                                                                                                                                                                                                                                                                                                           \n",
            " belongs_to_collection | {'id': 10194, 'name': 'Toy Story Collection', 'poster_path': '/7G9915LfUQ2lVfwMEEhDsn3kT4B.jpg', 'backdrop_path': '/9FBwqcd9IRruEDUrTdcaafOMKUq.jpg'}                                                                                                                                                           \n",
            " budget                | 30000000                                                                                                                                                                                                                                                                                                        \n",
            " genres                | [{'id': 16, 'name': 'Animation'}, {'id': 35, 'name': 'Comedy'}, {'id': 10751, 'name': 'Family'}]                                                                                                                                                                                                                \n",
            " homepage              | http://toystory.disney.com/toy-story                                                                                                                                                                                                                                                                            \n",
            " id                    | 862                                                                                                                                                                                                                                                                                                             \n",
            " imdb_id               | tt0114709                                                                                                                                                                                                                                                                                                       \n",
            " original_language     | en                                                                                                                                                                                                                                                                                                              \n",
            " original_title        | Toy Story                                                                                                                                                                                                                                                                                                       \n",
            " overview              | Led by Woody, Andy's toys live happily in his room until Andy's birthday brings Buzz Lightyear onto the scene. Afraid of losing his place in Andy's heart, Woody plots against Buzz. But when circumstances separate Buzz and Woody from their owner, the duo eventually learns to put aside their differences. \n",
            " popularity            | 21.946943                                                                                                                                                                                                                                                                                                       \n",
            " poster_path           | /rhIRbceoE9lR4veEXuwCC2wARtG.jpg                                                                                                                                                                                                                                                                                \n",
            " production_companies  | [{'name': 'Pixar Animation Studios', 'id': 3}]                                                                                                                                                                                                                                                                  \n",
            " production_countries  | [{'iso_3166_1': 'US', 'name': 'United States of America'}]                                                                                                                                                                                                                                                      \n",
            " release_date          | 1995-10-30                                                                                                                                                                                                                                                                                                      \n",
            " revenue               | 373554033                                                                                                                                                                                                                                                                                                       \n",
            " runtime               | 81.0                                                                                                                                                                                                                                                                                                            \n",
            " spoken_languages      | [{'iso_639_1': 'en', 'name': 'English'}]                                                                                                                                                                                                                                                                        \n",
            " status                | Released                                                                                                                                                                                                                                                                                                        \n",
            " tagline               | NULL                                                                                                                                                                                                                                                                                                            \n",
            " title                 | Toy Story                                                                                                                                                                                                                                                                                                       \n",
            " video                 | False                                                                                                                                                                                                                                                                                                           \n",
            " vote_average          | 7.7                                                                                                                                                                                                                                                                                                             \n",
            " vote_count            | 5415                                                                                                                                                                                                                                                                                                            \n",
            "only showing top 1 row\n",
            "\n"
          ]
        }
      ]
    },
    {
      "cell_type": "code",
      "source": [
        "ratings.show(10)"
      ],
      "metadata": {
        "colab": {
          "base_uri": "https://localhost:8080/"
        },
        "id": "WiqfEY-1Ir0j",
        "outputId": "f0d58d70-a69d-4940-f313-aa69c010449f"
      },
      "execution_count": null,
      "outputs": [
        {
          "output_type": "stream",
          "name": "stdout",
          "text": [
            "+------+-------+------+----------+\n",
            "|userId|movieId|rating| timestamp|\n",
            "+------+-------+------+----------+\n",
            "|     1|    110|   1.0|1425941529|\n",
            "|     1|    147|   4.5|1425942435|\n",
            "|     1|    858|   5.0|1425941523|\n",
            "|     1|   1221|   5.0|1425941546|\n",
            "|     1|   1246|   5.0|1425941556|\n",
            "|     1|   1968|   4.0|1425942148|\n",
            "|     1|   2762|   4.5|1425941300|\n",
            "|     1|   2918|   5.0|1425941593|\n",
            "|     1|   2959|   4.0|1425941601|\n",
            "|     1|   4226|   4.0|1425942228|\n",
            "+------+-------+------+----------+\n",
            "only showing top 10 rows\n",
            "\n"
          ]
        }
      ]
    },
    {
      "cell_type": "code",
      "source": [
        "taxi.show(10)"
      ],
      "metadata": {
        "colab": {
          "base_uri": "https://localhost:8080/"
        },
        "id": "SRXESwE4Itf6",
        "outputId": "765e8758-71cb-4f0d-9172-caa93832bf30"
      },
      "execution_count": null,
      "outputs": [
        {
          "output_type": "stream",
          "name": "stdout",
          "text": [
            "+---------+-------------------+-------------------+---------------+-------------+---------+------------------+------------+-----------+-----+-------+----------+------------+-------------+------------+------------------+-------------------+\n",
            "|vendor_id|    pickup_datetime|   dropoff_datetime|passenger_count|trip_distance|rate_code|store_and_fwd_flag|payment_type|fare_amount|extra|mta_tax|tip_amount|tolls_amount|imp_surcharge|total_amount|pickup_location_id|dropoff_location_id|\n",
            "+---------+-------------------+-------------------+---------------+-------------+---------+------------------+------------+-----------+-----+-------+----------+------------+-------------+------------+------------------+-------------------+\n",
            "|        2|2018-03-29 13:37:13|2018-03-29 14:17:01|              1|        18.15|        3|                 N|           1|       70.0|  0.0|    0.0|     16.16|        10.5|          0.3|       96.96|               161|                  1|\n",
            "|        2|2018-03-29 13:37:18|2018-03-29 14:15:33|              1|         4.59|        1|                 N|           1|       25.0|  0.0|    0.5|      5.16|         0.0|          0.3|       30.96|                13|                230|\n",
            "|        2|2018-03-29 13:26:57|2018-03-29 13:28:03|              1|          0.3|        1|                 N|           1|        3.0|  0.0|    0.5|      0.76|         0.0|          0.3|        4.56|               231|                231|\n",
            "|        2|2018-03-29 13:07:48|2018-03-29 14:03:05|              2|        16.97|        1|                 N|           1|       49.5|  0.0|    0.5|      5.61|        5.76|          0.3|       61.67|               231|                138|\n",
            "|        2|2018-03-29 14:19:11|2018-03-29 15:19:59|              5|        14.45|        1|                 N|           1|       45.5|  0.0|    0.5|     10.41|        5.76|          0.3|       62.47|                87|                138|\n",
            "|        2|2018-03-29 14:52:55|2018-03-29 15:51:55|              1|         11.6|        1|                 N|           1|       42.0|  0.0|    0.5|     14.57|        5.76|          0.3|       63.13|                68|                138|\n",
            "|        1|2018-03-29 14:09:41|2018-03-29 14:36:29|              1|          5.8|        1|                 N|           1|       24.0|  0.0|    0.5|      4.95|         0.0|          0.3|       29.75|               100|                 87|\n",
            "|        2|2018-03-29 15:21:42|2018-03-29 16:04:16|              1|         3.38|        1|                 N|           1|       25.0|  0.0|    0.5|      5.16|         0.0|          0.3|       30.96|               144|                161|\n",
            "|        2|2018-03-29 15:14:59|2018-03-29 16:42:46|              1|        16.98|        3|                 N|           1|       85.0|  0.0|    0.0|      15.0|        12.5|          0.3|       112.8|                87|                  1|\n",
            "|        2|2018-03-29 16:27:58|2018-03-29 16:58:08|              1|         4.99|        1|                 N|           1|       22.0|  1.0|    0.5|      4.76|         0.0|          0.3|       28.56|                13|                161|\n",
            "+---------+-------------------+-------------------+---------------+-------------+---------+------------------+------------+-----------+-----+-------+----------+------------+-------------+------------+------------------+-------------------+\n",
            "only showing top 10 rows\n",
            "\n"
          ]
        }
      ]
    },
    {
      "cell_type": "code",
      "source": [
        "taxi.limit(5).show()"
      ],
      "metadata": {
        "colab": {
          "base_uri": "https://localhost:8080/"
        },
        "id": "aG5UlLVLIypN",
        "outputId": "fa077d69-cd6d-4c81-ffba-6c69f60c4091"
      },
      "execution_count": null,
      "outputs": [
        {
          "output_type": "stream",
          "name": "stdout",
          "text": [
            "+---------+-------------------+-------------------+---------------+-------------+---------+------------------+------------+-----------+-----+-------+----------+------------+-------------+------------+------------------+-------------------+\n",
            "|vendor_id|    pickup_datetime|   dropoff_datetime|passenger_count|trip_distance|rate_code|store_and_fwd_flag|payment_type|fare_amount|extra|mta_tax|tip_amount|tolls_amount|imp_surcharge|total_amount|pickup_location_id|dropoff_location_id|\n",
            "+---------+-------------------+-------------------+---------------+-------------+---------+------------------+------------+-----------+-----+-------+----------+------------+-------------+------------+------------------+-------------------+\n",
            "|        2|2018-03-29 13:37:13|2018-03-29 14:17:01|              1|        18.15|        3|                 N|           1|       70.0|  0.0|    0.0|     16.16|        10.5|          0.3|       96.96|               161|                  1|\n",
            "|        2|2018-03-29 13:37:18|2018-03-29 14:15:33|              1|         4.59|        1|                 N|           1|       25.0|  0.0|    0.5|      5.16|         0.0|          0.3|       30.96|                13|                230|\n",
            "|        2|2018-03-29 13:26:57|2018-03-29 13:28:03|              1|          0.3|        1|                 N|           1|        3.0|  0.0|    0.5|      0.76|         0.0|          0.3|        4.56|               231|                231|\n",
            "|        2|2018-03-29 13:07:48|2018-03-29 14:03:05|              2|        16.97|        1|                 N|           1|       49.5|  0.0|    0.5|      5.61|        5.76|          0.3|       61.67|               231|                138|\n",
            "|        2|2018-03-29 14:19:11|2018-03-29 15:19:59|              5|        14.45|        1|                 N|           1|       45.5|  0.0|    0.5|     10.41|        5.76|          0.3|       62.47|                87|                138|\n",
            "+---------+-------------------+-------------------+---------------+-------------+---------+------------------+------------+-----------+-----+-------+----------+------------+-------------+------------+------------------+-------------------+\n",
            "\n"
          ]
        }
      ]
    },
    {
      "cell_type": "code",
      "source": [
        "movies.describe().show()"
      ],
      "metadata": {
        "colab": {
          "base_uri": "https://localhost:8080/"
        },
        "id": "uYinFUS3KXYo",
        "outputId": "a8bb13b4-7137-4022-9093-2d8e4d69f0ee"
      },
      "execution_count": null,
      "outputs": [
        {
          "output_type": "stream",
          "name": "stdout",
          "text": [
            "+-------+-------------------+---------------------+--------------------+--------------------+--------------------+--------------------+--------------------+-----------------+-----------------------------------+--------------------+--------------------+--------------------+------------------------+--------------------+--------------------+--------------------+--------------------+--------------------+------------------+------------------+--------------------+-----+--------------------+------------------+\n",
            "|summary|              adult|belongs_to_collection|              budget|              genres|            homepage|                  id|             imdb_id|original_language|                     original_title|            overview|          popularity|         poster_path|    production_companies|production_countries|        release_date|             revenue|             runtime|    spoken_languages|            status|           tagline|               title|video|        vote_average|        vote_count|\n",
            "+-------+-------------------+---------------------+--------------------+--------------------+--------------------+--------------------+--------------------+-----------------+-----------------------------------+--------------------+--------------------+--------------------+------------------------+--------------------+--------------------+--------------------+--------------------+--------------------+------------------+------------------+--------------------+-----+--------------------+------------------+\n",
            "|  count|              45572|                 4591|               45555|               45549|                7857|               45541|               45524|            45530|                              45540|               44586|               45449|               45072|                   45452|               45456|               45376|               45439|               45169|               45410|             45318|             20394|               45393|45391|               45392|             45391|\n",
            "|   mean|               NULL|   1.5354219545454546|   4223278.286075615|  1.3762527647058822|           2.1596433|  108350.38580904546|  3192598.2306698407| 48.8654822972973|                           Infinity|   61.84533946428571|  2.9394940655051665|   5846484.571428572|      55.721906499999996|   7.652608119999999|   27.65135135135135|1.1216808938356195E7|   94.08559470292533|              22.475|18.981818181818184|318.92857142857144|            Infinity|  3.7|   5.618969771745905|110.03040518210061|\n",
            "| stddev|               NULL|   2.8947605310025293|1.7421608015910886E7|  1.4278676612523276|   3.782712121377584|  112460.39461456212|1.5959850652741542E7|50.53933896712909|                                NaN|   52.90864238731892|   6.129823563954732|1.5468163427045606E7|      60.530089393811274|  17.375723735930922|  107.67170427229662| 6.435948302757812E7|  38.459262585606446|   44.08208252793872|36.026290904888285| 717.1061304862428|                 NaN| NULL|  1.9230723154315725|491.68345039151495|\n",
            "|    min| (Post-apocalypse)\"|  \"\"NO DOWN PAYMEN...| \"\"The Adventure ...|  \"\"His Last Bow\"\".\"|       70s hairstyle|              1978.\"|             252 252|   Rachel Roberts|                        Janice Rule|                    | Butch Cassidy an...| Ralph applies hi...|     fending off nays...|/tlIBZHCQn4dOkrh8...|/u6YDFe0ix9hMtQeD...|                   0|                   0|                   0|                 0|                  |!Women Art Revolu...|  3.7|                 0.0|                 0|\n",
            "|    max|               True| {'id': 99727, 'na...|              998000|[{'name': 'WhiteF...|https://zeitgeist...|[{'name': 'Warner...|           tt7158814|               zu|ＳＭガールズ セイバーマリオネットＲ|…ere erera baleib...|[{'iso_639_1': 'x...|[{'iso_639_1': 'z...|[{'name': '프로덕션M'...|[{'iso_639_1': 'z...|Приключения Шерло...|[{'name': 'Allian...|[{'iso_639_1': 'j...|[{'iso_639_1': 'z...|           Rumored|  李麗珍蜜桃成熟時|    ファンタスティポ| True|Something's Gonna...|       Saint Ralph|\n",
            "+-------+-------------------+---------------------+--------------------+--------------------+--------------------+--------------------+--------------------+-----------------+-----------------------------------+--------------------+--------------------+--------------------+------------------------+--------------------+--------------------+--------------------+--------------------+--------------------+------------------+------------------+--------------------+-----+--------------------+------------------+\n",
            "\n"
          ]
        }
      ]
    },
    {
      "cell_type": "code",
      "source": [
        "ratings.describe().show()"
      ],
      "metadata": {
        "colab": {
          "base_uri": "https://localhost:8080/"
        },
        "id": "xT1dm9WRKmHB",
        "outputId": "714cff30-0a0b-4cbc-860d-5cacdc3f6957"
      },
      "execution_count": null,
      "outputs": [
        {
          "output_type": "stream",
          "name": "stdout",
          "text": [
            "+-------+-----------------+------------------+------------------+--------------------+\n",
            "|summary|           userId|           movieId|            rating|           timestamp|\n",
            "+-------+-----------------+------------------+------------------+--------------------+\n",
            "|  count|         26024289|          26024289|          26024289|            26024289|\n",
            "|   mean| 135037.090248114|15849.109677040553|3.5280903543608817|1.1712584326913223E9|\n",
            "| stddev|78176.19722170963|31085.257531391508|1.0654427636662405|2.0528887028185263E8|\n",
            "|    min|                1|                 1|               0.5|           789652004|\n",
            "|    max|           270896|            176275|               5.0|          1501829870|\n",
            "+-------+-----------------+------------------+------------------+--------------------+\n",
            "\n"
          ]
        }
      ]
    },
    {
      "cell_type": "code",
      "source": [
        "taxi.describe().show()"
      ],
      "metadata": {
        "colab": {
          "base_uri": "https://localhost:8080/"
        },
        "id": "OUmLPl3LKnDq",
        "outputId": "8eee9736-0108-42ed-dea4-b761eb18975a"
      },
      "execution_count": null,
      "outputs": [
        {
          "output_type": "stream",
          "name": "stdout",
          "text": [
            "+-------+------------------+------------------+-----------------+------------------+------------------+-------------------+------------------+------------------+-------------------+-----------------+------------------+--------------------+------------------+------------------+-------------------+\n",
            "|summary|         vendor_id|   passenger_count|    trip_distance|         rate_code|store_and_fwd_flag|       payment_type|       fare_amount|             extra|            mta_tax|       tip_amount|      tolls_amount|       imp_surcharge|      total_amount|pickup_location_id|dropoff_location_id|\n",
            "+-------+------------------+------------------+-----------------+------------------+------------------+-------------------+------------------+------------------+-------------------+-----------------+------------------+--------------------+------------------+------------------+-------------------+\n",
            "|  count|          10000000|          10000000|         10000000|          10000000|          10000000|           10000000|          10000000|          10000000|           10000000|         10000000|          10000000|            10000000|          10000000|          10000000|           10000000|\n",
            "|   mean|         1.6143277|         1.6029494|8.849280209999234|         1.2012385|              NULL|          1.1892995|31.652551951001048|0.3383780649999997|        0.481928941|5.598526988996461|2.1379179970025284|  0.2978831379950231| 40.51607352907407|       153.5631699|        148.1428256|\n",
            "| stddev|0.5146575594508966|1.2457816727809192|5.882028461543529|1.2507334338503795|              NULL|0.43398757831794216|160.60113941564882|0.5512911467900146|0.12072823130547818|4.840596207475448| 3.750309296286813|0.034060274386492784|161.16336870776652| 60.76455590224348|  75.74852785257272|\n",
            "|    min|                 1|                 0|              0.0|                 1|                 N|                  1|            -800.0|             -80.0|               -0.5|          -322.42|             -52.5|                -0.3|            -800.3|                 1|                  1|\n",
            "|    max|                 4|                 9|          7655.76|                99|                 Y|                  5|         398460.05|              84.0|              150.0|            496.0|            918.25|                 1.0|         398521.96|               265|                265|\n",
            "+-------+------------------+------------------+-----------------+------------------+------------------+-------------------+------------------+------------------+-------------------+-----------------+------------------+--------------------+------------------+------------------+-------------------+\n",
            "\n"
          ]
        }
      ]
    },
    {
      "cell_type": "markdown",
      "source": [
        "### DataFrame Operations on Columns\n",
        "\n",
        "We will go over the following in this section:\n",
        "\n",
        "1.   Selecting a Column\n",
        "2.   Selecting Multiple Columns\n",
        "3.   Adding New Columns\n",
        "4.   Renaming Columns\n",
        "5.   Removing Columns\n"
      ],
      "metadata": {
        "id": "srqwAMFMJkU0"
      }
    },
    {
      "cell_type": "code",
      "source": [
        "movies.id"
      ],
      "metadata": {
        "colab": {
          "base_uri": "https://localhost:8080/"
        },
        "id": "TF0Z0RqeJjp8",
        "outputId": "fa506ac1-39fb-42d0-a0ee-c50d7b664e61"
      },
      "execution_count": null,
      "outputs": [
        {
          "output_type": "execute_result",
          "data": {
            "text/plain": [
              "Column<'id'>"
            ]
          },
          "metadata": {},
          "execution_count": 48
        }
      ]
    },
    {
      "cell_type": "markdown",
      "source": [
        "Just like DataFrame, selecting a column is lazily evaluated and does not trigger the computation but returns a `Column` instance.\n",
        "\n",
        "It can be used to select columns and returns another DataFrame:"
      ],
      "metadata": {
        "id": "o59d97i2NnKb"
      }
    },
    {
      "cell_type": "code",
      "source": [
        "movies.select(movies.id).show()"
      ],
      "metadata": {
        "colab": {
          "base_uri": "https://localhost:8080/"
        },
        "id": "Ydr4uqznNl4d",
        "outputId": "599679db-e7e8-4e83-a801-f3e9ea421dce"
      },
      "execution_count": null,
      "outputs": [
        {
          "output_type": "stream",
          "name": "stdout",
          "text": [
            "+-----+\n",
            "|   id|\n",
            "+-----+\n",
            "|  862|\n",
            "| 8844|\n",
            "|15602|\n",
            "|31357|\n",
            "|11862|\n",
            "|  949|\n",
            "|11860|\n",
            "|45325|\n",
            "| 9091|\n",
            "|  710|\n",
            "| 9087|\n",
            "|12110|\n",
            "|21032|\n",
            "|10858|\n",
            "| 1408|\n",
            "|  524|\n",
            "| 4584|\n",
            "|    5|\n",
            "| 9273|\n",
            "|11517|\n",
            "+-----+\n",
            "only showing top 20 rows\n",
            "\n"
          ]
        }
      ]
    },
    {
      "cell_type": "code",
      "source": [
        "movies.select(movies.title, movies.overview).show(truncate=False)"
      ],
      "metadata": {
        "colab": {
          "base_uri": "https://localhost:8080/"
        },
        "id": "G5yp1kdgOPRe",
        "outputId": "2a64cdf7-b5a2-456d-f40e-d4cb08a86954"
      },
      "execution_count": null,
      "outputs": [
        {
          "output_type": "stream",
          "name": "stdout",
          "text": [
            "+------------------------------+----------------------------------------------------------------------------------------------------------------------------------------------------------------------------------------------------------------------------------------------------------------------------------------------------------------------------------------------------------------------------------------------------------------------------------------------------------------+\n",
            "|title                         |overview                                                                                                                                                                                                                                                                                                                                                                                                                                                        |\n",
            "+------------------------------+----------------------------------------------------------------------------------------------------------------------------------------------------------------------------------------------------------------------------------------------------------------------------------------------------------------------------------------------------------------------------------------------------------------------------------------------------------------+\n",
            "|Toy Story                     |Led by Woody, Andy's toys live happily in his room until Andy's birthday brings Buzz Lightyear onto the scene. Afraid of losing his place in Andy's heart, Woody plots against Buzz. But when circumstances separate Buzz and Woody from their owner, the duo eventually learns to put aside their differences.                                                                                                                                                 |\n",
            "|Jumanji                       |When siblings Judy and Peter discover an enchanted board game that opens the door to a magical world, they unwittingly invite Alan -- an adult who's been trapped inside the game for 26 years -- into their living room. Alan's only hope for freedom is to finish the game, which proves risky as all three find themselves running from giant rhinoceroses, evil monkeys and other terrifying creatures.                                                     |\n",
            "|Grumpier Old Men              |A family wedding reignites the ancient feud between next-door neighbors and fishing buddies John and Max. Meanwhile, a sultry Italian divorcée opens a restaurant at the local bait shop, alarming the locals who worry she'll scare the fish away. But she's less interested in seafood than she is in cooking up a hot time with Max.                                                                                                                         |\n",
            "|Waiting to Exhale             |Cheated on, mistreated and stepped on, the women are holding their breath, waiting for the elusive \"good man\" to break a string of less-than-stellar lovers. Friends and confidants Vannah, Bernie, Glo and Robin talk it all out, determined to find a better way to breathe.                                                                                                                                                                                  |\n",
            "|Father of the Bride Part II   |Just when George Banks has recovered from his daughter's wedding, he receives the news that she's pregnant ... and that George's wife, Nina, is expecting too. He was planning on selling their home, but that's a plan that -- like George -- will have to change with the arrival of both a grandchild and a kid of his own.                                                                                                                                  |\n",
            "|Heat                          |Obsessive master thief, Neil McCauley leads a top-notch crew on various insane heists throughout Los Angeles while a mentally unstable detective, Vincent Hanna pursues him without rest. Each man recognizes and respects the ability and the dedication of the other even though they are aware their cat-and-mouse game may end in violence.                                                                                                                 |\n",
            "|Sabrina                       |An ugly duckling having undergone a remarkable change, still harbors feelings for her crush: a carefree playboy, but not before his business-focused brother has something to say about it.                                                                                                                                                                                                                                                                     |\n",
            "|Tom and Huck                  |A mischievous young boy, Tom Sawyer, witnesses a murder by the deadly Injun Joe. Tom becomes friends with Huckleberry Finn, a boy with no future and no family. Tom has to choose between honoring a friendship or honoring an oath because the town alcoholic is accused of the murder. Tom and Huck go through several adventures trying to retrieve evidence.                                                                                                |\n",
            "|Sudden Death                  |International action superstar Jean Claude Van Damme teams with Powers Boothe in a Tension-packed, suspense thriller, set against the back-drop of a Stanley Cup game.Van Damme portrays a father whose daughter is suddenly taken during a championship hockey game. With the captors demanding a billion dollars by game's end, Van Damme frantically sets a plan in motion to rescue his daughter and abort an impending explosion before the final buzzer...|\n",
            "|GoldenEye                     |James Bond must unmask the mysterious head of the Janus Syndicate and prevent the leader from utilizing the GoldenEye weapons system to inflict devastating revenge on Britain.                                                                                                                                                                                                                                                                                 |\n",
            "|The American President        |Widowed U.S. president Andrew Shepherd, one of the world's most powerful men, can have anything he wants -- and what he covets most is Sydney Ellen Wade, a Washington lobbyist. But Shepherd's attempts at courting her spark wild rumors and decimate his approval ratings.                                                                                                                                                                                   |\n",
            "|Dracula: Dead and Loving It   |When a lawyer shows up at the vampire's doorstep, he falls prey to his charms and joins him in his search for fresh blood. Enter Dr. van Helsing, who may be the only one able to vanquish the count.                                                                                                                                                                                                                                                           |\n",
            "|Balto                         |An outcast half-wolf risks his life to prevent a deadly epidemic from ravaging Nome, Alaska.                                                                                                                                                                                                                                                                                                                                                                    |\n",
            "|Nixon                         |An all-star cast powers this epic look at American President Richard M. Nixon, a man carrying the fate of the world on his shoulders while battling the self-destructive demands within. Spanning his troubled boyhood in California to the shocking Watergate scandal that would end his presidency.                                                                                                                                                           |\n",
            "|Cutthroat Island              |Morgan Adams and her slave, William Shaw, are on a quest to recover the three portions of a treasure map. Unfortunately, the final portion is held by her murderous uncle, Dawg. Her crew is skeptical of her leadership abilities, so she must complete her quest before they mutiny against her. This is made yet more difficult by the efforts of the British crown to end her pirate raids.                                                                 |\n",
            "|Casino                        |The life of the gambling paradise – Las Vegas – and its dark mafia underbelly.                                                                                                                                                                                                                                                                                                                                                                                  |\n",
            "|Sense and Sensibility         |Rich Mr. Dashwood dies, leaving his second wife and her daughters poor by the rules of inheritance. Two daughters are the titular opposites.                                                                                                                                                                                                                                                                                                                    |\n",
            "|Four Rooms                    |It's Ted the Bellhop's first night on the job...and the hotel's very unusual guests are about to place him in some outrageous predicaments. It seems that this evening's room service is serving up one unbelievable happening after another.                                                                                                                                                                                                                   |\n",
            "|Ace Ventura: When Nature Calls|Summoned from an ashram in Tibet, Ace finds himself on a perilous journey into the jungles of Africa to find Shikaka, the missing sacred animal of the friendly Wachati tribe. He must accomplish this before the wedding of the Wachati's Princess to the prince of the warrior Wachootoos. If Ace fails, the result will be a vicious tribal war.                                                                                                             |\n",
            "|Money Train                   |A vengeful New York transit cop decides to steal a trainload of subway fares; his foster brother, a fellow cop, tries to protect him.                                                                                                                                                                                                                                                                                                                           |\n",
            "+------------------------------+----------------------------------------------------------------------------------------------------------------------------------------------------------------------------------------------------------------------------------------------------------------------------------------------------------------------------------------------------------------------------------------------------------------------------------------------------------------+\n",
            "only showing top 20 rows\n",
            "\n"
          ]
        }
      ]
    },
    {
      "cell_type": "markdown",
      "source": [
        "Creating a new column:"
      ],
      "metadata": {
        "id": "gqApk2x-OpEs"
      }
    },
    {
      "cell_type": "code",
      "source": [
        "from pyspark.sql.functions import lit"
      ],
      "metadata": {
        "id": "6mf9kBX5PQaE"
      },
      "execution_count": null,
      "outputs": []
    },
    {
      "cell_type": "code",
      "source": [
        "# lit means literal. It populates the row with the literal value given\n",
        "ratings.withColumn('review', lit('Great movie!')).show(10)"
      ],
      "metadata": {
        "colab": {
          "base_uri": "https://localhost:8080/"
        },
        "id": "pKxyOHWFPSHW",
        "outputId": "19750a1d-3b2a-42fe-9b9a-250e77ef6e30"
      },
      "execution_count": null,
      "outputs": [
        {
          "output_type": "stream",
          "name": "stdout",
          "text": [
            "+------+-------+------+----------+------------+\n",
            "|userId|movieId|rating| timestamp|      review|\n",
            "+------+-------+------+----------+------------+\n",
            "|     1|    110|   1.0|1425941529|Great movie!|\n",
            "|     1|    147|   4.5|1425942435|Great movie!|\n",
            "|     1|    858|   5.0|1425941523|Great movie!|\n",
            "|     1|   1221|   5.0|1425941546|Great movie!|\n",
            "|     1|   1246|   5.0|1425941556|Great movie!|\n",
            "|     1|   1968|   4.0|1425942148|Great movie!|\n",
            "|     1|   2762|   4.5|1425941300|Great movie!|\n",
            "|     1|   2918|   5.0|1425941593|Great movie!|\n",
            "|     1|   2959|   4.0|1425941601|Great movie!|\n",
            "|     1|   4226|   4.0|1425942228|Great movie!|\n",
            "+------+-------+------+----------+------------+\n",
            "only showing top 10 rows\n",
            "\n"
          ]
        }
      ]
    },
    {
      "cell_type": "code",
      "source": [
        "ratings.withColumn('review', lit('Great movie!')) \\\n",
        "       .withColumn('mood', lit(5)) \\\n",
        "       .show(10)"
      ],
      "metadata": {
        "colab": {
          "base_uri": "https://localhost:8080/"
        },
        "id": "itZlHm53Plh5",
        "outputId": "03223f23-e58d-4a3b-df47-d4bdb2eb84dd"
      },
      "execution_count": null,
      "outputs": [
        {
          "output_type": "stream",
          "name": "stdout",
          "text": [
            "+------+-------+------+----------+------------+----+\n",
            "|userId|movieId|rating| timestamp|      review|mood|\n",
            "+------+-------+------+----------+------------+----+\n",
            "|     1|    110|   1.0|1425941529|Great movie!|   5|\n",
            "|     1|    147|   4.5|1425942435|Great movie!|   5|\n",
            "|     1|    858|   5.0|1425941523|Great movie!|   5|\n",
            "|     1|   1221|   5.0|1425941546|Great movie!|   5|\n",
            "|     1|   1246|   5.0|1425941556|Great movie!|   5|\n",
            "|     1|   1968|   4.0|1425942148|Great movie!|   5|\n",
            "|     1|   2762|   4.5|1425941300|Great movie!|   5|\n",
            "|     1|   2918|   5.0|1425941593|Great movie!|   5|\n",
            "|     1|   2959|   4.0|1425941601|Great movie!|   5|\n",
            "|     1|   4226|   4.0|1425942228|Great movie!|   5|\n",
            "+------+-------+------+----------+------------+----+\n",
            "only showing top 10 rows\n",
            "\n"
          ]
        }
      ]
    },
    {
      "cell_type": "code",
      "source": [
        "movies.withColumnRenamed('overview', 'summary').show(5)"
      ],
      "metadata": {
        "colab": {
          "base_uri": "https://localhost:8080/"
        },
        "id": "hUdFHvWkOlfw",
        "outputId": "a9b9345e-8727-4b26-e2f1-5f4ac3093ea7"
      },
      "execution_count": null,
      "outputs": [
        {
          "output_type": "stream",
          "name": "stdout",
          "text": [
            "+-----+---------------------+--------+--------------------+--------------------+-----+---------+-----------------+--------------------+--------------------+----------+--------------------+--------------------+--------------------+--------------------+--------------------+--------------------+--------------------+--------+--------------------+--------------------+--------+--------------------+-----------------+\n",
            "|adult|belongs_to_collection|  budget|              genres|            homepage|   id|  imdb_id|original_language|      original_title|             summary|popularity|         poster_path|production_companies|production_countries|        release_date|             revenue|             runtime|    spoken_languages|  status|             tagline|               title|   video|        vote_average|       vote_count|\n",
            "+-----+---------------------+--------+--------------------+--------------------+-----+---------+-----------------+--------------------+--------------------+----------+--------------------+--------------------+--------------------+--------------------+--------------------+--------------------+--------------------+--------+--------------------+--------------------+--------+--------------------+-----------------+\n",
            "|False| {'id': 10194, 'na...|30000000|[{'id': 16, 'name...|http://toystory.d...|  862|tt0114709|               en|           Toy Story|Led by Woody, And...| 21.946943|/rhIRbceoE9lR4veE...|[{'name': 'Pixar ...|[{'iso_3166_1': '...|          1995-10-30|           373554033|                81.0|[{'iso_639_1': 'e...|Released|                NULL|           Toy Story|   False|                 7.7|             5415|\n",
            "|False|                 NULL|65000000|[{'id': 12, 'name...|                NULL| 8844|tt0113497|               en|             Jumanji|When siblings Jud...| 17.015539|/vzmL6fP7aPKNKPRT...|[{'name': 'TriSta...|[{'iso_3166_1': '...|          1995-12-15|           262797249|               104.0|[{'iso_639_1': 'e...|Released|Roll the dice and...|             Jumanji|   False|                 6.9|             2413|\n",
            "|False| {'id': 119050, 'n...|       0|[{'id': 10749, 'n...|                NULL|15602|tt0113228|               en|    Grumpier Old Men|A family wedding ...|   11.7129|/6ksm1sjKMFLbO7UY...|[{'name': 'Warner...|[{'iso_3166_1': '...|          1995-12-22|                   0|               101.0|[{'iso_639_1': 'e...|Released|Still Yelling. St...|    Grumpier Old Men|   False|                 6.5|               92|\n",
            "|False|                 NULL|16000000|[{'id': 35, 'name...|                NULL|31357|tt0114885|               en|   Waiting to Exhale|\"Cheated on, mist...|    Bernie| Glo and Robin ta...| determined to fi...|            3.859495|/16XOMpEaLWkrcPqS...|[{'name': 'Twenti...|[{'iso_3166_1': '...|          1995-12-22|81452156|               127.0|[{'iso_639_1': 'e...|Released|Friends are the p...|Waiting to Exhale|\n",
            "|False| {'id': 96871, 'na...|       0|[{'id': 35, 'name...|                NULL|11862|tt0113041|               en|Father of the Bri...|Just when George ...|  8.387519|/e64sOI48hQXyru7n...|[{'name': 'Sandol...|[{'iso_3166_1': '...|          1995-02-10|            76578911|               106.0|[{'iso_639_1': 'e...|Released|Just When His Wor...|Father of the Bri...|   False|                 5.7|              173|\n",
            "+-----+---------------------+--------+--------------------+--------------------+-----+---------+-----------------+--------------------+--------------------+----------+--------------------+--------------------+--------------------+--------------------+--------------------+--------------------+--------------------+--------+--------------------+--------------------+--------+--------------------+-----------------+\n",
            "only showing top 5 rows\n",
            "\n"
          ]
        }
      ]
    },
    {
      "cell_type": "code",
      "source": [
        "ratings.drop('timestamp').show()"
      ],
      "metadata": {
        "colab": {
          "base_uri": "https://localhost:8080/"
        },
        "id": "dqLqpHphQ-l2",
        "outputId": "c0ba2a9c-5672-4119-b11d-11da9c403008"
      },
      "execution_count": null,
      "outputs": [
        {
          "output_type": "stream",
          "name": "stdout",
          "text": [
            "+------+-------+------+\n",
            "|userId|movieId|rating|\n",
            "+------+-------+------+\n",
            "|     1|    110|   1.0|\n",
            "|     1|    147|   4.5|\n",
            "|     1|    858|   5.0|\n",
            "|     1|   1221|   5.0|\n",
            "|     1|   1246|   5.0|\n",
            "|     1|   1968|   4.0|\n",
            "|     1|   2762|   4.5|\n",
            "|     1|   2918|   5.0|\n",
            "|     1|   2959|   4.0|\n",
            "|     1|   4226|   4.0|\n",
            "|     1|   4878|   5.0|\n",
            "|     1|   5577|   5.0|\n",
            "|     1|  33794|   4.0|\n",
            "|     1|  54503|   3.5|\n",
            "|     1|  58559|   4.0|\n",
            "|     1|  59315|   5.0|\n",
            "|     1|  68358|   5.0|\n",
            "|     1|  69844|   5.0|\n",
            "|     1|  73017|   5.0|\n",
            "|     1|  81834|   5.0|\n",
            "+------+-------+------+\n",
            "only showing top 20 rows\n",
            "\n"
          ]
        }
      ]
    },
    {
      "cell_type": "markdown",
      "source": [
        "### Common Transformation Functions"
      ],
      "metadata": {
        "id": "ECtIeRoxSdAB"
      }
    },
    {
      "cell_type": "code",
      "source": [
        "# Functions available in PySpark\n",
        "from pyspark.sql import functions\n",
        "# We can use the dir function to view the available functions\n",
        "print(dir(functions))"
      ],
      "metadata": {
        "colab": {
          "base_uri": "https://localhost:8080/"
        },
        "id": "a_OmdwOOSm60",
        "outputId": "537efda1-b199-4407-9981-9c75b815de11"
      },
      "execution_count": null,
      "outputs": [
        {
          "output_type": "stream",
          "name": "stdout",
          "text": [
            "['Any', 'ArrayType', 'Callable', 'Column', 'DataFrame', 'DataType', 'Dict', 'Iterable', 'JVMView', 'List', 'Optional', 'PandasUDFType', 'PySparkTypeError', 'PySparkValueError', 'SparkContext', 'StringType', 'StructType', 'TYPE_CHECKING', 'Tuple', 'Type', 'Union', 'UserDefinedFunction', 'UserDefinedTableFunction', 'ValuesView', '__builtins__', '__cached__', '__doc__', '__file__', '__loader__', '__name__', '__package__', '__spec__', '_create_column_from_literal', '_create_lambda', '_create_py_udf', '_create_py_udtf', '_from_numpy_type', '_get_jvm_function', '_get_lambda_parameters', '_invoke_binary_math_function', '_invoke_function', '_invoke_function_over_columns', '_invoke_function_over_seq_of_columns', '_invoke_higher_order_function', '_options_to_str', '_test', '_to_java_column', '_to_seq', '_unresolved_named_lambda_variable', 'abs', 'acos', 'acosh', 'add_months', 'aes_decrypt', 'aes_encrypt', 'aggregate', 'any_value', 'approxCountDistinct', 'approx_count_distinct', 'approx_percentile', 'array', 'array_agg', 'array_append', 'array_compact', 'array_contains', 'array_distinct', 'array_except', 'array_insert', 'array_intersect', 'array_join', 'array_max', 'array_min', 'array_position', 'array_prepend', 'array_remove', 'array_repeat', 'array_size', 'array_sort', 'array_union', 'arrays_overlap', 'arrays_zip', 'asc', 'asc_nulls_first', 'asc_nulls_last', 'ascii', 'asin', 'asinh', 'assert_true', 'atan', 'atan2', 'atanh', 'avg', 'base64', 'bin', 'bit_and', 'bit_count', 'bit_get', 'bit_length', 'bit_or', 'bit_xor', 'bitmap_bit_position', 'bitmap_bucket_number', 'bitmap_construct_agg', 'bitmap_count', 'bitmap_or_agg', 'bitwiseNOT', 'bitwise_not', 'bool_and', 'bool_or', 'broadcast', 'bround', 'btrim', 'bucket', 'call_function', 'call_udf', 'cardinality', 'cast', 'cbrt', 'ceil', 'ceiling', 'char', 'char_length', 'character_length', 'coalesce', 'col', 'collect_list', 'collect_set', 'column', 'concat', 'concat_ws', 'contains', 'conv', 'convert_timezone', 'corr', 'cos', 'cosh', 'cot', 'count', 'countDistinct', 'count_distinct', 'count_if', 'count_min_sketch', 'covar_pop', 'covar_samp', 'crc32', 'create_map', 'csc', 'cume_dist', 'curdate', 'current_catalog', 'current_database', 'current_date', 'current_schema', 'current_timestamp', 'current_timezone', 'current_user', 'date_add', 'date_diff', 'date_format', 'date_from_unix_date', 'date_part', 'date_sub', 'date_trunc', 'dateadd', 'datediff', 'datepart', 'day', 'dayofmonth', 'dayofweek', 'dayofyear', 'days', 'decimal', 'decode', 'degrees', 'dense_rank', 'desc', 'desc_nulls_first', 'desc_nulls_last', 'e', 'element_at', 'elt', 'encode', 'endswith', 'equal_null', 'every', 'exists', 'exp', 'explode', 'explode_outer', 'expm1', 'expr', 'extract', 'factorial', 'filter', 'find_in_set', 'first', 'first_value', 'flatten', 'floor', 'forall', 'format_number', 'format_string', 'from_csv', 'from_json', 'from_unixtime', 'from_utc_timestamp', 'functools', 'get', 'get_active_spark_context', 'get_json_object', 'getbit', 'greatest', 'grouping', 'grouping_id', 'has_numpy', 'hash', 'hex', 'histogram_numeric', 'hll_sketch_agg', 'hll_sketch_estimate', 'hll_union', 'hll_union_agg', 'hour', 'hours', 'hypot', 'ifnull', 'ilike', 'initcap', 'inline', 'inline_outer', 'input_file_block_length', 'input_file_block_start', 'input_file_name', 'inspect', 'instr', 'isnan', 'isnotnull', 'isnull', 'java_method', 'json_array_length', 'json_object_keys', 'json_tuple', 'kurtosis', 'lag', 'last', 'last_day', 'last_value', 'lcase', 'lead', 'least', 'left', 'length', 'levenshtein', 'like', 'lit', 'ln', 'localtimestamp', 'locate', 'log', 'log10', 'log1p', 'log2', 'lower', 'lpad', 'ltrim', 'make_date', 'make_dt_interval', 'make_interval', 'make_timestamp', 'make_timestamp_ltz', 'make_timestamp_ntz', 'make_ym_interval', 'map_concat', 'map_contains_key', 'map_entries', 'map_filter', 'map_from_arrays', 'map_from_entries', 'map_keys', 'map_values', 'map_zip_with', 'mask', 'max', 'max_by', 'md5', 'mean', 'median', 'min', 'min_by', 'minute', 'mode', 'monotonically_increasing_id', 'month', 'months', 'months_between', 'named_struct', 'nanvl', 'negate', 'negative', 'next_day', 'now', 'np', 'nth_value', 'ntile', 'nullif', 'nvl', 'nvl2', 'octet_length', 'overlay', 'overload', 'pandas_udf', 'parse_url', 'percent_rank', 'percentile', 'percentile_approx', 'pi', 'pmod', 'posexplode', 'posexplode_outer', 'position', 'positive', 'pow', 'power', 'printf', 'product', 'quarter', 'radians', 'raise_error', 'rand', 'randn', 'rank', 'reduce', 'reflect', 'regexp', 'regexp_count', 'regexp_extract', 'regexp_extract_all', 'regexp_instr', 'regexp_like', 'regexp_replace', 'regexp_substr', 'regr_avgx', 'regr_avgy', 'regr_count', 'regr_intercept', 'regr_r2', 'regr_slope', 'regr_sxx', 'regr_sxy', 'regr_syy', 'repeat', 'replace', 'reverse', 'right', 'rint', 'rlike', 'round', 'row_number', 'rpad', 'rtrim', 'schema_of_csv', 'schema_of_json', 'sec', 'second', 'sentences', 'sequence', 'session_window', 'sha', 'sha1', 'sha2', 'shiftLeft', 'shiftRight', 'shiftRightUnsigned', 'shiftleft', 'shiftright', 'shiftrightunsigned', 'shuffle', 'sign', 'signum', 'sin', 'sinh', 'size', 'skewness', 'slice', 'some', 'sort_array', 'soundex', 'spark_partition_id', 'split', 'split_part', 'sqrt', 'stack', 'startswith', 'std', 'stddev', 'stddev_pop', 'stddev_samp', 'str_to_map', 'struct', 'substr', 'substring', 'substring_index', 'sum', 'sumDistinct', 'sum_distinct', 'sys', 'tan', 'tanh', 'timestamp_micros', 'timestamp_millis', 'timestamp_seconds', 'toDegrees', 'toRadians', 'to_binary', 'to_char', 'to_csv', 'to_date', 'to_json', 'to_number', 'to_str', 'to_timestamp', 'to_timestamp_ltz', 'to_timestamp_ntz', 'to_unix_timestamp', 'to_utc_timestamp', 'to_varchar', 'transform', 'transform_keys', 'transform_values', 'translate', 'trim', 'trunc', 'try_add', 'try_aes_decrypt', 'try_avg', 'try_divide', 'try_element_at', 'try_multiply', 'try_remote_functions', 'try_subtract', 'try_sum', 'try_to_binary', 'try_to_number', 'try_to_timestamp', 'typeof', 'ucase', 'udf', 'udtf', 'unbase64', 'unhex', 'unix_date', 'unix_micros', 'unix_millis', 'unix_seconds', 'unix_timestamp', 'unwrap_udt', 'upper', 'url_decode', 'url_encode', 'user', 'var_pop', 'var_samp', 'variance', 'version', 'warnings', 'weekday', 'weekofyear', 'when', 'width_bucket', 'window', 'window_time', 'xpath', 'xpath_boolean', 'xpath_double', 'xpath_float', 'xpath_int', 'xpath_long', 'xpath_number', 'xpath_short', 'xpath_string', 'xxhash64', 'year', 'years', 'zip_with']\n"
          ]
        }
      ]
    },
    {
      "cell_type": "markdown",
      "source": [
        "String functions:"
      ],
      "metadata": {
        "id": "d4gsChVFXOHn"
      }
    },
    {
      "cell_type": "code",
      "source": [
        "from pyspark.sql.functions import concat, lower, upper, substring"
      ],
      "metadata": {
        "id": "SY96OEMERHt9"
      },
      "execution_count": null,
      "outputs": []
    },
    {
      "cell_type": "code",
      "source": [
        "movies.show(5)"
      ],
      "metadata": {
        "colab": {
          "base_uri": "https://localhost:8080/"
        },
        "id": "EAeEaV9WS81k",
        "outputId": "661b1cb0-97f8-4443-a992-27e55e990e9a"
      },
      "execution_count": null,
      "outputs": [
        {
          "output_type": "stream",
          "name": "stdout",
          "text": [
            "+-----+---------------------+--------+--------------------+--------------------+-----+---------+-----------------+--------------------+--------------------+----------+--------------------+--------------------+--------------------+------------+---------+-------+--------------------+--------+--------------------+--------------------+-----+------------+----------+\n",
            "|adult|belongs_to_collection|  budget|              genres|            homepage|   id|  imdb_id|original_language|      original_title|            overview|popularity|         poster_path|production_companies|production_countries|release_date|  revenue|runtime|    spoken_languages|  status|             tagline|               title|video|vote_average|vote_count|\n",
            "+-----+---------------------+--------+--------------------+--------------------+-----+---------+-----------------+--------------------+--------------------+----------+--------------------+--------------------+--------------------+------------+---------+-------+--------------------+--------+--------------------+--------------------+-----+------------+----------+\n",
            "|False| {'id': 10194, 'na...|30000000|[{'id': 16, 'name...|http://toystory.d...|  862|tt0114709|               en|           Toy Story|Led by Woody, And...| 21.946943|/rhIRbceoE9lR4veE...|[{'name': 'Pixar ...|[{'iso_3166_1': '...|  1995-10-30|373554033|   81.0|[{'iso_639_1': 'e...|Released|                NULL|           Toy Story|False|         7.7|      5415|\n",
            "|False|                 NULL|65000000|[{'id': 12, 'name...|                NULL| 8844|tt0113497|               en|             Jumanji|When siblings Jud...| 17.015539|/vzmL6fP7aPKNKPRT...|[{'name': 'TriSta...|[{'iso_3166_1': '...|  1995-12-15|262797249|  104.0|[{'iso_639_1': 'e...|Released|Roll the dice and...|             Jumanji|False|         6.9|      2413|\n",
            "|False| {'id': 119050, 'n...|       0|[{'id': 10749, 'n...|                NULL|15602|tt0113228|               en|    Grumpier Old Men|A family wedding ...|   11.7129|/6ksm1sjKMFLbO7UY...|[{'name': 'Warner...|[{'iso_3166_1': '...|  1995-12-22|        0|  101.0|[{'iso_639_1': 'e...|Released|Still Yelling. St...|    Grumpier Old Men|False|         6.5|        92|\n",
            "|False|                 NULL|16000000|[{'id': 35, 'name...|                NULL|31357|tt0114885|               en|   Waiting to Exhale|Cheated on, mistr...|  3.859495|/16XOMpEaLWkrcPqS...|[{'name': 'Twenti...|[{'iso_3166_1': '...|  1995-12-22| 81452156|  127.0|[{'iso_639_1': 'e...|Released|Friends are the p...|   Waiting to Exhale|False|         6.1|        34|\n",
            "|False| {'id': 96871, 'na...|       0|[{'id': 35, 'name...|                NULL|11862|tt0113041|               en|Father of the Bri...|Just when George ...|  8.387519|/e64sOI48hQXyru7n...|[{'name': 'Sandol...|[{'iso_3166_1': '...|  1995-02-10| 76578911|  106.0|[{'iso_639_1': 'e...|Released|Just When His Wor...|Father of the Bri...|False|         5.7|       173|\n",
            "+-----+---------------------+--------+--------------------+--------------------+-----+---------+-----------------+--------------------+--------------------+----------+--------------------+--------------------+--------------------+------------+---------+-------+--------------------+--------+--------------------+--------------------+-----+------------+----------+\n",
            "only showing top 5 rows\n",
            "\n"
          ]
        }
      ]
    },
    {
      "cell_type": "code",
      "source": [
        "movies.select(movies.title, movies.tagline, upper(movies.title), lower(movies.tagline),\n",
        "              substring(movies.overview, 1, 10),\n",
        "              concat(movies.title, lit(' Part 1')).alias('new_title')\n",
        "              ).show()"
      ],
      "metadata": {
        "colab": {
          "base_uri": "https://localhost:8080/"
        },
        "id": "oRP7Qr0WWZZ3",
        "outputId": "c7027ffa-2080-4d65-b629-6516fc4e6c27"
      },
      "execution_count": null,
      "outputs": [
        {
          "output_type": "stream",
          "name": "stdout",
          "text": [
            "+--------------------+--------------------+--------------------+--------------------+--------------------------+--------------------+\n",
            "|               title|             tagline|        upper(title)|      lower(tagline)|substring(overview, 1, 10)|           new_title|\n",
            "+--------------------+--------------------+--------------------+--------------------+--------------------------+--------------------+\n",
            "|           Toy Story|                NULL|           TOY STORY|                NULL|                Led by Woo|    Toy Story Part 1|\n",
            "|             Jumanji|Roll the dice and...|             JUMANJI|roll the dice and...|                When sibli|      Jumanji Part 1|\n",
            "|    Grumpier Old Men|Still Yelling. St...|    GRUMPIER OLD MEN|still yelling. st...|                A family w|Grumpier Old Men ...|\n",
            "|   Waiting to Exhale|Friends are the p...|   WAITING TO EXHALE|friends are the p...|                Cheated on|Waiting to Exhale...|\n",
            "|Father of the Bri...|Just When His Wor...|FATHER OF THE BRI...|just when his wor...|                Just when |Father of the Bri...|\n",
            "|                Heat|A Los Angeles Cri...|                HEAT|a los angeles cri...|                Obsessive |         Heat Part 1|\n",
            "|             Sabrina|You are cordially...|             SABRINA|you are cordially...|                An ugly du|      Sabrina Part 1|\n",
            "|        Tom and Huck|The Original Bad ...|        TOM AND HUCK|the original bad ...|                A mischiev| Tom and Huck Part 1|\n",
            "|        Sudden Death|Terror goes into ...|        SUDDEN DEATH|terror goes into ...|                Internatio| Sudden Death Part 1|\n",
            "|           GoldenEye|No limits. No fea...|           GOLDENEYE|no limits. no fea...|                James Bond|    GoldenEye Part 1|\n",
            "|The American Pres...|Why can't the mos...|THE AMERICAN PRES...|why can't the mos...|                Widowed U.|The American Pres...|\n",
            "|Dracula: Dead and...|                NULL|DRACULA: DEAD AND...|                NULL|                When a law|Dracula: Dead and...|\n",
            "|               Balto|Part Dog. Part Wo...|               BALTO|part dog. part wo...|                An outcast|        Balto Part 1|\n",
            "|               Nixon|Triumphant in Vic...|               NIXON|triumphant in vic...|                An all-sta|        Nixon Part 1|\n",
            "|    Cutthroat Island|The Course Has Be...|    CUTTHROAT ISLAND|the course has be...|                Morgan Ada|Cutthroat Island ...|\n",
            "|              Casino|No one stays at t...|              CASINO|no one stays at t...|                The life o|       Casino Part 1|\n",
            "|Sense and Sensibi...|Lose your heart a...|SENSE AND SENSIBI...|lose your heart a...|                Rich Mr. D|Sense and Sensibi...|\n",
            "|          Four Rooms|Twelve outrageous...|          FOUR ROOMS|twelve outrageous...|                It's Ted t|   Four Rooms Part 1|\n",
            "|Ace Ventura: When...|New animals. New ...|ACE VENTURA: WHEN...|new animals. new ...|                Summoned f|Ace Ventura: When...|\n",
            "|         Money Train|Get on, or GET OU...|         MONEY TRAIN|get on, or get ou...|                A vengeful|  Money Train Part 1|\n",
            "+--------------------+--------------------+--------------------+--------------------+--------------------------+--------------------+\n",
            "only showing top 20 rows\n",
            "\n"
          ]
        }
      ]
    },
    {
      "cell_type": "markdown",
      "source": [
        "Numeric functions:"
      ],
      "metadata": {
        "id": "mzltd7IMXQ0J"
      }
    },
    {
      "cell_type": "code",
      "source": [
        "from pyspark.sql.functions import mean, max, round"
      ],
      "metadata": {
        "id": "oxGJmZqYXQW2"
      },
      "execution_count": null,
      "outputs": []
    },
    {
      "cell_type": "code",
      "source": [
        "ratings.select(mean(ratings.rating), max(ratings.rating)).show()"
      ],
      "metadata": {
        "colab": {
          "base_uri": "https://localhost:8080/"
        },
        "id": "IRDNP5cbXnls",
        "outputId": "244f6488-661b-44fc-b604-ca290917edaf"
      },
      "execution_count": null,
      "outputs": [
        {
          "output_type": "stream",
          "name": "stdout",
          "text": [
            "+------------------+-----------+\n",
            "|       avg(rating)|max(rating)|\n",
            "+------------------+-----------+\n",
            "|3.5280903543608817|        5.0|\n",
            "+------------------+-----------+\n",
            "\n"
          ]
        }
      ]
    },
    {
      "cell_type": "code",
      "source": [
        "ratings.withColumn('new_rating', round(ratings.rating)).show()"
      ],
      "metadata": {
        "colab": {
          "base_uri": "https://localhost:8080/"
        },
        "id": "4YjWCWIIX01h",
        "outputId": "6e61ce90-8bbc-4610-9904-8386e4577c45"
      },
      "execution_count": null,
      "outputs": [
        {
          "output_type": "stream",
          "name": "stdout",
          "text": [
            "+------+-------+------+----------+----------+\n",
            "|userId|movieId|rating| timestamp|new_rating|\n",
            "+------+-------+------+----------+----------+\n",
            "|     1|    110|   1.0|1425941529|       1.0|\n",
            "|     1|    147|   4.5|1425942435|       5.0|\n",
            "|     1|    858|   5.0|1425941523|       5.0|\n",
            "|     1|   1221|   5.0|1425941546|       5.0|\n",
            "|     1|   1246|   5.0|1425941556|       5.0|\n",
            "|     1|   1968|   4.0|1425942148|       4.0|\n",
            "|     1|   2762|   4.5|1425941300|       5.0|\n",
            "|     1|   2918|   5.0|1425941593|       5.0|\n",
            "|     1|   2959|   4.0|1425941601|       4.0|\n",
            "|     1|   4226|   4.0|1425942228|       4.0|\n",
            "|     1|   4878|   5.0|1425941434|       5.0|\n",
            "|     1|   5577|   5.0|1425941397|       5.0|\n",
            "|     1|  33794|   4.0|1425942005|       4.0|\n",
            "|     1|  54503|   3.5|1425941313|       4.0|\n",
            "|     1|  58559|   4.0|1425942007|       4.0|\n",
            "|     1|  59315|   5.0|1425941502|       5.0|\n",
            "|     1|  68358|   5.0|1425941464|       5.0|\n",
            "|     1|  69844|   5.0|1425942139|       5.0|\n",
            "|     1|  73017|   5.0|1425942699|       5.0|\n",
            "|     1|  81834|   5.0|1425942133|       5.0|\n",
            "+------+-------+------+----------+----------+\n",
            "only showing top 20 rows\n",
            "\n"
          ]
        }
      ]
    },
    {
      "cell_type": "markdown",
      "source": [
        "Date/time functions:"
      ],
      "metadata": {
        "id": "xKKNz1orYNDt"
      }
    },
    {
      "cell_type": "code",
      "source": [
        "from pyspark.sql.functions import to_date, to_timestamp, date_diff"
      ],
      "metadata": {
        "id": "KMVT6lVUYMc3"
      },
      "execution_count": null,
      "outputs": []
    },
    {
      "cell_type": "code",
      "source": [
        "ratings.withColumn('new_timestamp', to_timestamp(ratings.timestamp)).show()"
      ],
      "metadata": {
        "colab": {
          "base_uri": "https://localhost:8080/"
        },
        "id": "EVQBTD0kYXQk",
        "outputId": "044fac46-86f0-41fe-f28b-e9729d9bfc53"
      },
      "execution_count": null,
      "outputs": [
        {
          "output_type": "stream",
          "name": "stdout",
          "text": [
            "+------+-------+------+----------+-------------------+\n",
            "|userId|movieId|rating| timestamp|      new_timestamp|\n",
            "+------+-------+------+----------+-------------------+\n",
            "|     1|    110|   1.0|1425941529|2015-03-09 22:52:09|\n",
            "|     1|    147|   4.5|1425942435|2015-03-09 23:07:15|\n",
            "|     1|    858|   5.0|1425941523|2015-03-09 22:52:03|\n",
            "|     1|   1221|   5.0|1425941546|2015-03-09 22:52:26|\n",
            "|     1|   1246|   5.0|1425941556|2015-03-09 22:52:36|\n",
            "|     1|   1968|   4.0|1425942148|2015-03-09 23:02:28|\n",
            "|     1|   2762|   4.5|1425941300|2015-03-09 22:48:20|\n",
            "|     1|   2918|   5.0|1425941593|2015-03-09 22:53:13|\n",
            "|     1|   2959|   4.0|1425941601|2015-03-09 22:53:21|\n",
            "|     1|   4226|   4.0|1425942228|2015-03-09 23:03:48|\n",
            "|     1|   4878|   5.0|1425941434|2015-03-09 22:50:34|\n",
            "|     1|   5577|   5.0|1425941397|2015-03-09 22:49:57|\n",
            "|     1|  33794|   4.0|1425942005|2015-03-09 23:00:05|\n",
            "|     1|  54503|   3.5|1425941313|2015-03-09 22:48:33|\n",
            "|     1|  58559|   4.0|1425942007|2015-03-09 23:00:07|\n",
            "|     1|  59315|   5.0|1425941502|2015-03-09 22:51:42|\n",
            "|     1|  68358|   5.0|1425941464|2015-03-09 22:51:04|\n",
            "|     1|  69844|   5.0|1425942139|2015-03-09 23:02:19|\n",
            "|     1|  73017|   5.0|1425942699|2015-03-09 23:11:39|\n",
            "|     1|  81834|   5.0|1425942133|2015-03-09 23:02:13|\n",
            "+------+-------+------+----------+-------------------+\n",
            "only showing top 20 rows\n",
            "\n"
          ]
        }
      ]
    },
    {
      "cell_type": "markdown",
      "source": [
        "Replace the unix timestamp with new timestamp:"
      ],
      "metadata": {
        "id": "LrkCuPYhYxpb"
      }
    },
    {
      "cell_type": "code",
      "source": [
        "ratings = ratings.withColumn('timestamp', to_timestamp(ratings.timestamp))"
      ],
      "metadata": {
        "id": "b8uWzeuPYrjD"
      },
      "execution_count": null,
      "outputs": []
    },
    {
      "cell_type": "code",
      "source": [
        "ratings.show()"
      ],
      "metadata": {
        "colab": {
          "base_uri": "https://localhost:8080/"
        },
        "id": "hGr_8jtLY5Ut",
        "outputId": "29534666-4ad9-4bf4-952a-94ceb99b86a2"
      },
      "execution_count": null,
      "outputs": [
        {
          "output_type": "stream",
          "name": "stdout",
          "text": [
            "+------+-------+------+-------------------+\n",
            "|userId|movieId|rating|          timestamp|\n",
            "+------+-------+------+-------------------+\n",
            "|     1|    110|   1.0|2015-03-09 22:52:09|\n",
            "|     1|    147|   4.5|2015-03-09 23:07:15|\n",
            "|     1|    858|   5.0|2015-03-09 22:52:03|\n",
            "|     1|   1221|   5.0|2015-03-09 22:52:26|\n",
            "|     1|   1246|   5.0|2015-03-09 22:52:36|\n",
            "|     1|   1968|   4.0|2015-03-09 23:02:28|\n",
            "|     1|   2762|   4.5|2015-03-09 22:48:20|\n",
            "|     1|   2918|   5.0|2015-03-09 22:53:13|\n",
            "|     1|   2959|   4.0|2015-03-09 22:53:21|\n",
            "|     1|   4226|   4.0|2015-03-09 23:03:48|\n",
            "|     1|   4878|   5.0|2015-03-09 22:50:34|\n",
            "|     1|   5577|   5.0|2015-03-09 22:49:57|\n",
            "|     1|  33794|   4.0|2015-03-09 23:00:05|\n",
            "|     1|  54503|   3.5|2015-03-09 22:48:33|\n",
            "|     1|  58559|   4.0|2015-03-09 23:00:07|\n",
            "|     1|  59315|   5.0|2015-03-09 22:51:42|\n",
            "|     1|  68358|   5.0|2015-03-09 22:51:04|\n",
            "|     1|  69844|   5.0|2015-03-09 23:02:19|\n",
            "|     1|  73017|   5.0|2015-03-09 23:11:39|\n",
            "|     1|  81834|   5.0|2015-03-09 23:02:13|\n",
            "+------+-------+------+-------------------+\n",
            "only showing top 20 rows\n",
            "\n"
          ]
        }
      ]
    },
    {
      "cell_type": "markdown",
      "source": [
        "Computing the difference in minutes is more tedious, we'll need to convert the timestamps to unix timestamps (seconds since epoch), compute the difference, and divide by 60."
      ],
      "metadata": {
        "id": "yEQdF4vPZYCz"
      }
    },
    {
      "cell_type": "code",
      "source": [
        "taxi = taxi.withColumn('trip_duration', (taxi.dropoff_datetime.cast(\"long\") - taxi.pickup_datetime.cast(\"long\"))/60)"
      ],
      "metadata": {
        "id": "rH-rd1VrZJ03"
      },
      "execution_count": null,
      "outputs": []
    },
    {
      "cell_type": "code",
      "source": [
        "taxi.show(10)"
      ],
      "metadata": {
        "colab": {
          "base_uri": "https://localhost:8080/"
        },
        "id": "tLciHlrXZ-Q5",
        "outputId": "cd25e2ad-93cd-4896-f0a5-f5bf0816fe25"
      },
      "execution_count": null,
      "outputs": [
        {
          "output_type": "stream",
          "name": "stdout",
          "text": [
            "+---------+-------------------+-------------------+---------------+-------------+---------+------------------+------------+-----------+-----+-------+----------+------------+-------------+------------+------------------+-------------------+------------------+\n",
            "|vendor_id|    pickup_datetime|   dropoff_datetime|passenger_count|trip_distance|rate_code|store_and_fwd_flag|payment_type|fare_amount|extra|mta_tax|tip_amount|tolls_amount|imp_surcharge|total_amount|pickup_location_id|dropoff_location_id|     trip_duration|\n",
            "+---------+-------------------+-------------------+---------------+-------------+---------+------------------+------------+-----------+-----+-------+----------+------------+-------------+------------+------------------+-------------------+------------------+\n",
            "|        2|2018-03-29 13:37:13|2018-03-29 14:17:01|              1|        18.15|        3|                 N|           1|       70.0|  0.0|    0.0|     16.16|        10.5|          0.3|       96.96|               161|                  1|              39.8|\n",
            "|        2|2018-03-29 13:37:18|2018-03-29 14:15:33|              1|         4.59|        1|                 N|           1|       25.0|  0.0|    0.5|      5.16|         0.0|          0.3|       30.96|                13|                230|             38.25|\n",
            "|        2|2018-03-29 13:26:57|2018-03-29 13:28:03|              1|          0.3|        1|                 N|           1|        3.0|  0.0|    0.5|      0.76|         0.0|          0.3|        4.56|               231|                231|               1.1|\n",
            "|        2|2018-03-29 13:07:48|2018-03-29 14:03:05|              2|        16.97|        1|                 N|           1|       49.5|  0.0|    0.5|      5.61|        5.76|          0.3|       61.67|               231|                138| 55.28333333333333|\n",
            "|        2|2018-03-29 14:19:11|2018-03-29 15:19:59|              5|        14.45|        1|                 N|           1|       45.5|  0.0|    0.5|     10.41|        5.76|          0.3|       62.47|                87|                138|              60.8|\n",
            "|        2|2018-03-29 14:52:55|2018-03-29 15:51:55|              1|         11.6|        1|                 N|           1|       42.0|  0.0|    0.5|     14.57|        5.76|          0.3|       63.13|                68|                138|              59.0|\n",
            "|        1|2018-03-29 14:09:41|2018-03-29 14:36:29|              1|          5.8|        1|                 N|           1|       24.0|  0.0|    0.5|      4.95|         0.0|          0.3|       29.75|               100|                 87|              26.8|\n",
            "|        2|2018-03-29 15:21:42|2018-03-29 16:04:16|              1|         3.38|        1|                 N|           1|       25.0|  0.0|    0.5|      5.16|         0.0|          0.3|       30.96|               144|                161| 42.56666666666667|\n",
            "|        2|2018-03-29 15:14:59|2018-03-29 16:42:46|              1|        16.98|        3|                 N|           1|       85.0|  0.0|    0.0|      15.0|        12.5|          0.3|       112.8|                87|                  1| 87.78333333333333|\n",
            "|        2|2018-03-29 16:27:58|2018-03-29 16:58:08|              1|         4.99|        1|                 N|           1|       22.0|  1.0|    0.5|      4.76|         0.0|          0.3|       28.56|                13|                161|30.166666666666668|\n",
            "+---------+-------------------+-------------------+---------------+-------------+---------+------------------+------------+-----------+-----+-------+----------+------------+-------------+------------+------------------+-------------------+------------------+\n",
            "only showing top 10 rows\n",
            "\n"
          ]
        }
      ]
    },
    {
      "cell_type": "markdown",
      "source": [
        "### User-Defined Functions (UDF)\n",
        "\n",
        "PySpark User-Defined Functions (UDFs) help you convert your Python code into a scalable version of itself. It is handy, but beware, as the performance is slower compared to PySpark functions."
      ],
      "metadata": {
        "id": "y-M54I7dadI4"
      }
    },
    {
      "cell_type": "code",
      "source": [
        "import pandas as pd\n",
        "from pyspark.sql.functions import pandas_udf"
      ],
      "metadata": {
        "id": "jGlXlPczaxRA"
      },
      "execution_count": null,
      "outputs": []
    },
    {
      "cell_type": "code",
      "source": [
        "@pandas_udf('long')\n",
        "def pandas_plus_one(series: pd.Series) -> pd.Series:\n",
        "    # Simply plus one by using pandas Series.\n",
        "    return (series + 1.0).astype(float)"
      ],
      "metadata": {
        "id": "5Jqi_PDWa5Ag"
      },
      "execution_count": null,
      "outputs": []
    },
    {
      "cell_type": "code",
      "source": [
        "taxi.select(taxi.passenger_count, pandas_plus_one(taxi.passenger_count)).show()"
      ],
      "metadata": {
        "colab": {
          "base_uri": "https://localhost:8080/"
        },
        "id": "kLgaPGtwa-3i",
        "outputId": "13e96c62-bf26-43e9-dbea-da11a3d684a5"
      },
      "execution_count": null,
      "outputs": [
        {
          "output_type": "stream",
          "name": "stdout",
          "text": [
            "+---------------+--------------------------------+\n",
            "|passenger_count|pandas_plus_one(passenger_count)|\n",
            "+---------------+--------------------------------+\n",
            "|              1|                               2|\n",
            "|              1|                               2|\n",
            "|              1|                               2|\n",
            "|              2|                               3|\n",
            "|              5|                               6|\n",
            "|              1|                               2|\n",
            "|              1|                               2|\n",
            "|              1|                               2|\n",
            "|              1|                               2|\n",
            "|              1|                               2|\n",
            "|              1|                               2|\n",
            "|              2|                               3|\n",
            "|              1|                               2|\n",
            "|              1|                               2|\n",
            "|              1|                               2|\n",
            "|              1|                               2|\n",
            "|              1|                               2|\n",
            "|              1|                               2|\n",
            "|              1|                               2|\n",
            "|              1|                               2|\n",
            "+---------------+--------------------------------+\n",
            "only showing top 20 rows\n",
            "\n"
          ]
        }
      ]
    },
    {
      "cell_type": "markdown",
      "source": [
        "### DataFrame Operations on Rows\n",
        "\n",
        "We will show the follwoing in this section:\n",
        "\n",
        "1.   Filtering Rows\n",
        "2. \t Get Distinct Rows\n",
        "3.   Sorting Rows"
      ],
      "metadata": {
        "id": "4XninFQBcE4g"
      }
    },
    {
      "cell_type": "code",
      "source": [
        "movies.filter(movies.status == 'In Production').show()"
      ],
      "metadata": {
        "colab": {
          "base_uri": "https://localhost:8080/"
        },
        "id": "sQIjymURcEas",
        "outputId": "0a7b6ccd-eac2-44c9-cbad-f616ca5ed0a3"
      },
      "execution_count": null,
      "outputs": [
        {
          "output_type": "stream",
          "name": "stdout",
          "text": [
            "+-----+---------------------+------+--------------------+--------------------+------+---------+-----------------+--------------------+--------------------+----------+--------------------+--------------------+--------------------+------------+-------+-------+--------------------+-------------+--------------------+--------------------+-----+------------+----------+\n",
            "|adult|belongs_to_collection|budget|              genres|            homepage|    id|  imdb_id|original_language|      original_title|            overview|popularity|         poster_path|production_companies|production_countries|release_date|revenue|runtime|    spoken_languages|       status|             tagline|               title|video|vote_average|vote_count|\n",
            "+-----+---------------------+------+--------------------+--------------------+------+---------+-----------------+--------------------+--------------------+----------+--------------------+--------------------+--------------------+------------+-------+-------+--------------------+-------------+--------------------+--------------------+-----+------------+----------+\n",
            "|False|                 NULL|     0|[{'id': 18, 'name...|                NULL| 25073|tt1242618|               en|            Deadline|A screenwriter wh...|   9.71579|/2QdMDT2UMFOnSwgK...|[{'name': 'Enso E...|[{'iso_3166_1': '...|  2009-01-01|      0|   89.0|[{'iso_639_1': 'e...|In Production|                NULL|            Deadline|False|         5.2|        31|\n",
            "|False|                 NULL|     0|[{'id': 35, 'name...|http://www.moviez...|138122|tt2172071|               en| Student of the Year|Dean Yoginder Vas...|  3.550969|/yAhfRGZx7nOAZkrm...|                  []|[{'iso_3166_1': '...|  2012-10-19|      0|  145.0|[{'iso_639_1': 'h...|In Production|Student Of The Ye...| Student of the Year|False|         6.2|        49|\n",
            "|False| {'id': 1972, 'nam...|     0|[{'id': 27, 'name...|                NULL|259233|tt3572132|               ja|呪怨: 終わりの始まり|An elementary sch...|  1.235132|/qZjUysdUJLzcbFzh...|                  []|[{'iso_3166_1': '...|  2014-06-28|      0|   91.0|[{'iso_639_1': 'j...|In Production|                NULL|Ju-on: The Beginn...|False|         6.0|        20|\n",
            "|False| {'id': 87096, 'na...|     0|[{'id': 28, 'name...|http://www.avatar...| 76600|tt1630029|               en|            Avatar 2|A sequel to Avata...|  6.020055|/wvpOVl37PR21mENp...|[{'name': 'Twenti...|[{'iso_3166_1': '...|  2020-12-16|      0|    0.0|[{'iso_639_1': 'e...|In Production|                NULL|            Avatar 2|False|         0.0|        58|\n",
            "|False|                 NULL|     0|[{'id': 12, 'name...|http://www.bbc.co...|347035|tt1227183|               en|Swallows and Amazons|Four children dre...|  1.935094|/wwfJoBkHqHb067p3...|[{'name': 'BBC Fi...|[{'iso_3166_1': '...|  2016-08-19|      0|   96.0|[{'iso_639_1': 'e...|In Production|Some summers you ...|Swallows and Amazons|False|         6.9|        24|\n",
            "|False|                 NULL|     0|[{'id': 18, 'name...|                NULL|337730|tt4168502|               fr|         Un Français|Marco Lopez, a fo...|  1.593745|/n2OYPhJtigtGJmH3...|[{'name': 'Fin Ao...|[{'iso_3166_1': '...|  2015-06-10|      0|   98.0|[{'iso_639_1': 'f...|In Production|                NULL|        French Blood|False|         5.9|        35|\n",
            "|False|                 NULL|     0|[{'id': 16, 'name...|http://www.slycoo...|252983|tt3498786|               en|          Sly Cooper|Sly Cooper is a k...|  1.531827|/rw36cctUD5kPCNCx...|[{'name': 'Rainma...|[{'iso_3166_1': '...|  2017-12-31|      0|    0.0|[{'iso_639_1': 'e...|In Production|                NULL|          Sly Cooper|False|         0.0|         0|\n",
            "|False| {'id': 306031, 'n...|     0|[{'id': 35, 'name...|                NULL|353616|tt4765284|               en|     Pitch Perfect 3|Sequel to Pitch P...|  3.782498|/A4bAz2rvc0vjitQ7...|                  []|                  []|  2017-12-21|      0|    0.0|[{'iso_639_1': 'e...|In Production|                NULL|     Pitch Perfect 3|False|         0.0|         3|\n",
            "|False|                 NULL|     0|[{'id': 27, 'name...|                NULL|156981|tt1600429|               en|              Old 37|Two brothers inte...|  1.023086|/gKO1tulv0zyud9CO...|[{'name': 'Big Pi...|[{'iso_3166_1': '...|  2015-03-21|      0|   84.0|[{'iso_639_1': 'e...|In Production|                NULL|              Old 37|False|         4.3|        10|\n",
            "|False|                 NULL|     0|[{'id': 27, 'name...|                NULL|257450|tt3400060|               en|      Piranha Sharks|Great white shark...|   1.35227|/iwukU7nUUNfdxIQw...|[{'name': 'The Im...|[{'iso_3166_1': '...|  2015-08-06|      0|   79.0|[{'iso_639_1': 'e...|In Production|                NULL|      Piranha Sharks|False|         5.0|         4|\n",
            "|False| {'id': 101646, 'n...|     0|[{'id': 80, 'name...|                NULL| 61123|tt1836210|               fi|Vares – Huhtikuun...|Tough Finnish det...|  0.676424|/bjl2iLVYZv8MtVQT...|[{'name': 'Solar ...|[{'iso_3166_1': '...|  2011-04-20|      0|   95.0|[{'iso_639_1': 'f...|In Production|                NULL|Vares - The Girls...|False|         5.3|        11|\n",
            "|False|                 NULL|     0|[{'id': 35, 'name...|                NULL|311215|tt3772576|               es|Papeles en el viento|When El Mono dies...|  0.469509|/cfCB68VQiAp3WBD7...|[{'name': 'Televi...|[{'iso_3166_1': '...|  2015-01-08|      0|    0.0|[{'iso_639_1': 'e...|In Production|                NULL|   Roles in the Wind|False|         6.1|         8|\n",
            "|False|                 NULL|     0|[{'id': 53, 'name...|                NULL|352917|tt3257610|               hu|              Víkend|                NULL|  0.115035|/cqoh8GNle7svms4T...|[{'name': 'KMH On...|[{'iso_3166_1': '...|  2015-01-01|      0|   NULL|[{'iso_639_1': 'h...|In Production|                NULL|              Víkend|False|         6.0|         2|\n",
            "|False|                 NULL|     0|[{'id': 35, 'name...|                NULL|380124|tt5325452|               en|Boo! A Madea Hall...|Madea winds up in...|  4.610686|/dpSWKKBtXOu8hDNJ...|[{'name': 'Lionsg...|[{'iso_3166_1': '...|  2016-10-21|      0|  103.0|[{'iso_639_1': 'e...|In Production|                NULL|Boo! A Madea Hall...|False|         5.3|       219|\n",
            "|False|                 NULL|     0|[{'id': 27, 'name...|                NULL|388410|tt3181898|               en|Edgar Allan Poe's...|Marooned on a rem...|   0.79704|/7vqEQeH8PQmFoltc...|[{'name': 'Thunde...|[{'iso_3166_1': '...|  2016-03-16|      0|  128.0|[{'iso_639_1': 'e...|In Production|Always Keep A Lig...|Edgar Allan Poe's...|False|         5.4|         8|\n",
            "|False|                 NULL|     0|[{'id': 35, 'name...|                NULL|419522|tt6197094|               it|     Beata ignoranza|                NULL|  3.701125|/sWfDI846sIGZCqQk...|[{'name': 'Italia...|[{'iso_3166_1': '...|  2017-02-23|      0|    0.0|[{'iso_639_1': 'i...|In Production|                NULL|     Beata ignoranza|False|         5.6|        65|\n",
            "| True|                 NULL|     0|[{'id': 878, 'nam...|                NULL|448290|tt2697688|               en|          Half -Life|An American scien...|   0.28268|/3uv9oaqOJkkdZiQp...|[{'name': 'Bad Ro...|[{'iso_3166_1': '...|        NULL|      0|    0.0|[{'iso_639_1': 'e...|In Production|                NULL|          Half -Life|False|         3.7|         3|\n",
            "|False|                 NULL|     0|[{'id': 35, 'name...|                NULL|439998|tt6373590|               it|Omicidio all'ital...|                NULL|  2.962735|/c3Rdwps3XKYoKxHF...|[{'name': 'Leone ...|[{'iso_3166_1': '...|  2017-03-02|      0|   NULL|[{'iso_639_1': 'i...|In Production|                NULL|Omicidio all'ital...|False|         6.3|        69|\n",
            "|False|                 NULL|     0|[{'id': 37, 'name...|                NULL|455675|tt6334884|               en|              Hickok|Legendary Lawman ...|  2.747249|/nZdifMku2bcZKZCu...|                  []|                  []|  2017-07-07|      0|   88.0|[{'iso_639_1': 'e...|In Production|                NULL|              Hickok|False|         5.0|         9|\n",
            "|False|                 NULL|     0|[{'id': 35, 'name...|http://chaosafilm...|394185|tt2076826|               en|           Chokeslam|A mild-mannered d...|  0.743825|/walR4ri5Fj4oyVoj...|[{'name': 'Chaos,...|[{'iso_3166_1': '...|  2016-10-10|      0|    0.0|[{'iso_639_1': 'e...|In Production|                NULL|           Chokeslam|False|         5.3|         3|\n",
            "+-----+---------------------+------+--------------------+--------------------+------+---------+-----------------+--------------------+--------------------+----------+--------------------+--------------------+--------------------+------------+-------+-------+--------------------+-------------+--------------------+--------------------+-----+------------+----------+\n",
            "\n"
          ]
        }
      ]
    },
    {
      "cell_type": "code",
      "source": [
        "ratings.filter(ratings.rating > 4.5).show()"
      ],
      "metadata": {
        "colab": {
          "base_uri": "https://localhost:8080/"
        },
        "id": "JF_42Wqlcu7G",
        "outputId": "d9072d66-1447-425e-d45c-3def87cc847a"
      },
      "execution_count": null,
      "outputs": [
        {
          "output_type": "stream",
          "name": "stdout",
          "text": [
            "+------+-------+------+-------------------+\n",
            "|userId|movieId|rating|          timestamp|\n",
            "+------+-------+------+-------------------+\n",
            "|     1|    858|   5.0|2015-03-09 22:52:03|\n",
            "|     1|   1221|   5.0|2015-03-09 22:52:26|\n",
            "|     1|   1246|   5.0|2015-03-09 22:52:36|\n",
            "|     1|   2918|   5.0|2015-03-09 22:53:13|\n",
            "|     1|   4878|   5.0|2015-03-09 22:50:34|\n",
            "|     1|   5577|   5.0|2015-03-09 22:49:57|\n",
            "|     1|  59315|   5.0|2015-03-09 22:51:42|\n",
            "|     1|  68358|   5.0|2015-03-09 22:51:04|\n",
            "|     1|  69844|   5.0|2015-03-09 23:02:19|\n",
            "|     1|  73017|   5.0|2015-03-09 23:11:39|\n",
            "|     1|  81834|   5.0|2015-03-09 23:02:13|\n",
            "|     1|  91542|   5.0|2015-03-09 23:10:18|\n",
            "|     1|  92439|   5.0|2015-03-09 22:50:24|\n",
            "|     1|  96821|   5.0|2015-03-09 22:49:42|\n",
            "|     1| 112552|   5.0|2015-03-09 22:48:56|\n",
            "|     2|    339|   5.0|1997-06-23 04:48:16|\n",
            "|     2|   1356|   5.0|1997-06-23 04:14:48|\n",
            "|     4|   1097|   5.0|2003-01-15 21:58:45|\n",
            "|     4|   1221|   5.0|2003-01-15 21:58:23|\n",
            "|     4|   2023|   5.0|2003-01-15 21:59:05|\n",
            "+------+-------+------+-------------------+\n",
            "only showing top 20 rows\n",
            "\n"
          ]
        }
      ]
    },
    {
      "cell_type": "markdown",
      "source": [
        "Use `&` and `|` for combining conditions as `and` and `or`:"
      ],
      "metadata": {
        "id": "zOQvZhSzc6Qi"
      }
    },
    {
      "cell_type": "code",
      "source": [
        "ratings.filter((ratings.rating < 1.5) | (ratings.rating > 4.5)).show()"
      ],
      "metadata": {
        "colab": {
          "base_uri": "https://localhost:8080/"
        },
        "id": "uQCAnd65dBH1",
        "outputId": "4d2beb98-1771-49dd-ee25-d87a425f92c7"
      },
      "execution_count": null,
      "outputs": [
        {
          "output_type": "stream",
          "name": "stdout",
          "text": [
            "+------+-------+------+-------------------+\n",
            "|userId|movieId|rating|          timestamp|\n",
            "+------+-------+------+-------------------+\n",
            "|     1|    110|   1.0|2015-03-09 22:52:09|\n",
            "|     1|    858|   5.0|2015-03-09 22:52:03|\n",
            "|     1|   1221|   5.0|2015-03-09 22:52:26|\n",
            "|     1|   1246|   5.0|2015-03-09 22:52:36|\n",
            "|     1|   2918|   5.0|2015-03-09 22:53:13|\n",
            "|     1|   4878|   5.0|2015-03-09 22:50:34|\n",
            "|     1|   5577|   5.0|2015-03-09 22:49:57|\n",
            "|     1|  59315|   5.0|2015-03-09 22:51:42|\n",
            "|     1|  68358|   5.0|2015-03-09 22:51:04|\n",
            "|     1|  69844|   5.0|2015-03-09 23:02:19|\n",
            "|     1|  73017|   5.0|2015-03-09 23:11:39|\n",
            "|     1|  81834|   5.0|2015-03-09 23:02:13|\n",
            "|     1|  91542|   5.0|2015-03-09 23:10:18|\n",
            "|     1|  92439|   5.0|2015-03-09 22:50:24|\n",
            "|     1|  96821|   5.0|2015-03-09 22:49:42|\n",
            "|     1|  98809|   0.5|2015-03-09 23:10:40|\n",
            "|     1| 112552|   5.0|2015-03-09 22:48:56|\n",
            "|     2|    339|   5.0|1997-06-23 04:48:16|\n",
            "|     2|    786|   1.0|1997-06-23 04:14:09|\n",
            "|     2|    788|   1.0|1997-06-23 04:14:48|\n",
            "+------+-------+------+-------------------+\n",
            "only showing top 20 rows\n",
            "\n"
          ]
        }
      ]
    },
    {
      "cell_type": "markdown",
      "source": [
        "> 1. Filter `movies` for `status` to be `In Production` and `vote_average` greater than 6.\n",
        "> 2. Filter `taxi` for `trip_duration` greater than 1 hour, `trip_distance` greater than 10 miles and `passenger_count` equal to and less than 2."
      ],
      "metadata": {
        "id": "YnY8muRUgzAM"
      }
    },
    {
      "cell_type": "code",
      "source": [
        "movies.select('status').distinct().show()"
      ],
      "metadata": {
        "colab": {
          "base_uri": "https://localhost:8080/"
        },
        "id": "4OudUbxfhwA1",
        "outputId": "1040f5d2-7e34-4379-9319-96f1bfab10da"
      },
      "execution_count": null,
      "outputs": [
        {
          "output_type": "stream",
          "name": "stdout",
          "text": [
            "+---------------+\n",
            "|         status|\n",
            "+---------------+\n",
            "|          102.0|\n",
            "|        Rumored|\n",
            "|       Released|\n",
            "|              0|\n",
            "|  In Production|\n",
            "|        Planned|\n",
            "|Post Production|\n",
            "|           80.0|\n",
            "|              2|\n",
            "|              7|\n",
            "|          False|\n",
            "|            5.3|\n",
            "|            5.0|\n",
            "|       Canceled|\n",
            "|              1|\n",
            "|            5.5|\n",
            "|           NULL|\n",
            "+---------------+\n",
            "\n"
          ]
        }
      ]
    },
    {
      "cell_type": "code",
      "source": [
        "taxi.orderBy('trip_duration').show()"
      ],
      "metadata": {
        "colab": {
          "base_uri": "https://localhost:8080/"
        },
        "id": "IqdCao2Ah5Vm",
        "outputId": "28bd8301-4b05-4691-f924-9215bf98420c"
      },
      "execution_count": null,
      "outputs": [
        {
          "output_type": "stream",
          "name": "stdout",
          "text": [
            "+---------+-------------------+-------------------+---------------+-------------+---------+------------------+------------+-----------+-----+-------+----------+------------+-------------+------------+------------------+-------------------+-------------------+\n",
            "|vendor_id|    pickup_datetime|   dropoff_datetime|passenger_count|trip_distance|rate_code|store_and_fwd_flag|payment_type|fare_amount|extra|mta_tax|tip_amount|tolls_amount|imp_surcharge|total_amount|pickup_location_id|dropoff_location_id|      trip_duration|\n",
            "+---------+-------------------+-------------------+---------------+-------------+---------+------------------+------------+-----------+-----+-------+----------+------------+-------------+------------+------------------+-------------------+-------------------+\n",
            "|        1|2018-02-11 15:15:01|2017-12-24 17:09:53|              2|          4.7|        1|                 N|           1|       25.0|  0.0|    0.5|      5.16|         0.0|          0.3|       30.96|               246|                 66| -70445.13333333333|\n",
            "|        1|2018-05-10 15:15:38|2018-04-27 16:14:42|              1|         10.8|        1|                 N|           1|       35.0|  1.0|    0.5|       8.5|        5.76|          0.3|       51.06|               138|                141|-18660.933333333334|\n",
            "|        1|2018-09-14 15:15:25|2018-09-07 18:06:36|              2|         17.7|        2|                 N|           2|       52.0|  0.0|    0.5|       0.0|        5.76|          0.3|       58.56|               132|                164| -9908.816666666668|\n",
            "|        1|2018-04-12 15:15:06|2018-04-06 16:14:50|              3|         11.0|        1|                 N|           1|       38.0|  1.0|    0.5|       9.1|        5.76|          0.3|       54.66|               138|                239| -8580.266666666666|\n",
            "|        1|2018-05-28 15:15:42|2018-05-23 04:03:38|              1|          7.0|        1|                 N|           2|       21.5|  0.0|    0.5|       0.0|         0.0|          0.3|        22.3|               163|                 13| -7872.066666666667|\n",
            "|        1|2018-08-04 15:15:29|2018-08-01 16:28:49|              2|         10.7|        1|                 N|           1|       42.5|  0.0|    0.5|       9.8|        5.76|          0.3|       58.86|               138|                113| -4246.666666666667|\n",
            "|        1|2018-03-06 15:15:05|2018-03-05 16:05:01|              2|          9.9|        1|                 N|           1|       40.5|  0.0|    0.5|       9.4|        5.76|          0.3|       56.46|                70|                 48|-1390.0666666666666|\n",
            "|        1|2018-03-06 15:15:05|2018-03-05 16:05:01|              2|          9.9|        1|                 N|           1|       40.5|  0.0|    0.5|       9.4|        5.76|          0.3|       56.46|                70|                 48|-1390.0666666666666|\n",
            "|        1|2018-02-04 15:15:17|2018-02-03 16:06:36|              2|         20.2|        2|                 N|           1|       52.0|  0.0|    0.5|      11.7|        5.76|          0.3|       70.26|               132|                151|-1388.6833333333334|\n",
            "|        1|2018-12-06 15:15:17|2018-12-06 04:48:06|              1|          5.1|        1|                 N|           1|       24.5|  0.0|    0.5|      5.05|         0.0|          0.3|       30.35|                65|                 68| -627.1833333333333|\n",
            "|        1|2018-11-12 17:03:41|2018-11-12 14:32:29|              1|          4.3|        1|                 N|           2|       22.5|  0.0|    0.5|       0.0|         0.0|          0.3|        23.3|               262|                100|             -151.2|\n",
            "|        1|2018-11-04 01:48:31|2018-11-04 01:01:56|              2|          2.7|        1|                 N|           1|       11.5|  0.5|    0.5|       1.0|         0.0|          0.3|        13.8|               114|                170|-46.583333333333336|\n",
            "|        1|2018-11-04 01:54:02|2018-11-04 01:09:06|              2|          4.7|        1|                 N|           1|       16.5|  0.5|    0.5|       2.0|        5.76|          0.3|       25.56|               261|                106| -44.93333333333333|\n",
            "|        1|2018-11-04 01:56:47|2018-11-04 01:12:05|              1|          7.0|        1|                 N|           1|       22.0|  0.5|    0.5|      4.65|         0.0|          0.3|       27.95|               230|                116|              -44.7|\n",
            "|        1|2018-11-04 01:44:47|2018-11-04 01:00:28|              2|          4.1|        5|                 N|           1|       0.01|  0.0|    0.0|      30.0|        10.5|          0.3|       40.81|               211|                265| -44.31666666666667|\n",
            "|        1|2018-11-04 01:50:41|2018-11-04 01:07:18|              1|          7.7|        1|                 N|           2|       23.5|  0.5|    0.5|       0.0|         0.0|          0.3|        24.8|               141|                136| -43.38333333333333|\n",
            "|        1|2018-11-04 01:56:23|2018-11-04 01:13:03|              1|          9.4|        1|                 N|           1|       27.5|  0.5|    0.5|       4.0|         0.0|          0.3|        32.8|               161|                127|-43.333333333333336|\n",
            "|        2|2018-11-04 01:55:44|2018-11-04 01:12:54|              1|         8.45|        1|                 N|           2|       24.5|  0.5|    0.5|       0.0|         0.0|          0.3|        25.8|               158|                244|-42.833333333333336|\n",
            "|        1|2018-11-04 01:49:13|2018-11-04 01:07:09|              1|          6.7|        1|                 N|           1|       22.0|  0.5|    0.5|      4.65|         0.0|          0.3|       27.95|               114|                263| -42.06666666666667|\n",
            "|        1|2018-11-04 01:44:19|2018-11-04 01:02:32|              1|          6.9|        1|                 N|           2|       22.5|  0.5|    0.5|       0.0|         0.0|          0.3|        23.8|               239|                232| -41.78333333333333|\n",
            "+---------+-------------------+-------------------+---------------+-------------+---------+------------------+------------+-----------+-----+-------+----------+------------+-------------+------------+------------------+-------------------+-------------------+\n",
            "only showing top 20 rows\n",
            "\n"
          ]
        }
      ]
    },
    {
      "cell_type": "code",
      "source": [
        "taxi.orderBy('trip_distance', ascending=False).show()"
      ],
      "metadata": {
        "colab": {
          "base_uri": "https://localhost:8080/"
        },
        "id": "NlDn2cw8iCkD",
        "outputId": "a7458370-c715-47b6-a925-8a5b899a4d42"
      },
      "execution_count": null,
      "outputs": [
        {
          "output_type": "stream",
          "name": "stdout",
          "text": [
            "+---------+-------------------+-------------------+---------------+-------------+---------+------------------+------------+-----------+-----+-------+----------+------------+-------------+------------+------------------+-------------------+-------------------+\n",
            "|vendor_id|    pickup_datetime|   dropoff_datetime|passenger_count|trip_distance|rate_code|store_and_fwd_flag|payment_type|fare_amount|extra|mta_tax|tip_amount|tolls_amount|imp_surcharge|total_amount|pickup_location_id|dropoff_location_id|      trip_duration|\n",
            "+---------+-------------------+-------------------+---------------+-------------+---------+------------------+------------+-----------+-----+-------+----------+------------+-------------+------------+------------------+-------------------+-------------------+\n",
            "|        2|2018-07-19 18:00:25|2018-07-23 10:54:16|              1|      7655.76|        1|                 N|           2|     9999.5|  1.0|    0.5|       0.0|         0.0|          0.3|     10001.3|               264|                264|            5333.85|\n",
            "|        2|2018-08-02 12:37:40|2018-08-03 16:35:56|              1|      2408.25|        1|                 N|           2|     6023.0|  0.0|    0.5|       0.0|         0.0|          0.3|      6023.8|               264|                264| 1678.2666666666667|\n",
            "|        2|2018-07-12 16:30:53|2018-07-13 08:06:46|              1|      1818.91|        1|                 N|           2|     4549.5|  1.0|    0.5|       0.0|         0.0|          0.3|      4551.3|               264|                264|  935.8833333333333|\n",
            "|        2|2018-07-24 13:15:40|2018-07-25 09:45:22|              1|      1764.77|        1|                 N|           2|     4414.0|  0.0|    0.5|       0.0|         0.0|          0.3|      4414.8|               264|                264|             1229.7|\n",
            "|        2|2018-08-01 14:37:29|2018-08-02 10:38:30|              1|      1723.45|        1|                 N|           2|     4311.0|  0.0|    0.5|       0.0|         0.0|          0.3|      4311.8|               264|                264| 1201.0166666666667|\n",
            "|        1|2018-05-28 20:28:32|2018-05-28 20:29:00|              2|        910.8|        5|                 N|           2|      300.0|  0.0|    0.0|       0.0|         0.0|          0.3|       300.3|               226|                226| 0.4666666666666667|\n",
            "|        2|2018-07-11 12:36:36|2018-07-11 14:03:51|              1|       753.66|        1|                 N|           2|     1886.5|  0.0|    0.5|       0.0|         0.0|          0.3|      1887.3|               264|                264|              87.25|\n",
            "|        1|2018-06-01 13:43:43|2018-06-01 14:15:37|              1|        606.0|        1|                 N|           1|       25.5|  0.0|    0.5|      5.25|         0.0|          0.3|       31.55|                68|                236|               31.9|\n",
            "|        1|2018-11-20 10:27:33|2018-11-20 11:01:52|              3|        603.6|        1|                 N|           1|       21.5|  0.0|    0.5|      4.45|         0.0|          0.3|       26.75|               237|                114|  34.31666666666667|\n",
            "|        2|2018-07-19 11:03:40|2018-07-19 17:11:31|              1|       528.88|        1|                 N|           2|     1324.5|  0.0|    0.5|       0.0|         0.0|          0.3|      1325.3|               264|                264|             367.85|\n",
            "|        2|2018-08-12 06:48:02|2018-08-12 18:51:02|              1|       380.83|        5|                 N|           2|       0.01|  0.0|    0.0|       0.0|         0.0|          0.3|        0.31|                68|                244|              723.0|\n",
            "|        2|2018-04-09 01:03:22|2018-04-09 01:03:22|              1|       325.28|        5|                 N|           1|       50.0|  0.0|    0.5|       0.0|         0.0|          0.3|        50.8|               265|                168|                0.0|\n",
            "|        1|2018-03-10 03:38:36|2018-03-10 09:13:25|              3|        302.8|        5|                 N|           2|      200.0|  0.0|    0.0|       0.0|       17.26|          0.3|      217.56|               265|                265| 334.81666666666666|\n",
            "|        1|2018-03-10 03:38:36|2018-03-10 09:13:25|              3|        302.8|        5|                 N|           2|      200.0|  0.0|    0.0|       0.0|       17.26|          0.3|      217.56|               265|                265| 334.81666666666666|\n",
            "|        1|2018-03-10 15:10:29|2018-03-10 21:28:55|              3|        301.9|        5|                 N|           2|       0.01|  0.0|    0.0|       0.0|       18.26|          0.3|       18.57|               265|                265| 378.43333333333334|\n",
            "|        1|2018-03-10 15:10:29|2018-03-10 21:28:55|              3|        301.9|        5|                 N|           2|       0.01|  0.0|    0.0|       0.0|       18.26|          0.3|       18.57|               265|                265| 378.43333333333334|\n",
            "|        1|2018-10-18 14:16:24|2018-10-18 14:16:26|              1|        258.0|        3|                 N|           2|    9984.22|  0.0|   21.5|       0.0|         0.0|          0.0|    10005.72|                41|                 41|0.03333333333333333|\n",
            "|        1|2018-04-29 11:40:49|2018-04-29 15:56:56|              1|        248.6|        5|                 N|           2|      400.0|  0.0|    0.0|       0.0|        12.5|          0.3|       412.8|               246|                265|  256.1166666666667|\n",
            "|        1|2018-10-30 09:22:31|2018-10-30 14:32:00|              1|        246.8|        5|                 N|           2|       0.01|  0.0|    0.0|       0.0|       22.02|          0.3|       22.33|               216|                265| 309.48333333333335|\n",
            "|        2|2018-08-11 17:14:29|2018-08-11 21:37:54|              1|       245.06|        5|                 N|           1|      450.0|  0.0|    0.5|       0.0|       15.76|          0.3|      466.56|                93|                265|  263.4166666666667|\n",
            "+---------+-------------------+-------------------+---------------+-------------+---------+------------------+------------+-----------+-----+-------+----------+------------+-------------+------------+------------------+-------------------+-------------------+\n",
            "only showing top 20 rows\n",
            "\n"
          ]
        }
      ]
    },
    {
      "cell_type": "markdown",
      "source": [
        "### Grouping Data"
      ],
      "metadata": {
        "id": "5nJKlUQDiWvE"
      }
    },
    {
      "cell_type": "code",
      "source": [
        "movies.groupBy('status').count().show()"
      ],
      "metadata": {
        "colab": {
          "base_uri": "https://localhost:8080/"
        },
        "id": "MQBnN-GEi4eq",
        "outputId": "7c65555e-64b8-4739-ee5f-f8138753c796"
      },
      "execution_count": null,
      "outputs": [
        {
          "output_type": "stream",
          "name": "stdout",
          "text": [
            "+---------------+-----+\n",
            "|         status|count|\n",
            "+---------------+-----+\n",
            "|          102.0|    1|\n",
            "|        Rumored|  230|\n",
            "|       Released|44941|\n",
            "|              0|    2|\n",
            "|           NULL|  254|\n",
            "|  In Production|   20|\n",
            "|        Planned|   15|\n",
            "|Post Production|   98|\n",
            "|           80.0|    1|\n",
            "|              2|    1|\n",
            "|              7|    1|\n",
            "|          False|    1|\n",
            "|            5.3|    1|\n",
            "|            5.0|    1|\n",
            "|       Canceled|    2|\n",
            "|              1|    2|\n",
            "|            5.5|    1|\n",
            "+---------------+-----+\n",
            "\n"
          ]
        }
      ]
    },
    {
      "cell_type": "code",
      "source": [
        "ratings.groupBy('movieId').avg('rating').show()"
      ],
      "metadata": {
        "colab": {
          "base_uri": "https://localhost:8080/"
        },
        "id": "qsxB74X6ibnE",
        "outputId": "30a3f4ec-cb04-4202-a965-28399bca82b1"
      },
      "execution_count": null,
      "outputs": [
        {
          "output_type": "stream",
          "name": "stdout",
          "text": [
            "+-------+------------------+------------+------------------+\n",
            "|movieId|       avg(userId)|avg(movieId)|       avg(rating)|\n",
            "+-------+------------------+------------+------------------+\n",
            "|   1645| 134904.9219294577|      1645.0| 3.516589990241182|\n",
            "|   1591|134991.07551052715|      1591.0|2.6416020262782967|\n",
            "|   3175|135384.99185989145|      3175.0| 3.586550320670942|\n",
            "|   1580| 135270.7688953144|      1580.0|3.5733178489322874|\n",
            "|  68135|136649.03551251008|     68135.0| 3.097457627118644|\n",
            "|    471|135698.95235752358|       471.0| 3.654817548175482|\n",
            "|   1088| 135915.1576300022|      1088.0| 3.239810636881426|\n",
            "|   1959|  135723.018196995|      1959.0|3.6369782971619364|\n",
            "|   2122|132577.29769911504|      2122.0| 2.634513274336283|\n",
            "|   2866|136129.27872195785|      2866.0|3.6019714479945617|\n",
            "|  36525|134221.50979294907|     36525.0|3.4823726916620035|\n",
            "|   3918|134222.45335176226|      3918.0|2.9595715272978578|\n",
            "|   3997| 132231.3948887057|      3997.0| 2.077287716405606|\n",
            "|   6620|133549.47405093705|      6620.0| 3.789404132628544|\n",
            "|   1238| 134210.6873501199|      1238.0|3.9629796163069546|\n",
            "|   2142|135585.37484737486|      2142.0| 3.038054538054538|\n",
            "|   8638|136895.25329153606|      8638.0|3.9675026123301986|\n",
            "|   2366| 134356.8423180593|      2366.0|3.4740872335211956|\n",
            "|   1342| 134563.3434681783|      1342.0|2.9637979902087093|\n",
            "|   3794|132564.32873563218|      3794.0| 3.250574712643678|\n",
            "+-------+------------------+------------+------------------+\n",
            "only showing top 20 rows\n",
            "\n"
          ]
        }
      ]
    },
    {
      "cell_type": "markdown",
      "source": [
        "### Joining DataFrames"
      ],
      "metadata": {
        "id": "qVsyDwp_jdIT"
      }
    },
    {
      "cell_type": "code",
      "source": [
        "ratings_avg_by_movie = ratings.groupBy('movieId').avg('rating')"
      ],
      "metadata": {
        "id": "_c9C3W12keQp"
      },
      "execution_count": null,
      "outputs": []
    },
    {
      "cell_type": "code",
      "source": [
        "ratings_avg_by_movie.columns"
      ],
      "metadata": {
        "colab": {
          "base_uri": "https://localhost:8080/"
        },
        "id": "-zmJq1wIkzF3",
        "outputId": "bed9c03a-fb22-4b5b-9d25-ecf0e0cf560a"
      },
      "execution_count": null,
      "outputs": [
        {
          "output_type": "execute_result",
          "data": {
            "text/plain": [
              "['movieId', 'avg(userId)', 'avg(movieId)', 'avg(rating)']"
            ]
          },
          "metadata": {},
          "execution_count": 138
        }
      ]
    },
    {
      "cell_type": "code",
      "source": [
        "movies.join(ratings_avg_by_movie, movies.id == ratings.movieId, 'inner').select('title', 'vote_average', 'avg(rating)').show()"
      ],
      "metadata": {
        "colab": {
          "base_uri": "https://localhost:8080/"
        },
        "id": "8vPlsNt-jc1n",
        "outputId": "bfef9216-3f4b-49ef-ca09-c049f75c91bb"
      },
      "execution_count": null,
      "outputs": [
        {
          "output_type": "stream",
          "name": "stdout",
          "text": [
            "+--------------------+------------+------------------+\n",
            "|               title|vote_average|       avg(rating)|\n",
            "+--------------------+------------+------------------+\n",
            "|      A Time to Kill|         7.0| 3.516589990241182|\n",
            "|   Nowhere in Africa|         7.0|2.6416020262782967|\n",
            "|        Barry Lyndon|         7.7| 3.586550320670942|\n",
            "|                Rope|         7.8|3.5733178489322874|\n",
            "|             Bandyta|         6.3| 3.654817548175482|\n",
            "|         Whale Rider|         7.1| 3.239810636881426|\n",
            "|  Swept from the Sea|         6.5|3.6369782971619364|\n",
            "| The Whole Ten Yards|         5.5| 2.634513274336283|\n",
            "|             Sabrina|         7.4| 3.789404132628544|\n",
            "|            Cop Land|         6.6| 3.038054538054538|\n",
            "|            Bandido!|         5.0| 3.294874689546173|\n",
            "|Conversations wit...|         6.4| 3.315129449838188|\n",
            "|The Secret Life o...|         6.8|  2.90994623655914|\n",
            "|    Freddy vs. Jason|         5.8|3.5605381165919283|\n",
            "|          Umberto D.|         8.0|2.7146546158812135|\n",
            "|Borat: Cultural L...|         6.5|3.2919621749408985|\n",
            "|       Little Dorrit|         7.5| 3.697674418604651|\n",
            "|     Just the Ticket|         5.8| 3.779494382022472|\n",
            "|The Story of Adele H|         6.9|3.0827586206896553|\n",
            "|            Girl Shy|         6.9| 2.861111111111111|\n",
            "+--------------------+------------+------------------+\n",
            "only showing top 20 rows\n",
            "\n"
          ]
        }
      ]
    },
    {
      "cell_type": "markdown",
      "source": [
        "### Spark SQL\n",
        "\n",
        "DataFrame and Spark SQL share the same execution engine so they can be interchangeably used seamlessly. For example, you can register the DataFrame as a table and run a SQL easily:"
      ],
      "metadata": {
        "id": "gZT7XuJzjozq"
      }
    },
    {
      "cell_type": "code",
      "source": [
        "taxi.createOrReplaceTempView(\"taxi\")\n",
        "spark.sql(\"SELECT count(*) from taxi\").show()"
      ],
      "metadata": {
        "colab": {
          "base_uri": "https://localhost:8080/"
        },
        "id": "9sPiMKZSjtU2",
        "outputId": "b64c62da-70f9-4aff-e0f4-721feb13d608"
      },
      "execution_count": null,
      "outputs": [
        {
          "output_type": "stream",
          "name": "stdout",
          "text": [
            "+--------+\n",
            "|count(1)|\n",
            "+--------+\n",
            "|10000000|\n",
            "+--------+\n",
            "\n"
          ]
        }
      ]
    },
    {
      "cell_type": "markdown",
      "source": [
        "In addition, UDFs can be registered and invoked in SQL out of the box:"
      ],
      "metadata": {
        "id": "gmCWYSSolXRX"
      }
    },
    {
      "cell_type": "code",
      "source": [
        "@pandas_udf(\"double\")\n",
        "def div(s1: pd.Series, s2: pd.Series) -> pd.Series:\n",
        "    return s1 / s2"
      ],
      "metadata": {
        "id": "IniLwEVglQlL"
      },
      "execution_count": null,
      "outputs": []
    },
    {
      "cell_type": "code",
      "source": [
        "spark.udf.register(\"div\", div)\n",
        "spark.sql(\"SELECT trip_distance, trip_duration, div(trip_distance, trip_duration) AS speed FROM taxi\").show()"
      ],
      "metadata": {
        "colab": {
          "base_uri": "https://localhost:8080/"
        },
        "id": "hJK58EWFlr1j",
        "outputId": "edea1c5f-dc56-497b-fe47-65a5b1755ce3"
      },
      "execution_count": null,
      "outputs": [
        {
          "output_type": "stream",
          "name": "stdout",
          "text": [
            "+-------------+------------------+-------------------+\n",
            "|trip_distance|     trip_duration|              speed|\n",
            "+-------------+------------------+-------------------+\n",
            "|        18.15|              39.8|0.45603015075376885|\n",
            "|         4.59|             38.25|               0.12|\n",
            "|          0.3|               1.1| 0.2727272727272727|\n",
            "|        16.97| 55.28333333333333|0.30696412420862224|\n",
            "|        14.45|              60.8|0.23766447368421054|\n",
            "|         11.6|              59.0| 0.1966101694915254|\n",
            "|          5.8|              26.8|0.21641791044776118|\n",
            "|         3.38| 42.56666666666667|0.07940485512920907|\n",
            "|        16.98| 87.78333333333333|0.19343079551927095|\n",
            "|         4.99|30.166666666666668|0.16541436464088397|\n",
            "|          5.1|43.083333333333336|0.11837524177949708|\n",
            "|          8.7|             34.75| 0.2503597122302158|\n",
            "|        11.11|             75.35|0.14744525547445256|\n",
            "|         9.54|              62.3|0.15313001605136436|\n",
            "|         9.18|52.166666666666664|0.17597444089456868|\n",
            "|          9.8|             84.35| 0.1161825726141079|\n",
            "|          5.8|             51.95|0.11164581328200192|\n",
            "|         10.0| 59.96666666666667|0.16675931072818231|\n",
            "|          9.8|             54.45|0.17998163452708907|\n",
            "|          5.4| 33.86666666666667|0.15944881889763782|\n",
            "+-------------+------------------+-------------------+\n",
            "only showing top 20 rows\n",
            "\n"
          ]
        }
      ]
    },
    {
      "cell_type": "code",
      "source": [
        "taxi.selectExpr(\"div(trip_distance, trip_duration)\").show()"
      ],
      "metadata": {
        "id": "dt9E0TVANyz4"
      },
      "execution_count": null,
      "outputs": []
    },
    {
      "cell_type": "markdown",
      "source": [
        "## Pandas API on Spark\n",
        "\n",
        "Pandas API on Spark, previously known as Koalas, is an API that brings the power and flexibility of the pandas API to Apache Spark. It essentially bridges the gap between pandas and Spark by providing a pandas-like API while leveraging Spark's distributed computing capabilities. This makes it easier for pandas users to scale their data science workflows without major changes to their code."
      ],
      "metadata": {
        "id": "jDKF1z-9prFO"
      }
    },
    {
      "cell_type": "code",
      "source": [
        "import pandas as pd\n",
        "import numpy as np\n",
        "import pyspark.pandas as ps"
      ],
      "metadata": {
        "colab": {
          "base_uri": "https://localhost:8080/"
        },
        "id": "aoQvvgWeptlH",
        "outputId": "3142dca1-885a-40b3-d86f-e8587aa9efff"
      },
      "execution_count": null,
      "outputs": [
        {
          "output_type": "stream",
          "name": "stderr",
          "text": [
            "/content/spark-3.5.0-bin-hadoop3/python/pyspark/pandas/__init__.py:50: UserWarning: 'PYARROW_IGNORE_TIMEZONE' environment variable was not set. It is required to set this environment variable to '1' in both driver and executor sides if you use pyarrow>=2.0.0. pandas-on-Spark will set it for you but it does not work if there is a Spark context already launched.\n",
            "  warnings.warn(\n"
          ]
        }
      ]
    },
    {
      "cell_type": "markdown",
      "source": [
        "Creating a pandas-on-Spark Series and DataFrame:"
      ],
      "metadata": {
        "id": "gh8dew5Kmh4X"
      }
    },
    {
      "cell_type": "code",
      "source": [
        "s = ps.Series([1, 3, 5, np.nan, 6, 8])"
      ],
      "metadata": {
        "id": "oCfXAvRQmfWL"
      },
      "execution_count": null,
      "outputs": []
    },
    {
      "cell_type": "code",
      "source": [
        "s"
      ],
      "metadata": {
        "colab": {
          "base_uri": "https://localhost:8080/"
        },
        "id": "GCt3VAZImnI0",
        "outputId": "57288018-9604-4a8e-e6e8-d323d793b477"
      },
      "execution_count": null,
      "outputs": [
        {
          "output_type": "execute_result",
          "data": {
            "text/plain": [
              "0    1.0\n",
              "1    3.0\n",
              "2    5.0\n",
              "3    NaN\n",
              "4    6.0\n",
              "5    8.0\n",
              "dtype: float64"
            ]
          },
          "metadata": {},
          "execution_count": 146
        }
      ]
    },
    {
      "cell_type": "code",
      "source": [
        "psdf = ps.DataFrame(\n",
        "    {'a': [1, 2, 3, 4, 5, 6],\n",
        "     'b': [100, 200, 300, 400, 500, 600],\n",
        "     'c': [\"one\", \"two\", \"three\", \"four\", \"five\", \"six\"]},\n",
        "    index=[10, 20, 30, 40, 50, 60])"
      ],
      "metadata": {
        "id": "EIDMwEcymoIx"
      },
      "execution_count": null,
      "outputs": []
    },
    {
      "cell_type": "code",
      "source": [
        "psdf"
      ],
      "metadata": {
        "colab": {
          "base_uri": "https://localhost:8080/",
          "height": 238
        },
        "id": "d_VJ75cymwLj",
        "outputId": "a2266d42-41c5-4105-8ceb-1af99bee2d98"
      },
      "execution_count": null,
      "outputs": [
        {
          "output_type": "execute_result",
          "data": {
            "text/plain": [
              "    a    b      c\n",
              "10  1  100    one\n",
              "20  2  200    two\n",
              "30  3  300  three\n",
              "40  4  400   four\n",
              "50  5  500   five\n",
              "60  6  600    six"
            ],
            "text/html": [
              "<div>\n",
              "<style scoped>\n",
              "    .dataframe tbody tr th:only-of-type {\n",
              "        vertical-align: middle;\n",
              "    }\n",
              "\n",
              "    .dataframe tbody tr th {\n",
              "        vertical-align: top;\n",
              "    }\n",
              "\n",
              "    .dataframe thead th {\n",
              "        text-align: right;\n",
              "    }\n",
              "</style>\n",
              "<table border=\"1\" class=\"dataframe\">\n",
              "  <thead>\n",
              "    <tr style=\"text-align: right;\">\n",
              "      <th></th>\n",
              "      <th>a</th>\n",
              "      <th>b</th>\n",
              "      <th>c</th>\n",
              "    </tr>\n",
              "  </thead>\n",
              "  <tbody>\n",
              "    <tr>\n",
              "      <th>10</th>\n",
              "      <td>1</td>\n",
              "      <td>100</td>\n",
              "      <td>one</td>\n",
              "    </tr>\n",
              "    <tr>\n",
              "      <th>20</th>\n",
              "      <td>2</td>\n",
              "      <td>200</td>\n",
              "      <td>two</td>\n",
              "    </tr>\n",
              "    <tr>\n",
              "      <th>30</th>\n",
              "      <td>3</td>\n",
              "      <td>300</td>\n",
              "      <td>three</td>\n",
              "    </tr>\n",
              "    <tr>\n",
              "      <th>40</th>\n",
              "      <td>4</td>\n",
              "      <td>400</td>\n",
              "      <td>four</td>\n",
              "    </tr>\n",
              "    <tr>\n",
              "      <th>50</th>\n",
              "      <td>5</td>\n",
              "      <td>500</td>\n",
              "      <td>five</td>\n",
              "    </tr>\n",
              "    <tr>\n",
              "      <th>60</th>\n",
              "      <td>6</td>\n",
              "      <td>600</td>\n",
              "      <td>six</td>\n",
              "    </tr>\n",
              "  </tbody>\n",
              "</table>\n",
              "</div>"
            ]
          },
          "metadata": {},
          "execution_count": 148
        }
      ]
    },
    {
      "cell_type": "markdown",
      "source": [
        "Creating a pandas DataFrame by passing a numpy array, with a datetime index and labeled columns:"
      ],
      "metadata": {
        "id": "QU7CuTEtnGKE"
      }
    },
    {
      "cell_type": "code",
      "source": [
        "dates = pd.date_range('20130101', periods=6)"
      ],
      "metadata": {
        "id": "QlRrNZo6mw8p"
      },
      "execution_count": null,
      "outputs": []
    },
    {
      "cell_type": "code",
      "source": [
        "dates"
      ],
      "metadata": {
        "colab": {
          "base_uri": "https://localhost:8080/"
        },
        "id": "uRvkdbhkm1jb",
        "outputId": "0546cf2b-d9fc-4817-d5a9-343de5dea234"
      },
      "execution_count": null,
      "outputs": [
        {
          "output_type": "execute_result",
          "data": {
            "text/plain": [
              "DatetimeIndex(['2013-01-01', '2013-01-02', '2013-01-03', '2013-01-04',\n",
              "               '2013-01-05', '2013-01-06'],\n",
              "              dtype='datetime64[ns]', freq='D')"
            ]
          },
          "metadata": {},
          "execution_count": 150
        }
      ]
    },
    {
      "cell_type": "code",
      "source": [
        "pdf = pd.DataFrame(np.random.randn(6, 4), index=dates, columns=list('ABCD'))\n",
        "\n",
        "pdf"
      ],
      "metadata": {
        "colab": {
          "base_uri": "https://localhost:8080/",
          "height": 238
        },
        "id": "d9FvgpQKm146",
        "outputId": "c293b6df-8040-472f-85fc-cada83fe0d99"
      },
      "execution_count": null,
      "outputs": [
        {
          "output_type": "execute_result",
          "data": {
            "text/plain": [
              "                   A         B         C         D\n",
              "2013-01-01 -0.849354  1.132683 -0.593704  0.541636\n",
              "2013-01-02  0.774109  1.616742  0.237702  0.038706\n",
              "2013-01-03  0.065384 -0.818382 -1.470664  1.093742\n",
              "2013-01-04  0.761814  1.144958 -1.477903  0.322859\n",
              "2013-01-05  1.220394 -3.044659 -0.610407 -0.032041\n",
              "2013-01-06 -0.243897 -2.292400 -1.674279  1.067957"
            ],
            "text/html": [
              "\n",
              "  <div id=\"df-b8c299cc-78d4-425d-a255-426c36a773ab\" class=\"colab-df-container\">\n",
              "    <div>\n",
              "<style scoped>\n",
              "    .dataframe tbody tr th:only-of-type {\n",
              "        vertical-align: middle;\n",
              "    }\n",
              "\n",
              "    .dataframe tbody tr th {\n",
              "        vertical-align: top;\n",
              "    }\n",
              "\n",
              "    .dataframe thead th {\n",
              "        text-align: right;\n",
              "    }\n",
              "</style>\n",
              "<table border=\"1\" class=\"dataframe\">\n",
              "  <thead>\n",
              "    <tr style=\"text-align: right;\">\n",
              "      <th></th>\n",
              "      <th>A</th>\n",
              "      <th>B</th>\n",
              "      <th>C</th>\n",
              "      <th>D</th>\n",
              "    </tr>\n",
              "  </thead>\n",
              "  <tbody>\n",
              "    <tr>\n",
              "      <th>2013-01-01</th>\n",
              "      <td>-0.849354</td>\n",
              "      <td>1.132683</td>\n",
              "      <td>-0.593704</td>\n",
              "      <td>0.541636</td>\n",
              "    </tr>\n",
              "    <tr>\n",
              "      <th>2013-01-02</th>\n",
              "      <td>0.774109</td>\n",
              "      <td>1.616742</td>\n",
              "      <td>0.237702</td>\n",
              "      <td>0.038706</td>\n",
              "    </tr>\n",
              "    <tr>\n",
              "      <th>2013-01-03</th>\n",
              "      <td>0.065384</td>\n",
              "      <td>-0.818382</td>\n",
              "      <td>-1.470664</td>\n",
              "      <td>1.093742</td>\n",
              "    </tr>\n",
              "    <tr>\n",
              "      <th>2013-01-04</th>\n",
              "      <td>0.761814</td>\n",
              "      <td>1.144958</td>\n",
              "      <td>-1.477903</td>\n",
              "      <td>0.322859</td>\n",
              "    </tr>\n",
              "    <tr>\n",
              "      <th>2013-01-05</th>\n",
              "      <td>1.220394</td>\n",
              "      <td>-3.044659</td>\n",
              "      <td>-0.610407</td>\n",
              "      <td>-0.032041</td>\n",
              "    </tr>\n",
              "    <tr>\n",
              "      <th>2013-01-06</th>\n",
              "      <td>-0.243897</td>\n",
              "      <td>-2.292400</td>\n",
              "      <td>-1.674279</td>\n",
              "      <td>1.067957</td>\n",
              "    </tr>\n",
              "  </tbody>\n",
              "</table>\n",
              "</div>\n",
              "    <div class=\"colab-df-buttons\">\n",
              "\n",
              "  <div class=\"colab-df-container\">\n",
              "    <button class=\"colab-df-convert\" onclick=\"convertToInteractive('df-b8c299cc-78d4-425d-a255-426c36a773ab')\"\n",
              "            title=\"Convert this dataframe to an interactive table.\"\n",
              "            style=\"display:none;\">\n",
              "\n",
              "  <svg xmlns=\"http://www.w3.org/2000/svg\" height=\"24px\" viewBox=\"0 -960 960 960\">\n",
              "    <path d=\"M120-120v-720h720v720H120Zm60-500h600v-160H180v160Zm220 220h160v-160H400v160Zm0 220h160v-160H400v160ZM180-400h160v-160H180v160Zm440 0h160v-160H620v160ZM180-180h160v-160H180v160Zm440 0h160v-160H620v160Z\"/>\n",
              "  </svg>\n",
              "    </button>\n",
              "\n",
              "  <style>\n",
              "    .colab-df-container {\n",
              "      display:flex;\n",
              "      gap: 12px;\n",
              "    }\n",
              "\n",
              "    .colab-df-convert {\n",
              "      background-color: #E8F0FE;\n",
              "      border: none;\n",
              "      border-radius: 50%;\n",
              "      cursor: pointer;\n",
              "      display: none;\n",
              "      fill: #1967D2;\n",
              "      height: 32px;\n",
              "      padding: 0 0 0 0;\n",
              "      width: 32px;\n",
              "    }\n",
              "\n",
              "    .colab-df-convert:hover {\n",
              "      background-color: #E2EBFA;\n",
              "      box-shadow: 0px 1px 2px rgba(60, 64, 67, 0.3), 0px 1px 3px 1px rgba(60, 64, 67, 0.15);\n",
              "      fill: #174EA6;\n",
              "    }\n",
              "\n",
              "    .colab-df-buttons div {\n",
              "      margin-bottom: 4px;\n",
              "    }\n",
              "\n",
              "    [theme=dark] .colab-df-convert {\n",
              "      background-color: #3B4455;\n",
              "      fill: #D2E3FC;\n",
              "    }\n",
              "\n",
              "    [theme=dark] .colab-df-convert:hover {\n",
              "      background-color: #434B5C;\n",
              "      box-shadow: 0px 1px 3px 1px rgba(0, 0, 0, 0.15);\n",
              "      filter: drop-shadow(0px 1px 2px rgba(0, 0, 0, 0.3));\n",
              "      fill: #FFFFFF;\n",
              "    }\n",
              "  </style>\n",
              "\n",
              "    <script>\n",
              "      const buttonEl =\n",
              "        document.querySelector('#df-b8c299cc-78d4-425d-a255-426c36a773ab button.colab-df-convert');\n",
              "      buttonEl.style.display =\n",
              "        google.colab.kernel.accessAllowed ? 'block' : 'none';\n",
              "\n",
              "      async function convertToInteractive(key) {\n",
              "        const element = document.querySelector('#df-b8c299cc-78d4-425d-a255-426c36a773ab');\n",
              "        const dataTable =\n",
              "          await google.colab.kernel.invokeFunction('convertToInteractive',\n",
              "                                                    [key], {});\n",
              "        if (!dataTable) return;\n",
              "\n",
              "        const docLinkHtml = 'Like what you see? Visit the ' +\n",
              "          '<a target=\"_blank\" href=https://colab.research.google.com/notebooks/data_table.ipynb>data table notebook</a>'\n",
              "          + ' to learn more about interactive tables.';\n",
              "        element.innerHTML = '';\n",
              "        dataTable['output_type'] = 'display_data';\n",
              "        await google.colab.output.renderOutput(dataTable, element);\n",
              "        const docLink = document.createElement('div');\n",
              "        docLink.innerHTML = docLinkHtml;\n",
              "        element.appendChild(docLink);\n",
              "      }\n",
              "    </script>\n",
              "  </div>\n",
              "\n",
              "\n",
              "<div id=\"df-5f49e597-c24a-455e-b4ad-70a04b3d76a7\">\n",
              "  <button class=\"colab-df-quickchart\" onclick=\"quickchart('df-5f49e597-c24a-455e-b4ad-70a04b3d76a7')\"\n",
              "            title=\"Suggest charts.\"\n",
              "            style=\"display:none;\">\n",
              "\n",
              "<svg xmlns=\"http://www.w3.org/2000/svg\" height=\"24px\"viewBox=\"0 0 24 24\"\n",
              "     width=\"24px\">\n",
              "    <g>\n",
              "        <path d=\"M19 3H5c-1.1 0-2 .9-2 2v14c0 1.1.9 2 2 2h14c1.1 0 2-.9 2-2V5c0-1.1-.9-2-2-2zM9 17H7v-7h2v7zm4 0h-2V7h2v10zm4 0h-2v-4h2v4z\"/>\n",
              "    </g>\n",
              "</svg>\n",
              "  </button>\n",
              "\n",
              "<style>\n",
              "  .colab-df-quickchart {\n",
              "      --bg-color: #E8F0FE;\n",
              "      --fill-color: #1967D2;\n",
              "      --hover-bg-color: #E2EBFA;\n",
              "      --hover-fill-color: #174EA6;\n",
              "      --disabled-fill-color: #AAA;\n",
              "      --disabled-bg-color: #DDD;\n",
              "  }\n",
              "\n",
              "  [theme=dark] .colab-df-quickchart {\n",
              "      --bg-color: #3B4455;\n",
              "      --fill-color: #D2E3FC;\n",
              "      --hover-bg-color: #434B5C;\n",
              "      --hover-fill-color: #FFFFFF;\n",
              "      --disabled-bg-color: #3B4455;\n",
              "      --disabled-fill-color: #666;\n",
              "  }\n",
              "\n",
              "  .colab-df-quickchart {\n",
              "    background-color: var(--bg-color);\n",
              "    border: none;\n",
              "    border-radius: 50%;\n",
              "    cursor: pointer;\n",
              "    display: none;\n",
              "    fill: var(--fill-color);\n",
              "    height: 32px;\n",
              "    padding: 0;\n",
              "    width: 32px;\n",
              "  }\n",
              "\n",
              "  .colab-df-quickchart:hover {\n",
              "    background-color: var(--hover-bg-color);\n",
              "    box-shadow: 0 1px 2px rgba(60, 64, 67, 0.3), 0 1px 3px 1px rgba(60, 64, 67, 0.15);\n",
              "    fill: var(--button-hover-fill-color);\n",
              "  }\n",
              "\n",
              "  .colab-df-quickchart-complete:disabled,\n",
              "  .colab-df-quickchart-complete:disabled:hover {\n",
              "    background-color: var(--disabled-bg-color);\n",
              "    fill: var(--disabled-fill-color);\n",
              "    box-shadow: none;\n",
              "  }\n",
              "\n",
              "  .colab-df-spinner {\n",
              "    border: 2px solid var(--fill-color);\n",
              "    border-color: transparent;\n",
              "    border-bottom-color: var(--fill-color);\n",
              "    animation:\n",
              "      spin 1s steps(1) infinite;\n",
              "  }\n",
              "\n",
              "  @keyframes spin {\n",
              "    0% {\n",
              "      border-color: transparent;\n",
              "      border-bottom-color: var(--fill-color);\n",
              "      border-left-color: var(--fill-color);\n",
              "    }\n",
              "    20% {\n",
              "      border-color: transparent;\n",
              "      border-left-color: var(--fill-color);\n",
              "      border-top-color: var(--fill-color);\n",
              "    }\n",
              "    30% {\n",
              "      border-color: transparent;\n",
              "      border-left-color: var(--fill-color);\n",
              "      border-top-color: var(--fill-color);\n",
              "      border-right-color: var(--fill-color);\n",
              "    }\n",
              "    40% {\n",
              "      border-color: transparent;\n",
              "      border-right-color: var(--fill-color);\n",
              "      border-top-color: var(--fill-color);\n",
              "    }\n",
              "    60% {\n",
              "      border-color: transparent;\n",
              "      border-right-color: var(--fill-color);\n",
              "    }\n",
              "    80% {\n",
              "      border-color: transparent;\n",
              "      border-right-color: var(--fill-color);\n",
              "      border-bottom-color: var(--fill-color);\n",
              "    }\n",
              "    90% {\n",
              "      border-color: transparent;\n",
              "      border-bottom-color: var(--fill-color);\n",
              "    }\n",
              "  }\n",
              "</style>\n",
              "\n",
              "  <script>\n",
              "    async function quickchart(key) {\n",
              "      const quickchartButtonEl =\n",
              "        document.querySelector('#' + key + ' button');\n",
              "      quickchartButtonEl.disabled = true;  // To prevent multiple clicks.\n",
              "      quickchartButtonEl.classList.add('colab-df-spinner');\n",
              "      try {\n",
              "        const charts = await google.colab.kernel.invokeFunction(\n",
              "            'suggestCharts', [key], {});\n",
              "      } catch (error) {\n",
              "        console.error('Error during call to suggestCharts:', error);\n",
              "      }\n",
              "      quickchartButtonEl.classList.remove('colab-df-spinner');\n",
              "      quickchartButtonEl.classList.add('colab-df-quickchart-complete');\n",
              "    }\n",
              "    (() => {\n",
              "      let quickchartButtonEl =\n",
              "        document.querySelector('#df-5f49e597-c24a-455e-b4ad-70a04b3d76a7 button');\n",
              "      quickchartButtonEl.style.display =\n",
              "        google.colab.kernel.accessAllowed ? 'block' : 'none';\n",
              "    })();\n",
              "  </script>\n",
              "</div>\n",
              "    </div>\n",
              "  </div>\n"
            ]
          },
          "metadata": {},
          "execution_count": 151
        }
      ]
    },
    {
      "cell_type": "markdown",
      "source": [
        "We can now convert this pandas DataFrame to a pandas-on-Spark DataFrame:"
      ],
      "metadata": {
        "id": "L_pNkyJlnIic"
      }
    },
    {
      "cell_type": "code",
      "source": [
        "psdf = ps.from_pandas(pdf)"
      ],
      "metadata": {
        "id": "XUvOHyKUm4o9"
      },
      "execution_count": null,
      "outputs": []
    },
    {
      "cell_type": "code",
      "source": [
        "type(psdf)"
      ],
      "metadata": {
        "colab": {
          "base_uri": "https://localhost:8080/"
        },
        "id": "UOhlJIDDnNcw",
        "outputId": "63f1cbfb-b7b6-4ef6-8c6b-e24740b309bb"
      },
      "execution_count": null,
      "outputs": [
        {
          "output_type": "execute_result",
          "data": {
            "text/plain": [
              "pyspark.pandas.frame.DataFrame"
            ]
          },
          "metadata": {},
          "execution_count": 153
        }
      ]
    },
    {
      "cell_type": "markdown",
      "source": [
        "It looks and behaves the same as a pandas DataFrame."
      ],
      "metadata": {
        "id": "ufWaiTvlnQg7"
      }
    },
    {
      "cell_type": "code",
      "source": [
        "psdf"
      ],
      "metadata": {
        "colab": {
          "base_uri": "https://localhost:8080/",
          "height": 238
        },
        "id": "d0Ecf517nOGb",
        "outputId": "771eaaa6-c233-46e0-ceff-231c61473acd"
      },
      "execution_count": null,
      "outputs": [
        {
          "output_type": "execute_result",
          "data": {
            "text/plain": [
              "                   A         B         C         D\n",
              "2013-01-01 -0.849354  1.132683 -0.593704  0.541636\n",
              "2013-01-02  0.774109  1.616742  0.237702  0.038706\n",
              "2013-01-03  0.065384 -0.818382 -1.470664  1.093742\n",
              "2013-01-04  0.761814  1.144958 -1.477903  0.322859\n",
              "2013-01-05  1.220394 -3.044659 -0.610407 -0.032041\n",
              "2013-01-06 -0.243897 -2.292400 -1.674279  1.067957"
            ],
            "text/html": [
              "<div>\n",
              "<style scoped>\n",
              "    .dataframe tbody tr th:only-of-type {\n",
              "        vertical-align: middle;\n",
              "    }\n",
              "\n",
              "    .dataframe tbody tr th {\n",
              "        vertical-align: top;\n",
              "    }\n",
              "\n",
              "    .dataframe thead th {\n",
              "        text-align: right;\n",
              "    }\n",
              "</style>\n",
              "<table border=\"1\" class=\"dataframe\">\n",
              "  <thead>\n",
              "    <tr style=\"text-align: right;\">\n",
              "      <th></th>\n",
              "      <th>A</th>\n",
              "      <th>B</th>\n",
              "      <th>C</th>\n",
              "      <th>D</th>\n",
              "    </tr>\n",
              "  </thead>\n",
              "  <tbody>\n",
              "    <tr>\n",
              "      <th>2013-01-01</th>\n",
              "      <td>-0.849354</td>\n",
              "      <td>1.132683</td>\n",
              "      <td>-0.593704</td>\n",
              "      <td>0.541636</td>\n",
              "    </tr>\n",
              "    <tr>\n",
              "      <th>2013-01-02</th>\n",
              "      <td>0.774109</td>\n",
              "      <td>1.616742</td>\n",
              "      <td>0.237702</td>\n",
              "      <td>0.038706</td>\n",
              "    </tr>\n",
              "    <tr>\n",
              "      <th>2013-01-03</th>\n",
              "      <td>0.065384</td>\n",
              "      <td>-0.818382</td>\n",
              "      <td>-1.470664</td>\n",
              "      <td>1.093742</td>\n",
              "    </tr>\n",
              "    <tr>\n",
              "      <th>2013-01-04</th>\n",
              "      <td>0.761814</td>\n",
              "      <td>1.144958</td>\n",
              "      <td>-1.477903</td>\n",
              "      <td>0.322859</td>\n",
              "    </tr>\n",
              "    <tr>\n",
              "      <th>2013-01-05</th>\n",
              "      <td>1.220394</td>\n",
              "      <td>-3.044659</td>\n",
              "      <td>-0.610407</td>\n",
              "      <td>-0.032041</td>\n",
              "    </tr>\n",
              "    <tr>\n",
              "      <th>2013-01-06</th>\n",
              "      <td>-0.243897</td>\n",
              "      <td>-2.292400</td>\n",
              "      <td>-1.674279</td>\n",
              "      <td>1.067957</td>\n",
              "    </tr>\n",
              "  </tbody>\n",
              "</table>\n",
              "</div>"
            ]
          },
          "metadata": {},
          "execution_count": 154
        }
      ]
    },
    {
      "cell_type": "markdown",
      "source": [
        "Creating a Spark DataFrame from pandas DataFrame:"
      ],
      "metadata": {
        "id": "WNecpN-8nV5Y"
      }
    },
    {
      "cell_type": "code",
      "source": [
        "sdf = spark.createDataFrame(pdf)"
      ],
      "metadata": {
        "id": "HQ1mES1dnSov"
      },
      "execution_count": null,
      "outputs": []
    },
    {
      "cell_type": "code",
      "source": [
        "sdf.show()"
      ],
      "metadata": {
        "colab": {
          "base_uri": "https://localhost:8080/"
        },
        "id": "lvk1b0M-oZIY",
        "outputId": "1815d579-9775-4889-a4bd-a39a721c091c"
      },
      "execution_count": null,
      "outputs": [
        {
          "output_type": "stream",
          "name": "stdout",
          "text": [
            "+--------------------+-------------------+-------------------+--------------------+\n",
            "|                   A|                  B|                  C|                   D|\n",
            "+--------------------+-------------------+-------------------+--------------------+\n",
            "|  -0.849354141497232| 1.1326828542962915|-0.5937037123057656|  0.5416363658757078|\n",
            "|  0.7741092715165545| 1.6167420809940225|0.23770232918898707| 0.03870622546020574|\n",
            "| 0.06538398171049163|  -0.81838159335598| -1.470664333687929|  1.0937422772334435|\n",
            "|  0.7618142386150303| 1.1449578529291196| -1.477902587004969| 0.32285942407497537|\n",
            "|  1.2203943063559886|-3.0446589256843066|-0.6104071175874809|-0.03204093987402845|\n",
            "|-0.24389731969780395|-2.2923997223536627|-1.6742786839312185|   1.067956560410411|\n",
            "+--------------------+-------------------+-------------------+--------------------+\n",
            "\n"
          ]
        }
      ]
    },
    {
      "cell_type": "markdown",
      "source": [
        "Also, it is possible to create a pandas-on-Spark DataFrame from Spark DataFrame easily."
      ],
      "metadata": {
        "id": "QQEPMBU8oYq6"
      }
    },
    {
      "cell_type": "code",
      "source": [
        "psdf = sdf.pandas_api()\n",
        "\n",
        "psdf"
      ],
      "metadata": {
        "colab": {
          "base_uri": "https://localhost:8080/",
          "height": 238
        },
        "id": "jeJBEtPtoXVb",
        "outputId": "c1554971-0795-417e-edad-b165f6907a2e"
      },
      "execution_count": null,
      "outputs": [
        {
          "output_type": "execute_result",
          "data": {
            "text/plain": [
              "          A         B         C         D\n",
              "0 -0.849354  1.132683 -0.593704  0.541636\n",
              "1  0.774109  1.616742  0.237702  0.038706\n",
              "2  0.065384 -0.818382 -1.470664  1.093742\n",
              "3  0.761814  1.144958 -1.477903  0.322859\n",
              "4  1.220394 -3.044659 -0.610407 -0.032041\n",
              "5 -0.243897 -2.292400 -1.674279  1.067957"
            ],
            "text/html": [
              "<div>\n",
              "<style scoped>\n",
              "    .dataframe tbody tr th:only-of-type {\n",
              "        vertical-align: middle;\n",
              "    }\n",
              "\n",
              "    .dataframe tbody tr th {\n",
              "        vertical-align: top;\n",
              "    }\n",
              "\n",
              "    .dataframe thead th {\n",
              "        text-align: right;\n",
              "    }\n",
              "</style>\n",
              "<table border=\"1\" class=\"dataframe\">\n",
              "  <thead>\n",
              "    <tr style=\"text-align: right;\">\n",
              "      <th></th>\n",
              "      <th>A</th>\n",
              "      <th>B</th>\n",
              "      <th>C</th>\n",
              "      <th>D</th>\n",
              "    </tr>\n",
              "  </thead>\n",
              "  <tbody>\n",
              "    <tr>\n",
              "      <th>0</th>\n",
              "      <td>-0.849354</td>\n",
              "      <td>1.132683</td>\n",
              "      <td>-0.593704</td>\n",
              "      <td>0.541636</td>\n",
              "    </tr>\n",
              "    <tr>\n",
              "      <th>1</th>\n",
              "      <td>0.774109</td>\n",
              "      <td>1.616742</td>\n",
              "      <td>0.237702</td>\n",
              "      <td>0.038706</td>\n",
              "    </tr>\n",
              "    <tr>\n",
              "      <th>2</th>\n",
              "      <td>0.065384</td>\n",
              "      <td>-0.818382</td>\n",
              "      <td>-1.470664</td>\n",
              "      <td>1.093742</td>\n",
              "    </tr>\n",
              "    <tr>\n",
              "      <th>3</th>\n",
              "      <td>0.761814</td>\n",
              "      <td>1.144958</td>\n",
              "      <td>-1.477903</td>\n",
              "      <td>0.322859</td>\n",
              "    </tr>\n",
              "    <tr>\n",
              "      <th>4</th>\n",
              "      <td>1.220394</td>\n",
              "      <td>-3.044659</td>\n",
              "      <td>-0.610407</td>\n",
              "      <td>-0.032041</td>\n",
              "    </tr>\n",
              "    <tr>\n",
              "      <th>5</th>\n",
              "      <td>-0.243897</td>\n",
              "      <td>-2.292400</td>\n",
              "      <td>-1.674279</td>\n",
              "      <td>1.067957</td>\n",
              "    </tr>\n",
              "  </tbody>\n",
              "</table>\n",
              "</div>"
            ]
          },
          "metadata": {},
          "execution_count": 157
        }
      ]
    },
    {
      "cell_type": "code",
      "source": [
        "psdf.plot()"
      ],
      "metadata": {
        "colab": {
          "base_uri": "https://localhost:8080/",
          "height": 542
        },
        "id": "JTfOr5aJohVP",
        "outputId": "b1be6093-db87-4eca-ac0c-af62aa9aae07"
      },
      "execution_count": null,
      "outputs": [
        {
          "output_type": "display_data",
          "data": {
            "text/html": [
              "<html>\n",
              "<head><meta charset=\"utf-8\" /></head>\n",
              "<body>\n",
              "    <div>            <script src=\"https://cdnjs.cloudflare.com/ajax/libs/mathjax/2.7.5/MathJax.js?config=TeX-AMS-MML_SVG\"></script><script type=\"text/javascript\">if (window.MathJax && window.MathJax.Hub && window.MathJax.Hub.Config) {window.MathJax.Hub.Config({SVG: {font: \"STIX-Web\"}});}</script>                <script type=\"text/javascript\">window.PlotlyConfig = {MathJaxConfig: 'local'};</script>\n",
              "        <script charset=\"utf-8\" src=\"https://cdn.plot.ly/plotly-2.24.1.min.js\"></script>                <div id=\"3c390a0b-535f-4ae5-b785-78a874393ef3\" class=\"plotly-graph-div\" style=\"height:525px; width:100%;\"></div>            <script type=\"text/javascript\">                                    window.PLOTLYENV=window.PLOTLYENV || {};                                    if (document.getElementById(\"3c390a0b-535f-4ae5-b785-78a874393ef3\")) {                    Plotly.newPlot(                        \"3c390a0b-535f-4ae5-b785-78a874393ef3\",                        [{\"hovertemplate\":\"variable=A\\u003cbr\\u003eindex=%{x}\\u003cbr\\u003evalue=%{y}\\u003cextra\\u003e\\u003c\\u002fextra\\u003e\",\"legendgroup\":\"A\",\"line\":{\"color\":\"#636efa\",\"dash\":\"solid\"},\"marker\":{\"symbol\":\"circle\"},\"mode\":\"lines\",\"name\":\"A\",\"orientation\":\"v\",\"showlegend\":true,\"x\":[0,1,2,3,4,5],\"xaxis\":\"x\",\"y\":[-0.849354141497232,0.7741092715165545,0.06538398171049163,0.7618142386150303,1.2203943063559886,-0.24389731969780395],\"yaxis\":\"y\",\"type\":\"scatter\"},{\"hovertemplate\":\"variable=B\\u003cbr\\u003eindex=%{x}\\u003cbr\\u003evalue=%{y}\\u003cextra\\u003e\\u003c\\u002fextra\\u003e\",\"legendgroup\":\"B\",\"line\":{\"color\":\"#EF553B\",\"dash\":\"solid\"},\"marker\":{\"symbol\":\"circle\"},\"mode\":\"lines\",\"name\":\"B\",\"orientation\":\"v\",\"showlegend\":true,\"x\":[0,1,2,3,4,5],\"xaxis\":\"x\",\"y\":[1.1326828542962915,1.6167420809940225,-0.81838159335598,1.1449578529291196,-3.0446589256843066,-2.2923997223536627],\"yaxis\":\"y\",\"type\":\"scatter\"},{\"hovertemplate\":\"variable=C\\u003cbr\\u003eindex=%{x}\\u003cbr\\u003evalue=%{y}\\u003cextra\\u003e\\u003c\\u002fextra\\u003e\",\"legendgroup\":\"C\",\"line\":{\"color\":\"#00cc96\",\"dash\":\"solid\"},\"marker\":{\"symbol\":\"circle\"},\"mode\":\"lines\",\"name\":\"C\",\"orientation\":\"v\",\"showlegend\":true,\"x\":[0,1,2,3,4,5],\"xaxis\":\"x\",\"y\":[-0.5937037123057656,0.23770232918898707,-1.470664333687929,-1.477902587004969,-0.6104071175874809,-1.6742786839312185],\"yaxis\":\"y\",\"type\":\"scatter\"},{\"hovertemplate\":\"variable=D\\u003cbr\\u003eindex=%{x}\\u003cbr\\u003evalue=%{y}\\u003cextra\\u003e\\u003c\\u002fextra\\u003e\",\"legendgroup\":\"D\",\"line\":{\"color\":\"#ab63fa\",\"dash\":\"solid\"},\"marker\":{\"symbol\":\"circle\"},\"mode\":\"lines\",\"name\":\"D\",\"orientation\":\"v\",\"showlegend\":true,\"x\":[0,1,2,3,4,5],\"xaxis\":\"x\",\"y\":[0.5416363658757078,0.03870622546020574,1.0937422772334435,0.32285942407497537,-0.03204093987402845,1.067956560410411],\"yaxis\":\"y\",\"type\":\"scatter\"}],                        {\"template\":{\"data\":{\"histogram2dcontour\":[{\"type\":\"histogram2dcontour\",\"colorbar\":{\"outlinewidth\":0,\"ticks\":\"\"},\"colorscale\":[[0.0,\"#0d0887\"],[0.1111111111111111,\"#46039f\"],[0.2222222222222222,\"#7201a8\"],[0.3333333333333333,\"#9c179e\"],[0.4444444444444444,\"#bd3786\"],[0.5555555555555556,\"#d8576b\"],[0.6666666666666666,\"#ed7953\"],[0.7777777777777778,\"#fb9f3a\"],[0.8888888888888888,\"#fdca26\"],[1.0,\"#f0f921\"]]}],\"choropleth\":[{\"type\":\"choropleth\",\"colorbar\":{\"outlinewidth\":0,\"ticks\":\"\"}}],\"histogram2d\":[{\"type\":\"histogram2d\",\"colorbar\":{\"outlinewidth\":0,\"ticks\":\"\"},\"colorscale\":[[0.0,\"#0d0887\"],[0.1111111111111111,\"#46039f\"],[0.2222222222222222,\"#7201a8\"],[0.3333333333333333,\"#9c179e\"],[0.4444444444444444,\"#bd3786\"],[0.5555555555555556,\"#d8576b\"],[0.6666666666666666,\"#ed7953\"],[0.7777777777777778,\"#fb9f3a\"],[0.8888888888888888,\"#fdca26\"],[1.0,\"#f0f921\"]]}],\"heatmap\":[{\"type\":\"heatmap\",\"colorbar\":{\"outlinewidth\":0,\"ticks\":\"\"},\"colorscale\":[[0.0,\"#0d0887\"],[0.1111111111111111,\"#46039f\"],[0.2222222222222222,\"#7201a8\"],[0.3333333333333333,\"#9c179e\"],[0.4444444444444444,\"#bd3786\"],[0.5555555555555556,\"#d8576b\"],[0.6666666666666666,\"#ed7953\"],[0.7777777777777778,\"#fb9f3a\"],[0.8888888888888888,\"#fdca26\"],[1.0,\"#f0f921\"]]}],\"heatmapgl\":[{\"type\":\"heatmapgl\",\"colorbar\":{\"outlinewidth\":0,\"ticks\":\"\"},\"colorscale\":[[0.0,\"#0d0887\"],[0.1111111111111111,\"#46039f\"],[0.2222222222222222,\"#7201a8\"],[0.3333333333333333,\"#9c179e\"],[0.4444444444444444,\"#bd3786\"],[0.5555555555555556,\"#d8576b\"],[0.6666666666666666,\"#ed7953\"],[0.7777777777777778,\"#fb9f3a\"],[0.8888888888888888,\"#fdca26\"],[1.0,\"#f0f921\"]]}],\"contourcarpet\":[{\"type\":\"contourcarpet\",\"colorbar\":{\"outlinewidth\":0,\"ticks\":\"\"}}],\"contour\":[{\"type\":\"contour\",\"colorbar\":{\"outlinewidth\":0,\"ticks\":\"\"},\"colorscale\":[[0.0,\"#0d0887\"],[0.1111111111111111,\"#46039f\"],[0.2222222222222222,\"#7201a8\"],[0.3333333333333333,\"#9c179e\"],[0.4444444444444444,\"#bd3786\"],[0.5555555555555556,\"#d8576b\"],[0.6666666666666666,\"#ed7953\"],[0.7777777777777778,\"#fb9f3a\"],[0.8888888888888888,\"#fdca26\"],[1.0,\"#f0f921\"]]}],\"surface\":[{\"type\":\"surface\",\"colorbar\":{\"outlinewidth\":0,\"ticks\":\"\"},\"colorscale\":[[0.0,\"#0d0887\"],[0.1111111111111111,\"#46039f\"],[0.2222222222222222,\"#7201a8\"],[0.3333333333333333,\"#9c179e\"],[0.4444444444444444,\"#bd3786\"],[0.5555555555555556,\"#d8576b\"],[0.6666666666666666,\"#ed7953\"],[0.7777777777777778,\"#fb9f3a\"],[0.8888888888888888,\"#fdca26\"],[1.0,\"#f0f921\"]]}],\"mesh3d\":[{\"type\":\"mesh3d\",\"colorbar\":{\"outlinewidth\":0,\"ticks\":\"\"}}],\"scatter\":[{\"fillpattern\":{\"fillmode\":\"overlay\",\"size\":10,\"solidity\":0.2},\"type\":\"scatter\"}],\"parcoords\":[{\"type\":\"parcoords\",\"line\":{\"colorbar\":{\"outlinewidth\":0,\"ticks\":\"\"}}}],\"scatterpolargl\":[{\"type\":\"scatterpolargl\",\"marker\":{\"colorbar\":{\"outlinewidth\":0,\"ticks\":\"\"}}}],\"bar\":[{\"error_x\":{\"color\":\"#2a3f5f\"},\"error_y\":{\"color\":\"#2a3f5f\"},\"marker\":{\"line\":{\"color\":\"#E5ECF6\",\"width\":0.5},\"pattern\":{\"fillmode\":\"overlay\",\"size\":10,\"solidity\":0.2}},\"type\":\"bar\"}],\"scattergeo\":[{\"type\":\"scattergeo\",\"marker\":{\"colorbar\":{\"outlinewidth\":0,\"ticks\":\"\"}}}],\"scatterpolar\":[{\"type\":\"scatterpolar\",\"marker\":{\"colorbar\":{\"outlinewidth\":0,\"ticks\":\"\"}}}],\"histogram\":[{\"marker\":{\"pattern\":{\"fillmode\":\"overlay\",\"size\":10,\"solidity\":0.2}},\"type\":\"histogram\"}],\"scattergl\":[{\"type\":\"scattergl\",\"marker\":{\"colorbar\":{\"outlinewidth\":0,\"ticks\":\"\"}}}],\"scatter3d\":[{\"type\":\"scatter3d\",\"line\":{\"colorbar\":{\"outlinewidth\":0,\"ticks\":\"\"}},\"marker\":{\"colorbar\":{\"outlinewidth\":0,\"ticks\":\"\"}}}],\"scattermapbox\":[{\"type\":\"scattermapbox\",\"marker\":{\"colorbar\":{\"outlinewidth\":0,\"ticks\":\"\"}}}],\"scatterternary\":[{\"type\":\"scatterternary\",\"marker\":{\"colorbar\":{\"outlinewidth\":0,\"ticks\":\"\"}}}],\"scattercarpet\":[{\"type\":\"scattercarpet\",\"marker\":{\"colorbar\":{\"outlinewidth\":0,\"ticks\":\"\"}}}],\"carpet\":[{\"aaxis\":{\"endlinecolor\":\"#2a3f5f\",\"gridcolor\":\"white\",\"linecolor\":\"white\",\"minorgridcolor\":\"white\",\"startlinecolor\":\"#2a3f5f\"},\"baxis\":{\"endlinecolor\":\"#2a3f5f\",\"gridcolor\":\"white\",\"linecolor\":\"white\",\"minorgridcolor\":\"white\",\"startlinecolor\":\"#2a3f5f\"},\"type\":\"carpet\"}],\"table\":[{\"cells\":{\"fill\":{\"color\":\"#EBF0F8\"},\"line\":{\"color\":\"white\"}},\"header\":{\"fill\":{\"color\":\"#C8D4E3\"},\"line\":{\"color\":\"white\"}},\"type\":\"table\"}],\"barpolar\":[{\"marker\":{\"line\":{\"color\":\"#E5ECF6\",\"width\":0.5},\"pattern\":{\"fillmode\":\"overlay\",\"size\":10,\"solidity\":0.2}},\"type\":\"barpolar\"}],\"pie\":[{\"automargin\":true,\"type\":\"pie\"}]},\"layout\":{\"autotypenumbers\":\"strict\",\"colorway\":[\"#636efa\",\"#EF553B\",\"#00cc96\",\"#ab63fa\",\"#FFA15A\",\"#19d3f3\",\"#FF6692\",\"#B6E880\",\"#FF97FF\",\"#FECB52\"],\"font\":{\"color\":\"#2a3f5f\"},\"hovermode\":\"closest\",\"hoverlabel\":{\"align\":\"left\"},\"paper_bgcolor\":\"white\",\"plot_bgcolor\":\"#E5ECF6\",\"polar\":{\"bgcolor\":\"#E5ECF6\",\"angularaxis\":{\"gridcolor\":\"white\",\"linecolor\":\"white\",\"ticks\":\"\"},\"radialaxis\":{\"gridcolor\":\"white\",\"linecolor\":\"white\",\"ticks\":\"\"}},\"ternary\":{\"bgcolor\":\"#E5ECF6\",\"aaxis\":{\"gridcolor\":\"white\",\"linecolor\":\"white\",\"ticks\":\"\"},\"baxis\":{\"gridcolor\":\"white\",\"linecolor\":\"white\",\"ticks\":\"\"},\"caxis\":{\"gridcolor\":\"white\",\"linecolor\":\"white\",\"ticks\":\"\"}},\"coloraxis\":{\"colorbar\":{\"outlinewidth\":0,\"ticks\":\"\"}},\"colorscale\":{\"sequential\":[[0.0,\"#0d0887\"],[0.1111111111111111,\"#46039f\"],[0.2222222222222222,\"#7201a8\"],[0.3333333333333333,\"#9c179e\"],[0.4444444444444444,\"#bd3786\"],[0.5555555555555556,\"#d8576b\"],[0.6666666666666666,\"#ed7953\"],[0.7777777777777778,\"#fb9f3a\"],[0.8888888888888888,\"#fdca26\"],[1.0,\"#f0f921\"]],\"sequentialminus\":[[0.0,\"#0d0887\"],[0.1111111111111111,\"#46039f\"],[0.2222222222222222,\"#7201a8\"],[0.3333333333333333,\"#9c179e\"],[0.4444444444444444,\"#bd3786\"],[0.5555555555555556,\"#d8576b\"],[0.6666666666666666,\"#ed7953\"],[0.7777777777777778,\"#fb9f3a\"],[0.8888888888888888,\"#fdca26\"],[1.0,\"#f0f921\"]],\"diverging\":[[0,\"#8e0152\"],[0.1,\"#c51b7d\"],[0.2,\"#de77ae\"],[0.3,\"#f1b6da\"],[0.4,\"#fde0ef\"],[0.5,\"#f7f7f7\"],[0.6,\"#e6f5d0\"],[0.7,\"#b8e186\"],[0.8,\"#7fbc41\"],[0.9,\"#4d9221\"],[1,\"#276419\"]]},\"xaxis\":{\"gridcolor\":\"white\",\"linecolor\":\"white\",\"ticks\":\"\",\"title\":{\"standoff\":15},\"zerolinecolor\":\"white\",\"automargin\":true,\"zerolinewidth\":2},\"yaxis\":{\"gridcolor\":\"white\",\"linecolor\":\"white\",\"ticks\":\"\",\"title\":{\"standoff\":15},\"zerolinecolor\":\"white\",\"automargin\":true,\"zerolinewidth\":2},\"scene\":{\"xaxis\":{\"backgroundcolor\":\"#E5ECF6\",\"gridcolor\":\"white\",\"linecolor\":\"white\",\"showbackground\":true,\"ticks\":\"\",\"zerolinecolor\":\"white\",\"gridwidth\":2},\"yaxis\":{\"backgroundcolor\":\"#E5ECF6\",\"gridcolor\":\"white\",\"linecolor\":\"white\",\"showbackground\":true,\"ticks\":\"\",\"zerolinecolor\":\"white\",\"gridwidth\":2},\"zaxis\":{\"backgroundcolor\":\"#E5ECF6\",\"gridcolor\":\"white\",\"linecolor\":\"white\",\"showbackground\":true,\"ticks\":\"\",\"zerolinecolor\":\"white\",\"gridwidth\":2}},\"shapedefaults\":{\"line\":{\"color\":\"#2a3f5f\"}},\"annotationdefaults\":{\"arrowcolor\":\"#2a3f5f\",\"arrowhead\":0,\"arrowwidth\":1},\"geo\":{\"bgcolor\":\"white\",\"landcolor\":\"#E5ECF6\",\"subunitcolor\":\"white\",\"showland\":true,\"showlakes\":true,\"lakecolor\":\"white\"},\"title\":{\"x\":0.05},\"mapbox\":{\"style\":\"light\"}}},\"xaxis\":{\"anchor\":\"y\",\"domain\":[0.0,1.0],\"title\":{\"text\":\"index\"}},\"yaxis\":{\"anchor\":\"x\",\"domain\":[0.0,1.0],\"title\":{\"text\":\"value\"}},\"legend\":{\"title\":{\"text\":\"variable\"},\"tracegroupgap\":0},\"margin\":{\"t\":60}},                        {\"responsive\": true}                    ).then(function(){\n",
              "                            \n",
              "var gd = document.getElementById('3c390a0b-535f-4ae5-b785-78a874393ef3');\n",
              "var x = new MutationObserver(function (mutations, observer) {{\n",
              "        var display = window.getComputedStyle(gd).display;\n",
              "        if (!display || display === 'none') {{\n",
              "            console.log([gd, 'removed!']);\n",
              "            Plotly.purge(gd);\n",
              "            observer.disconnect();\n",
              "        }}\n",
              "}});\n",
              "\n",
              "// Listen for the removal of the full notebook cells\n",
              "var notebookContainer = gd.closest('#notebook-container');\n",
              "if (notebookContainer) {{\n",
              "    x.observe(notebookContainer, {childList: true});\n",
              "}}\n",
              "\n",
              "// Listen for the clearing of the current output cell\n",
              "var outputEl = gd.closest('.output');\n",
              "if (outputEl) {{\n",
              "    x.observe(outputEl, {childList: true});\n",
              "}}\n",
              "\n",
              "                        })                };                            </script>        </div>\n",
              "</body>\n",
              "</html>"
            ]
          },
          "metadata": {}
        }
      ]
    },
    {
      "cell_type": "code",
      "source": [
        "pdf.plot()"
      ],
      "metadata": {
        "colab": {
          "base_uri": "https://localhost:8080/",
          "height": 479
        },
        "id": "_POpNtaDo7Ad",
        "outputId": "d4c6f7c9-c727-4eb4-b227-6eb5b8da1e62"
      },
      "execution_count": null,
      "outputs": [
        {
          "output_type": "execute_result",
          "data": {
            "text/plain": [
              "<Axes: >"
            ]
          },
          "metadata": {},
          "execution_count": 159
        },
        {
          "output_type": "display_data",
          "data": {
            "text/plain": [
              "<Figure size 640x480 with 1 Axes>"
            ],
            "image/png": "[encoded data removed]"
          },
          "metadata": {}
        }
      ]
    }
  ]
}